{
 "cells": [
  {
   "cell_type": "code",
   "execution_count": 2,
   "id": "94f561f9",
   "metadata": {},
   "outputs": [],
   "source": [
    "import pandas as pd\n",
    "import numpy as np\n",
    "\n",
    "from sklearn.metrics import recall_score\n",
    "from sklearn.metrics import roc_auc_score\n",
    "from sklearn.metrics import confusion_matrix\n",
    "\n",
    "from sklearn.linear_model import LogisticRegression\n",
    "from sklearn.neighbors import KNeighborsClassifier\n",
    "from sklearn.svm import SVC\n",
    "from sklearn.tree import DecisionTreeClassifier\n",
    "from sklearn.ensemble import RandomForestClassifier\n",
    "from sklearn.ensemble import GradientBoostingClassifier\n",
    "from xgboost import XGBClassifier\n",
    "from sklearn.ensemble import AdaBoostClassifier\n",
    "from catboost import CatBoostClassifier\n",
    "\n",
    "from sklearn.model_selection import GridSearchCV\n",
    "from sklearn.model_selection import RandomizedSearchCV\n",
    "\n",
    "import matplotlib.pyplot as plt\n",
    "import seaborn as sns\n",
    "\n",
    "import warnings\n",
    "warnings.filterwarnings('ignore')"
   ]
  },
  {
   "cell_type": "markdown",
   "id": "b7cc09a0",
   "metadata": {},
   "source": [
    "# Evaluation Metrics"
   ]
  },
  {
   "cell_type": "markdown",
   "id": "19a8b665",
   "metadata": {},
   "source": [
    "Pada kasus Ecommerce churn prediction ini, kami menggunakan **Recall** sebagai metrics utama karena tujuan utama dari prediksi model ini adalah mencegah customer untuk churn jika ia terdeteksi churn, maka dari itu dengan metrics recall prediksi kami dapat berfokus sebanyak-banyaknya customer yang berpotensi untuk churn untuk mencegah mereka untuk churn.\n",
    "\n",
    "Customer yang diprediksi akan churn akan diberikan kupon atau penawaran spesial agar mereka tidak churn, namun karena dataset ini mempunyai target yang imbalance, untuk mencegah memberikan terlalu banyak kupon kepada customer yang tidak berpotensi churn maka kami akan memakai metrics **ROC_AUC** sebagai tambahan."
   ]
  },
  {
   "cell_type": "markdown",
   "id": "1924173d",
   "metadata": {},
   "source": [
    "# Read Dataset"
   ]
  },
  {
   "cell_type": "code",
   "execution_count": 3,
   "id": "0badb32a",
   "metadata": {},
   "outputs": [
    {
     "name": "stdout",
     "output_type": "stream",
     "text": [
      "E Commerce Dataset.xlsx\r\n",
      "\u001b[34mGuidance\u001b[m\u001b[m/\r\n",
      "Laporan Final Project - Ghoib CC.pptx\r\n",
      "Laporan Final Project - Stage 3.pptx\r\n",
      "Pandas Profiling.html\r\n",
      "README.md\r\n",
      "Stage 0 (Problem Definition).ipynb\r\n",
      "Stage 0 - Notulen Mentoring.pptx\r\n",
      "\u001b[34mStage 1\u001b[m\u001b[m/\r\n",
      "Stage 1 (EDA).ipynb\r\n",
      "Stage 1 - Notulen Mentoring.pptx\r\n",
      "\u001b[34mStage 2\u001b[m\u001b[m/\r\n",
      "Stage 2 (Data Preprocessing) - Without outlier.ipynb\r\n",
      "Stage 2 (Data Preprocessing).ipynb\r\n",
      "Stage 2 - Intellegend.zip\r\n",
      "Stage 2 - Notulen Mentoring.pptx\r\n",
      "\u001b[34mStage 3\u001b[m\u001b[m/\r\n",
      "Stage 3 (Modelling) - Removed outlier.ipynb\r\n",
      "Stage 3 (Modelling).ipynb\r\n",
      "Stage 3 - Notulen Mentoring.pptx\r\n",
      "\u001b[34mcatboost_info\u001b[m\u001b[m/\r\n",
      "df_test.csv\r\n",
      "df_test_2.csv\r\n",
      "df_train.csv\r\n",
      "df_train_2.csv\r\n"
     ]
    }
   ],
   "source": [
    "ls"
   ]
  },
  {
   "cell_type": "code",
   "execution_count": 4,
   "id": "0a69cfe4",
   "metadata": {},
   "outputs": [],
   "source": [
    "df_train = pd.read_csv('df_train_2.csv')\n",
    "df_test = pd.read_csv('df_test_2.csv')"
   ]
  },
  {
   "cell_type": "code",
   "execution_count": 5,
   "id": "2058a2a6",
   "metadata": {},
   "outputs": [
    {
     "data": {
      "text/plain": [
       "Tenure                                   0\n",
       "PreferredLoginDevice                     0\n",
       "CityTier                                 0\n",
       "WarehouseToHome                          0\n",
       "Gender                                   0\n",
       "HourSpendOnApp                           0\n",
       "NumberOfDeviceRegistered                 0\n",
       "SatisfactionScore                        0\n",
       "NumberOfAddress                          0\n",
       "Complain                                 0\n",
       "OrderAmountHikeFromlastYear              0\n",
       "OrderCount                               0\n",
       "DaySinceLastOrder                        0\n",
       "CashbackAmount                           0\n",
       "PreferredPaymentMode_Cash on Delivery    0\n",
       "PreferredPaymentMode_Credit Card         0\n",
       "PreferredPaymentMode_Debit Card          0\n",
       "PreferredPaymentMode_E wallet            0\n",
       "PreferredPaymentMode_UPI                 0\n",
       "PreferedOrderCat_Fashion                 0\n",
       "PreferedOrderCat_Grocery                 0\n",
       "PreferedOrderCat_Laptop & Accessory      0\n",
       "PreferedOrderCat_Mobile                  0\n",
       "PreferedOrderCat_Mobile Phone            0\n",
       "PreferedOrderCat_Others                  0\n",
       "MaritalStatus_Divorced                   0\n",
       "MaritalStatus_Married                    0\n",
       "MaritalStatus_Single                     0\n",
       "Churn                                    0\n",
       "dtype: int64"
      ]
     },
     "execution_count": 5,
     "metadata": {},
     "output_type": "execute_result"
    }
   ],
   "source": [
    "df_train.isna().sum()"
   ]
  },
  {
   "cell_type": "code",
   "execution_count": 6,
   "id": "df568436",
   "metadata": {},
   "outputs": [
    {
     "data": {
      "text/html": [
       "<div>\n",
       "<style scoped>\n",
       "    .dataframe tbody tr th:only-of-type {\n",
       "        vertical-align: middle;\n",
       "    }\n",
       "\n",
       "    .dataframe tbody tr th {\n",
       "        vertical-align: top;\n",
       "    }\n",
       "\n",
       "    .dataframe thead th {\n",
       "        text-align: right;\n",
       "    }\n",
       "</style>\n",
       "<table border=\"1\" class=\"dataframe\">\n",
       "  <thead>\n",
       "    <tr style=\"text-align: right;\">\n",
       "      <th></th>\n",
       "      <th>Tenure</th>\n",
       "      <th>PreferredLoginDevice</th>\n",
       "      <th>CityTier</th>\n",
       "      <th>WarehouseToHome</th>\n",
       "      <th>Gender</th>\n",
       "      <th>HourSpendOnApp</th>\n",
       "      <th>NumberOfDeviceRegistered</th>\n",
       "      <th>SatisfactionScore</th>\n",
       "      <th>NumberOfAddress</th>\n",
       "      <th>Complain</th>\n",
       "      <th>...</th>\n",
       "      <th>PreferedOrderCat_Fashion</th>\n",
       "      <th>PreferedOrderCat_Grocery</th>\n",
       "      <th>PreferedOrderCat_Laptop &amp; Accessory</th>\n",
       "      <th>PreferedOrderCat_Mobile</th>\n",
       "      <th>PreferedOrderCat_Mobile Phone</th>\n",
       "      <th>PreferedOrderCat_Others</th>\n",
       "      <th>MaritalStatus_Divorced</th>\n",
       "      <th>MaritalStatus_Married</th>\n",
       "      <th>MaritalStatus_Single</th>\n",
       "      <th>Churn</th>\n",
       "    </tr>\n",
       "  </thead>\n",
       "  <tbody>\n",
       "    <tr>\n",
       "      <th>0</th>\n",
       "      <td>0.083451</td>\n",
       "      <td>0.0</td>\n",
       "      <td>0.0</td>\n",
       "      <td>0.500134</td>\n",
       "      <td>1.0</td>\n",
       "      <td>0.515888</td>\n",
       "      <td>0.535825</td>\n",
       "      <td>0.764137</td>\n",
       "      <td>0.446283</td>\n",
       "      <td>1.0</td>\n",
       "      <td>...</td>\n",
       "      <td>0.0</td>\n",
       "      <td>0.0</td>\n",
       "      <td>0.0</td>\n",
       "      <td>0.0</td>\n",
       "      <td>1.0</td>\n",
       "      <td>0.0</td>\n",
       "      <td>0.0</td>\n",
       "      <td>0.0</td>\n",
       "      <td>1.0</td>\n",
       "      <td>0</td>\n",
       "    </tr>\n",
       "    <tr>\n",
       "      <th>1</th>\n",
       "      <td>0.749564</td>\n",
       "      <td>0.0</td>\n",
       "      <td>0.0</td>\n",
       "      <td>0.541002</td>\n",
       "      <td>1.0</td>\n",
       "      <td>0.760605</td>\n",
       "      <td>0.759556</td>\n",
       "      <td>0.521245</td>\n",
       "      <td>0.446283</td>\n",
       "      <td>1.0</td>\n",
       "      <td>...</td>\n",
       "      <td>0.0</td>\n",
       "      <td>0.0</td>\n",
       "      <td>1.0</td>\n",
       "      <td>0.0</td>\n",
       "      <td>0.0</td>\n",
       "      <td>0.0</td>\n",
       "      <td>0.0</td>\n",
       "      <td>0.0</td>\n",
       "      <td>1.0</td>\n",
       "      <td>0</td>\n",
       "    </tr>\n",
       "    <tr>\n",
       "      <th>2</th>\n",
       "      <td>0.000000</td>\n",
       "      <td>0.0</td>\n",
       "      <td>0.0</td>\n",
       "      <td>0.346835</td>\n",
       "      <td>0.0</td>\n",
       "      <td>0.515888</td>\n",
       "      <td>0.535825</td>\n",
       "      <td>0.521245</td>\n",
       "      <td>0.279288</td>\n",
       "      <td>0.0</td>\n",
       "      <td>...</td>\n",
       "      <td>0.0</td>\n",
       "      <td>0.0</td>\n",
       "      <td>0.0</td>\n",
       "      <td>1.0</td>\n",
       "      <td>0.0</td>\n",
       "      <td>0.0</td>\n",
       "      <td>0.0</td>\n",
       "      <td>0.0</td>\n",
       "      <td>1.0</td>\n",
       "      <td>0</td>\n",
       "    </tr>\n",
       "    <tr>\n",
       "      <th>3</th>\n",
       "      <td>0.536924</td>\n",
       "      <td>1.0</td>\n",
       "      <td>0.0</td>\n",
       "      <td>0.281064</td>\n",
       "      <td>0.0</td>\n",
       "      <td>0.263824</td>\n",
       "      <td>0.331418</td>\n",
       "      <td>0.268562</td>\n",
       "      <td>0.279288</td>\n",
       "      <td>1.0</td>\n",
       "      <td>...</td>\n",
       "      <td>0.0</td>\n",
       "      <td>0.0</td>\n",
       "      <td>0.0</td>\n",
       "      <td>0.0</td>\n",
       "      <td>1.0</td>\n",
       "      <td>0.0</td>\n",
       "      <td>1.0</td>\n",
       "      <td>0.0</td>\n",
       "      <td>0.0</td>\n",
       "      <td>0</td>\n",
       "    </tr>\n",
       "    <tr>\n",
       "      <th>4</th>\n",
       "      <td>0.327233</td>\n",
       "      <td>0.0</td>\n",
       "      <td>0.0</td>\n",
       "      <td>0.454840</td>\n",
       "      <td>0.0</td>\n",
       "      <td>0.263824</td>\n",
       "      <td>0.331418</td>\n",
       "      <td>0.268562</td>\n",
       "      <td>0.000000</td>\n",
       "      <td>1.0</td>\n",
       "      <td>...</td>\n",
       "      <td>0.0</td>\n",
       "      <td>0.0</td>\n",
       "      <td>0.0</td>\n",
       "      <td>0.0</td>\n",
       "      <td>1.0</td>\n",
       "      <td>0.0</td>\n",
       "      <td>1.0</td>\n",
       "      <td>0.0</td>\n",
       "      <td>0.0</td>\n",
       "      <td>0</td>\n",
       "    </tr>\n",
       "  </tbody>\n",
       "</table>\n",
       "<p>5 rows × 29 columns</p>\n",
       "</div>"
      ],
      "text/plain": [
       "     Tenure  PreferredLoginDevice  CityTier  WarehouseToHome  Gender  \\\n",
       "0  0.083451                   0.0       0.0         0.500134     1.0   \n",
       "1  0.749564                   0.0       0.0         0.541002     1.0   \n",
       "2  0.000000                   0.0       0.0         0.346835     0.0   \n",
       "3  0.536924                   1.0       0.0         0.281064     0.0   \n",
       "4  0.327233                   0.0       0.0         0.454840     0.0   \n",
       "\n",
       "   HourSpendOnApp  NumberOfDeviceRegistered  SatisfactionScore  \\\n",
       "0        0.515888                  0.535825           0.764137   \n",
       "1        0.760605                  0.759556           0.521245   \n",
       "2        0.515888                  0.535825           0.521245   \n",
       "3        0.263824                  0.331418           0.268562   \n",
       "4        0.263824                  0.331418           0.268562   \n",
       "\n",
       "   NumberOfAddress  Complain  ...  PreferedOrderCat_Fashion  \\\n",
       "0         0.446283       1.0  ...                       0.0   \n",
       "1         0.446283       1.0  ...                       0.0   \n",
       "2         0.279288       0.0  ...                       0.0   \n",
       "3         0.279288       1.0  ...                       0.0   \n",
       "4         0.000000       1.0  ...                       0.0   \n",
       "\n",
       "   PreferedOrderCat_Grocery  PreferedOrderCat_Laptop & Accessory  \\\n",
       "0                       0.0                                  0.0   \n",
       "1                       0.0                                  1.0   \n",
       "2                       0.0                                  0.0   \n",
       "3                       0.0                                  0.0   \n",
       "4                       0.0                                  0.0   \n",
       "\n",
       "   PreferedOrderCat_Mobile  PreferedOrderCat_Mobile Phone  \\\n",
       "0                      0.0                            1.0   \n",
       "1                      0.0                            0.0   \n",
       "2                      1.0                            0.0   \n",
       "3                      0.0                            1.0   \n",
       "4                      0.0                            1.0   \n",
       "\n",
       "   PreferedOrderCat_Others  MaritalStatus_Divorced  MaritalStatus_Married  \\\n",
       "0                      0.0                     0.0                    0.0   \n",
       "1                      0.0                     0.0                    0.0   \n",
       "2                      0.0                     0.0                    0.0   \n",
       "3                      0.0                     1.0                    0.0   \n",
       "4                      0.0                     1.0                    0.0   \n",
       "\n",
       "   MaritalStatus_Single  Churn  \n",
       "0                   1.0      0  \n",
       "1                   1.0      0  \n",
       "2                   1.0      0  \n",
       "3                   0.0      0  \n",
       "4                   0.0      0  \n",
       "\n",
       "[5 rows x 29 columns]"
      ]
     },
     "execution_count": 6,
     "metadata": {},
     "output_type": "execute_result"
    }
   ],
   "source": [
    "df_train.head()"
   ]
  },
  {
   "cell_type": "code",
   "execution_count": 7,
   "id": "73de9a9d",
   "metadata": {},
   "outputs": [],
   "source": [
    "X_train = df_train.drop('Churn', axis = 1)\n",
    "y_train = df_train['Churn']\n",
    "X_test = df_test.drop('Churn', axis = 1)\n",
    "y_test = df_test['Churn']"
   ]
  },
  {
   "cell_type": "markdown",
   "id": "85133236",
   "metadata": {},
   "source": [
    "# Baseline Model"
   ]
  },
  {
   "cell_type": "code",
   "execution_count": 8,
   "id": "52940faa",
   "metadata": {},
   "outputs": [
    {
     "data": {
      "text/html": [
       "<div>\n",
       "<style scoped>\n",
       "    .dataframe tbody tr th:only-of-type {\n",
       "        vertical-align: middle;\n",
       "    }\n",
       "\n",
       "    .dataframe tbody tr th {\n",
       "        vertical-align: top;\n",
       "    }\n",
       "\n",
       "    .dataframe thead th {\n",
       "        text-align: right;\n",
       "    }\n",
       "</style>\n",
       "<table border=\"1\" class=\"dataframe\">\n",
       "  <thead>\n",
       "    <tr style=\"text-align: right;\">\n",
       "      <th></th>\n",
       "      <th>Tenure</th>\n",
       "      <th>PreferredLoginDevice</th>\n",
       "      <th>CityTier</th>\n",
       "      <th>WarehouseToHome</th>\n",
       "      <th>Gender</th>\n",
       "      <th>HourSpendOnApp</th>\n",
       "      <th>NumberOfDeviceRegistered</th>\n",
       "      <th>SatisfactionScore</th>\n",
       "      <th>NumberOfAddress</th>\n",
       "      <th>Complain</th>\n",
       "      <th>...</th>\n",
       "      <th>PreferredPaymentMode_UPI</th>\n",
       "      <th>PreferedOrderCat_Fashion</th>\n",
       "      <th>PreferedOrderCat_Grocery</th>\n",
       "      <th>PreferedOrderCat_Laptop &amp; Accessory</th>\n",
       "      <th>PreferedOrderCat_Mobile</th>\n",
       "      <th>PreferedOrderCat_Mobile Phone</th>\n",
       "      <th>PreferedOrderCat_Others</th>\n",
       "      <th>MaritalStatus_Divorced</th>\n",
       "      <th>MaritalStatus_Married</th>\n",
       "      <th>MaritalStatus_Single</th>\n",
       "    </tr>\n",
       "  </thead>\n",
       "  <tbody>\n",
       "    <tr>\n",
       "      <th>0</th>\n",
       "      <td>0.083451</td>\n",
       "      <td>0.0</td>\n",
       "      <td>0.0</td>\n",
       "      <td>0.500134</td>\n",
       "      <td>1.0</td>\n",
       "      <td>0.515888</td>\n",
       "      <td>0.535825</td>\n",
       "      <td>0.764137</td>\n",
       "      <td>0.446283</td>\n",
       "      <td>1.0</td>\n",
       "      <td>...</td>\n",
       "      <td>0.0</td>\n",
       "      <td>0.0</td>\n",
       "      <td>0.0</td>\n",
       "      <td>0.0</td>\n",
       "      <td>0.0</td>\n",
       "      <td>1.0</td>\n",
       "      <td>0.0</td>\n",
       "      <td>0.0</td>\n",
       "      <td>0.0</td>\n",
       "      <td>1.0</td>\n",
       "    </tr>\n",
       "    <tr>\n",
       "      <th>1</th>\n",
       "      <td>0.749564</td>\n",
       "      <td>0.0</td>\n",
       "      <td>0.0</td>\n",
       "      <td>0.541002</td>\n",
       "      <td>1.0</td>\n",
       "      <td>0.760605</td>\n",
       "      <td>0.759556</td>\n",
       "      <td>0.521245</td>\n",
       "      <td>0.446283</td>\n",
       "      <td>1.0</td>\n",
       "      <td>...</td>\n",
       "      <td>0.0</td>\n",
       "      <td>0.0</td>\n",
       "      <td>0.0</td>\n",
       "      <td>1.0</td>\n",
       "      <td>0.0</td>\n",
       "      <td>0.0</td>\n",
       "      <td>0.0</td>\n",
       "      <td>0.0</td>\n",
       "      <td>0.0</td>\n",
       "      <td>1.0</td>\n",
       "    </tr>\n",
       "    <tr>\n",
       "      <th>2</th>\n",
       "      <td>0.000000</td>\n",
       "      <td>0.0</td>\n",
       "      <td>0.0</td>\n",
       "      <td>0.346835</td>\n",
       "      <td>0.0</td>\n",
       "      <td>0.515888</td>\n",
       "      <td>0.535825</td>\n",
       "      <td>0.521245</td>\n",
       "      <td>0.279288</td>\n",
       "      <td>0.0</td>\n",
       "      <td>...</td>\n",
       "      <td>0.0</td>\n",
       "      <td>0.0</td>\n",
       "      <td>0.0</td>\n",
       "      <td>0.0</td>\n",
       "      <td>1.0</td>\n",
       "      <td>0.0</td>\n",
       "      <td>0.0</td>\n",
       "      <td>0.0</td>\n",
       "      <td>0.0</td>\n",
       "      <td>1.0</td>\n",
       "    </tr>\n",
       "    <tr>\n",
       "      <th>3</th>\n",
       "      <td>0.536924</td>\n",
       "      <td>1.0</td>\n",
       "      <td>0.0</td>\n",
       "      <td>0.281064</td>\n",
       "      <td>0.0</td>\n",
       "      <td>0.263824</td>\n",
       "      <td>0.331418</td>\n",
       "      <td>0.268562</td>\n",
       "      <td>0.279288</td>\n",
       "      <td>1.0</td>\n",
       "      <td>...</td>\n",
       "      <td>0.0</td>\n",
       "      <td>0.0</td>\n",
       "      <td>0.0</td>\n",
       "      <td>0.0</td>\n",
       "      <td>0.0</td>\n",
       "      <td>1.0</td>\n",
       "      <td>0.0</td>\n",
       "      <td>1.0</td>\n",
       "      <td>0.0</td>\n",
       "      <td>0.0</td>\n",
       "    </tr>\n",
       "    <tr>\n",
       "      <th>4</th>\n",
       "      <td>0.327233</td>\n",
       "      <td>0.0</td>\n",
       "      <td>0.0</td>\n",
       "      <td>0.454840</td>\n",
       "      <td>0.0</td>\n",
       "      <td>0.263824</td>\n",
       "      <td>0.331418</td>\n",
       "      <td>0.268562</td>\n",
       "      <td>0.000000</td>\n",
       "      <td>1.0</td>\n",
       "      <td>...</td>\n",
       "      <td>0.0</td>\n",
       "      <td>0.0</td>\n",
       "      <td>0.0</td>\n",
       "      <td>0.0</td>\n",
       "      <td>0.0</td>\n",
       "      <td>1.0</td>\n",
       "      <td>0.0</td>\n",
       "      <td>1.0</td>\n",
       "      <td>0.0</td>\n",
       "      <td>0.0</td>\n",
       "    </tr>\n",
       "    <tr>\n",
       "      <th>...</th>\n",
       "      <td>...</td>\n",
       "      <td>...</td>\n",
       "      <td>...</td>\n",
       "      <td>...</td>\n",
       "      <td>...</td>\n",
       "      <td>...</td>\n",
       "      <td>...</td>\n",
       "      <td>...</td>\n",
       "      <td>...</td>\n",
       "      <td>...</td>\n",
       "      <td>...</td>\n",
       "      <td>...</td>\n",
       "      <td>...</td>\n",
       "      <td>...</td>\n",
       "      <td>...</td>\n",
       "      <td>...</td>\n",
       "      <td>...</td>\n",
       "      <td>...</td>\n",
       "      <td>...</td>\n",
       "      <td>...</td>\n",
       "      <td>...</td>\n",
       "    </tr>\n",
       "    <tr>\n",
       "      <th>4324</th>\n",
       "      <td>0.083451</td>\n",
       "      <td>0.0</td>\n",
       "      <td>0.0</td>\n",
       "      <td>0.881135</td>\n",
       "      <td>0.0</td>\n",
       "      <td>0.760605</td>\n",
       "      <td>0.535825</td>\n",
       "      <td>0.521245</td>\n",
       "      <td>0.279288</td>\n",
       "      <td>0.0</td>\n",
       "      <td>...</td>\n",
       "      <td>0.0</td>\n",
       "      <td>0.0</td>\n",
       "      <td>0.0</td>\n",
       "      <td>1.0</td>\n",
       "      <td>0.0</td>\n",
       "      <td>0.0</td>\n",
       "      <td>0.0</td>\n",
       "      <td>0.0</td>\n",
       "      <td>0.0</td>\n",
       "      <td>1.0</td>\n",
       "    </tr>\n",
       "    <tr>\n",
       "      <th>4325</th>\n",
       "      <td>0.568900</td>\n",
       "      <td>0.0</td>\n",
       "      <td>1.0</td>\n",
       "      <td>0.643553</td>\n",
       "      <td>0.0</td>\n",
       "      <td>0.515888</td>\n",
       "      <td>0.535825</td>\n",
       "      <td>0.000000</td>\n",
       "      <td>0.738103</td>\n",
       "      <td>0.0</td>\n",
       "      <td>...</td>\n",
       "      <td>0.0</td>\n",
       "      <td>1.0</td>\n",
       "      <td>0.0</td>\n",
       "      <td>0.0</td>\n",
       "      <td>0.0</td>\n",
       "      <td>0.0</td>\n",
       "      <td>0.0</td>\n",
       "      <td>0.0</td>\n",
       "      <td>1.0</td>\n",
       "      <td>0.0</td>\n",
       "    </tr>\n",
       "    <tr>\n",
       "      <th>4326</th>\n",
       "      <td>0.465338</td>\n",
       "      <td>0.0</td>\n",
       "      <td>0.0</td>\n",
       "      <td>0.454840</td>\n",
       "      <td>1.0</td>\n",
       "      <td>0.515888</td>\n",
       "      <td>0.759556</td>\n",
       "      <td>0.764137</td>\n",
       "      <td>0.958397</td>\n",
       "      <td>0.0</td>\n",
       "      <td>...</td>\n",
       "      <td>0.0</td>\n",
       "      <td>0.0</td>\n",
       "      <td>0.0</td>\n",
       "      <td>0.0</td>\n",
       "      <td>0.0</td>\n",
       "      <td>1.0</td>\n",
       "      <td>0.0</td>\n",
       "      <td>0.0</td>\n",
       "      <td>1.0</td>\n",
       "      <td>0.0</td>\n",
       "    </tr>\n",
       "    <tr>\n",
       "      <th>4327</th>\n",
       "      <td>0.083451</td>\n",
       "      <td>0.0</td>\n",
       "      <td>0.0</td>\n",
       "      <td>1.000000</td>\n",
       "      <td>0.0</td>\n",
       "      <td>0.760605</td>\n",
       "      <td>0.535825</td>\n",
       "      <td>1.000000</td>\n",
       "      <td>0.446283</td>\n",
       "      <td>0.0</td>\n",
       "      <td>...</td>\n",
       "      <td>0.0</td>\n",
       "      <td>0.0</td>\n",
       "      <td>0.0</td>\n",
       "      <td>0.0</td>\n",
       "      <td>0.0</td>\n",
       "      <td>1.0</td>\n",
       "      <td>0.0</td>\n",
       "      <td>0.0</td>\n",
       "      <td>1.0</td>\n",
       "      <td>0.0</td>\n",
       "    </tr>\n",
       "    <tr>\n",
       "      <th>4328</th>\n",
       "      <td>0.000000</td>\n",
       "      <td>0.0</td>\n",
       "      <td>0.0</td>\n",
       "      <td>0.896602</td>\n",
       "      <td>0.0</td>\n",
       "      <td>0.515888</td>\n",
       "      <td>0.331418</td>\n",
       "      <td>0.521245</td>\n",
       "      <td>0.279288</td>\n",
       "      <td>1.0</td>\n",
       "      <td>...</td>\n",
       "      <td>0.0</td>\n",
       "      <td>0.0</td>\n",
       "      <td>0.0</td>\n",
       "      <td>1.0</td>\n",
       "      <td>0.0</td>\n",
       "      <td>0.0</td>\n",
       "      <td>0.0</td>\n",
       "      <td>1.0</td>\n",
       "      <td>0.0</td>\n",
       "      <td>0.0</td>\n",
       "    </tr>\n",
       "  </tbody>\n",
       "</table>\n",
       "<p>4329 rows × 28 columns</p>\n",
       "</div>"
      ],
      "text/plain": [
       "        Tenure  PreferredLoginDevice  CityTier  WarehouseToHome  Gender  \\\n",
       "0     0.083451                   0.0       0.0         0.500134     1.0   \n",
       "1     0.749564                   0.0       0.0         0.541002     1.0   \n",
       "2     0.000000                   0.0       0.0         0.346835     0.0   \n",
       "3     0.536924                   1.0       0.0         0.281064     0.0   \n",
       "4     0.327233                   0.0       0.0         0.454840     0.0   \n",
       "...        ...                   ...       ...              ...     ...   \n",
       "4324  0.083451                   0.0       0.0         0.881135     0.0   \n",
       "4325  0.568900                   0.0       1.0         0.643553     0.0   \n",
       "4326  0.465338                   0.0       0.0         0.454840     1.0   \n",
       "4327  0.083451                   0.0       0.0         1.000000     0.0   \n",
       "4328  0.000000                   0.0       0.0         0.896602     0.0   \n",
       "\n",
       "      HourSpendOnApp  NumberOfDeviceRegistered  SatisfactionScore  \\\n",
       "0           0.515888                  0.535825           0.764137   \n",
       "1           0.760605                  0.759556           0.521245   \n",
       "2           0.515888                  0.535825           0.521245   \n",
       "3           0.263824                  0.331418           0.268562   \n",
       "4           0.263824                  0.331418           0.268562   \n",
       "...              ...                       ...                ...   \n",
       "4324        0.760605                  0.535825           0.521245   \n",
       "4325        0.515888                  0.535825           0.000000   \n",
       "4326        0.515888                  0.759556           0.764137   \n",
       "4327        0.760605                  0.535825           1.000000   \n",
       "4328        0.515888                  0.331418           0.521245   \n",
       "\n",
       "      NumberOfAddress  Complain  ...  PreferredPaymentMode_UPI  \\\n",
       "0            0.446283       1.0  ...                       0.0   \n",
       "1            0.446283       1.0  ...                       0.0   \n",
       "2            0.279288       0.0  ...                       0.0   \n",
       "3            0.279288       1.0  ...                       0.0   \n",
       "4            0.000000       1.0  ...                       0.0   \n",
       "...               ...       ...  ...                       ...   \n",
       "4324         0.279288       0.0  ...                       0.0   \n",
       "4325         0.738103       0.0  ...                       0.0   \n",
       "4326         0.958397       0.0  ...                       0.0   \n",
       "4327         0.446283       0.0  ...                       0.0   \n",
       "4328         0.279288       1.0  ...                       0.0   \n",
       "\n",
       "      PreferedOrderCat_Fashion  PreferedOrderCat_Grocery  \\\n",
       "0                          0.0                       0.0   \n",
       "1                          0.0                       0.0   \n",
       "2                          0.0                       0.0   \n",
       "3                          0.0                       0.0   \n",
       "4                          0.0                       0.0   \n",
       "...                        ...                       ...   \n",
       "4324                       0.0                       0.0   \n",
       "4325                       1.0                       0.0   \n",
       "4326                       0.0                       0.0   \n",
       "4327                       0.0                       0.0   \n",
       "4328                       0.0                       0.0   \n",
       "\n",
       "      PreferedOrderCat_Laptop & Accessory  PreferedOrderCat_Mobile  \\\n",
       "0                                     0.0                      0.0   \n",
       "1                                     1.0                      0.0   \n",
       "2                                     0.0                      1.0   \n",
       "3                                     0.0                      0.0   \n",
       "4                                     0.0                      0.0   \n",
       "...                                   ...                      ...   \n",
       "4324                                  1.0                      0.0   \n",
       "4325                                  0.0                      0.0   \n",
       "4326                                  0.0                      0.0   \n",
       "4327                                  0.0                      0.0   \n",
       "4328                                  1.0                      0.0   \n",
       "\n",
       "      PreferedOrderCat_Mobile Phone  PreferedOrderCat_Others  \\\n",
       "0                               1.0                      0.0   \n",
       "1                               0.0                      0.0   \n",
       "2                               0.0                      0.0   \n",
       "3                               1.0                      0.0   \n",
       "4                               1.0                      0.0   \n",
       "...                             ...                      ...   \n",
       "4324                            0.0                      0.0   \n",
       "4325                            0.0                      0.0   \n",
       "4326                            1.0                      0.0   \n",
       "4327                            1.0                      0.0   \n",
       "4328                            0.0                      0.0   \n",
       "\n",
       "      MaritalStatus_Divorced  MaritalStatus_Married  MaritalStatus_Single  \n",
       "0                        0.0                    0.0                   1.0  \n",
       "1                        0.0                    0.0                   1.0  \n",
       "2                        0.0                    0.0                   1.0  \n",
       "3                        1.0                    0.0                   0.0  \n",
       "4                        1.0                    0.0                   0.0  \n",
       "...                      ...                    ...                   ...  \n",
       "4324                     0.0                    0.0                   1.0  \n",
       "4325                     0.0                    1.0                   0.0  \n",
       "4326                     0.0                    1.0                   0.0  \n",
       "4327                     0.0                    1.0                   0.0  \n",
       "4328                     1.0                    0.0                   0.0  \n",
       "\n",
       "[4329 rows x 28 columns]"
      ]
     },
     "execution_count": 8,
     "metadata": {},
     "output_type": "execute_result"
    }
   ],
   "source": [
    "X_train"
   ]
  },
  {
   "cell_type": "code",
   "execution_count": 9,
   "id": "95297379",
   "metadata": {},
   "outputs": [
    {
     "data": {
      "text/plain": [
       "0       0\n",
       "1       0\n",
       "2       0\n",
       "3       0\n",
       "4       0\n",
       "       ..\n",
       "4324    0\n",
       "4325    1\n",
       "4326    0\n",
       "4327    0\n",
       "4328    1\n",
       "Name: Churn, Length: 4329, dtype: int64"
      ]
     },
     "execution_count": 9,
     "metadata": {},
     "output_type": "execute_result"
    }
   ],
   "source": [
    "y_train"
   ]
  },
  {
   "cell_type": "code",
   "execution_count": 10,
   "id": "cff769a7",
   "metadata": {},
   "outputs": [],
   "source": [
    "LR = LogisticRegression()\n",
    "LR.fit(X_train, y_train)\n",
    "y_pred = LR.predict(X_test)"
   ]
  },
  {
   "cell_type": "code",
   "execution_count": 11,
   "id": "1b094e07",
   "metadata": {},
   "outputs": [
    {
     "name": "stdout",
     "output_type": "stream",
     "text": [
      "Recall Score = 0.651685393258427\n",
      "ROC_AUC Score = 0.810287141073658\n"
     ]
    }
   ],
   "source": [
    "print(f'Recall Score = {recall_score(y_test, y_pred)}')\n",
    "print(f'ROC_AUC Score = {roc_auc_score(y_test, y_pred)}')"
   ]
  },
  {
   "cell_type": "code",
   "execution_count": 12,
   "id": "f43d83e6",
   "metadata": {},
   "outputs": [],
   "source": [
    "LRP = { # Logistic Regression\n",
    "        'penalty': ['l2','l1','elasticnet'],\n",
    "        'C': np.logspace(-4,4,20)\n",
    "    }"
   ]
  },
  {
   "cell_type": "code",
   "execution_count": 13,
   "id": "be258bad",
   "metadata": {},
   "outputs": [
    {
     "name": "stdout",
     "output_type": "stream",
     "text": [
      "Recall Score = 0.651685393258427\n",
      "ROC_AUC Score = 0.8080649188514357\n"
     ]
    }
   ],
   "source": [
    "LR = LogisticRegression()\n",
    "GSCV = GridSearchCV(LR, LRP, cv = 5, n_jobs = -1, verbose = 0, scoring = 'recall')\n",
    "GSCV.fit(X_train, y_train)\n",
    "y_pred = GSCV.predict(X_test)\n",
    "print(f'Recall Score = {recall_score(y_test, y_pred)}')\n",
    "print(f'ROC_AUC Score = {roc_auc_score(y_test, y_pred)}')"
   ]
  },
  {
   "cell_type": "code",
   "execution_count": 14,
   "id": "fd6758f4",
   "metadata": {},
   "outputs": [
    {
     "name": "stdout",
     "output_type": "stream",
     "text": [
      "Recall Score = 0.5624161073825503\n",
      "ROC_AUC Score = 0.7608397501198465\n"
     ]
    }
   ],
   "source": [
    "y_pred_train = GSCV.predict(X_train)\n",
    "print(f'Recall Score = {recall_score(y_train, y_pred_train)}')\n",
    "print(f'ROC_AUC Score = {roc_auc_score(y_train, y_pred_train)}')"
   ]
  },
  {
   "cell_type": "markdown",
   "id": "f63db675",
   "metadata": {},
   "source": [
    "Jika dilihat dari model baseline, model tersebut adalah model yang undertrain. karena itu kita perlu menaikkan variance dari model dengan menggunakan model-model boosting. Namun model-model lain akan tetap dicoba untuk menguji performa mereka"
   ]
  },
  {
   "cell_type": "code",
   "execution_count": 15,
   "id": "0507326e",
   "metadata": {},
   "outputs": [],
   "source": [
    "models = [DecisionTreeClassifier(),\n",
    "          KNeighborsClassifier(),\n",
    "          SVC(),\n",
    "         RandomForestClassifier(random_state = 42),\n",
    "         GradientBoostingClassifier(),\n",
    "         XGBClassifier(random_state = 42, use_label_encoder=False),\n",
    "         AdaBoostClassifier(random_state = 42),\n",
    "         CatBoostClassifier(random_state = 42, verbose = False)]\n",
    "names = ['Decision Tree',\n",
    "         'KNN',\n",
    "         'SVM',\n",
    "       'Random Forest',\n",
    "       'Gradient Boosting',\n",
    "       'XGBoost',\n",
    "       'AdaBoost',\n",
    "       'CatBoost']"
   ]
  },
  {
   "cell_type": "code",
   "execution_count": 16,
   "id": "16416ab7",
   "metadata": {},
   "outputs": [],
   "source": [
    "def plusNone(arr):\n",
    "    return np.array(arr.tolist() + [None])"
   ]
  },
  {
   "cell_type": "code",
   "execution_count": 17,
   "id": "4bc7a3b1",
   "metadata": {},
   "outputs": [],
   "source": [
    "params = [\n",
    "    { # Decision Tree\n",
    "        'max_depth': plusNone(np.linspace(1, 32, 32, endpoint=True)),\n",
    "        'min_samples_split': np.linspace(0.1, 1.0, 10, endpoint=True),\n",
    "        'min_samples_leaf': np.linspace(0.1, 0.5, 5, endpoint=True),\n",
    "        'max_features': plusNone(np.array(range(1,X_train.shape[1])))\n",
    "    },\n",
    "    { # KNearestNeighbor\n",
    "        'leaf_size': list(range(1,50)),\n",
    "        'n_neighbors': list(range(1,30)),\n",
    "        'p': [1,2],\n",
    "        'algorithm' : ['auto', 'ball_tree', 'kd_tree', 'brute']\n",
    "    },\n",
    "    {# SVC\n",
    "        'C': [0.1, 1, 10, 100, 1000],\n",
    "        'gamma': [1, 0.1, 0.01, 0.001, 0.0001],\n",
    "        'kernel': ['rbf']\n",
    "    }, \n",
    "    {#Random Forest\n",
    "        'bootstrap': [True, False],\n",
    "        'max_depth': [10, 20, 30, 40, 50, 60, 70, 80, 90, 100, None],\n",
    "        'max_features': ['auto', 'sqrt'],\n",
    "        'min_samples_leaf': [1, 2, 4],\n",
    "        'min_samples_split': [2, 5, 10],\n",
    "        'n_estimators': [200, 400, 600, 800, 1000, 1200, 1400, 1600, 1800, 2000]\n",
    "    },\n",
    "    {# Gradient Boosting\n",
    "        \"n_estimators\":[5,50,250,500],\n",
    "        \"max_depth\":[1,3,5,7,9],\n",
    "        \"learning_rate\":[0.01,0.1,1,10,100]\n",
    "    },\n",
    "    { # XGBoost\n",
    "        'max_depth' : [int(x) for x in np.linspace(10, 110, num = 11)],\n",
    "        'min_child_weight' : [int(x) for x in np.linspace(1, 20, num = 11)],\n",
    "        'gamma' : [float(x) for x in np.linspace(0, 1, num = 11)],\n",
    "        'tree_method' : ['auto', 'exact', 'approx', 'hist'],\n",
    "\n",
    "        'colsample_bytree' : [float(x) for x in np.linspace(0, 1, num = 11)],\n",
    "        'eta' : [float(x) for x in np.linspace(0, 1, num = 100)],\n",
    "\n",
    "        'lambda' : [float(x) for x in np.linspace(0, 1, num = 11)],\n",
    "        'alpha' : [float(x) for x in np.linspace(0, 1, num = 11)]\n",
    "    },\n",
    "    { # Adaboost\n",
    "       'n_estimators': [int(x) for x in np.linspace(start = 100, stop = 2000, num = 20)],\n",
    "       'learning_rate': [float(x) for x in np.linspace(start = 0.001, stop = 0.1, num = 20)],\n",
    "       'algorithm': ['SAMME', 'SAMME.R']\n",
    "    },\n",
    "    {# Catboost\n",
    "        'max_depth': [3,4,5],\n",
    "        'n_estimators':[100, 200, 300]\n",
    "    }\n",
    "]"
   ]
  },
  {
   "cell_type": "markdown",
   "id": "4e172251",
   "metadata": {},
   "source": [
    "# Before Hyperparameter Tuning"
   ]
  },
  {
   "cell_type": "code",
   "execution_count": 18,
   "id": "9fc5beb2",
   "metadata": {},
   "outputs": [],
   "source": [
    "def model_score(model, name):\n",
    "    print(f'{name}:')\n",
    "    model = model\n",
    "    model.fit(X_train, y_train)\n",
    "    y_pred = model.predict(X_test)\n",
    "    print(f'Recall Score = {recall_score(y_test, y_pred)}')\n",
    "    print(f'ROC_AUC Score = {roc_auc_score(y_test, y_pred)}')\n",
    "    print('\\n')"
   ]
  },
  {
   "cell_type": "code",
   "execution_count": 19,
   "id": "f96c4b61",
   "metadata": {
    "scrolled": false
   },
   "outputs": [
    {
     "name": "stdout",
     "output_type": "stream",
     "text": [
      "Decision Tree:\n",
      "Recall Score = 0.8595505617977528\n",
      "ROC_AUC Score = 0.8975530586766542\n",
      "\n",
      "\n",
      "KNN:\n",
      "Recall Score = 0.47191011235955055\n",
      "ROC_AUC Score = 0.7181772784019975\n",
      "\n",
      "\n",
      "SVM:\n",
      "Recall Score = 0.6629213483146067\n",
      "ROC_AUC Score = 0.8247940074906367\n",
      "\n",
      "\n",
      "Random Forest:\n",
      "Recall Score = 0.8202247191011236\n",
      "ROC_AUC Score = 0.907334581772784\n",
      "\n",
      "\n",
      "Gradient Boosting:\n",
      "Recall Score = 0.6797752808988764\n",
      "ROC_AUC Score = 0.8287765293383271\n",
      "\n",
      "\n",
      "XGBoost:\n",
      "[10:02:46] WARNING: /Users/runner/work/xgboost/xgboost/src/learner.cc:1115: Starting in XGBoost 1.3.0, the default evaluation metric used with the objective 'binary:logistic' was changed from 'error' to 'logloss'. Explicitly set eval_metric if you'd like to restore the old behavior.\n",
      "Recall Score = 0.8876404494382022\n",
      "ROC_AUC Score = 0.9360424469413233\n",
      "\n",
      "\n",
      "AdaBoost:\n",
      "Recall Score = 0.651685393258427\n",
      "ROC_AUC Score = 0.8075093632958802\n",
      "\n",
      "\n",
      "CatBoost:\n",
      "Recall Score = 0.8146067415730337\n",
      "ROC_AUC Score = 0.9000811485642946\n",
      "\n",
      "\n"
     ]
    }
   ],
   "source": [
    "for i in range(len(models)):\n",
    "    model_score(models[i], names[i])"
   ]
  },
  {
   "cell_type": "markdown",
   "id": "994e3c55",
   "metadata": {},
   "source": [
    "# After Hyperparameter Tuning"
   ]
  },
  {
   "cell_type": "code",
   "execution_count": 20,
   "id": "94683d84",
   "metadata": {},
   "outputs": [],
   "source": [
    "def model_score_tune_rscv(model, name, params, n_iter = 10):\n",
    "    print(f'{name}:')\n",
    "    RSCV = RandomizedSearchCV(model, params, cv = 3, n_jobs = -1, verbose = 0, scoring = ['recall', 'roc_auc'], random_state = 42, refit = 'recall', n_iter = n_iter)\n",
    "    RSCV.fit(X_train, y_train)\n",
    "    y_pred = RSCV.predict(X_test)\n",
    "    print(f'Recall Score = {recall_score(y_test, y_pred)}')\n",
    "    print(f'ROC_AUC Score = {roc_auc_score(y_test, y_pred)}')\n",
    "    print(RSCV.best_params_)\n",
    "    print('\\n')"
   ]
  },
  {
   "cell_type": "code",
   "execution_count": 22,
   "id": "b62d62de",
   "metadata": {},
   "outputs": [],
   "source": [
    "def model_score_tune_gscv(model, name, params):\n",
    "    print(f'{name}:')\n",
    "    GSCV = GridSearchCV(model, params, cv = 3, n_jobs = -1, verbose = 0, scoring = 'recall')\n",
    "    GSCV.fit(X_train, y_train)\n",
    "    y_pred_train = GSCV.predict(X_train)\n",
    "    print('Train score:')\n",
    "    print(f'Recall Score = {recall_score(y_train, y_pred_train)}')\n",
    "    print(f'ROC_AUC Score = {roc_auc_score(y_train, y_pred_train)}')\n",
    "    y_pred = GSCV.predict(X_test)\n",
    "    print('Test score:')\n",
    "    print(f'Recall Score = {recall_score(y_test, y_pred)}')\n",
    "    print(f'ROC_AUC Score = {roc_auc_score(y_test, y_pred)}')\n",
    "    print(GSCV.best_params_)\n",
    "    print('\\n')"
   ]
  },
  {
   "cell_type": "code",
   "execution_count": 23,
   "id": "38ddba6a",
   "metadata": {},
   "outputs": [
    {
     "name": "stdout",
     "output_type": "stream",
     "text": [
      "[[794 106]\n",
      " [ 60 118]]\n",
      "Recall Score = 0.6629213483146067\n",
      "ROC_AUC Score = 0.7725717852684145\n"
     ]
    }
   ],
   "source": [
    "dt = DecisionTreeClassifier(max_depth = 6.0, max_features = 7, min_samples_leaf= 0.1, min_samples_split=0.5, random_state = 42)\n",
    "dt.fit(X_train, y_train)\n",
    "y_pred = dt.predict(X_test)\n",
    "print(confusion_matrix(y_test, y_pred))\n",
    "print(f'Recall Score = {recall_score(y_test, y_pred)}')\n",
    "print(f'ROC_AUC Score = {roc_auc_score(y_test, y_pred)}')"
   ]
  },
  {
   "cell_type": "code",
   "execution_count": 26,
   "id": "b09b330a",
   "metadata": {
    "scrolled": true
   },
   "outputs": [
    {
     "name": "stdout",
     "output_type": "stream",
     "text": [
      "Decision Tree:\n",
      "Recall Score = 0.0\n",
      "ROC_AUC Score = 0.5\n",
      "{'max_depth': 6.0, 'max_features': 8, 'min_samples_leaf': 0.1, 'min_samples_split': 0.30000000000000004}\n",
      "\n",
      "\n",
      "KNN:\n",
      "Recall Score = 0.8426966292134831\n",
      "ROC_AUC Score = 0.9063483146067415\n",
      "{'algorithm': 'auto', 'leaf_size': 1, 'n_neighbors': 1, 'p': 1}\n",
      "\n",
      "\n",
      "SVM:\n",
      "Recall Score = 0.898876404494382\n",
      "ROC_AUC Score = 0.8849937578027466\n",
      "{'C': 1000, 'gamma': 0.1, 'kernel': 'rbf'}\n",
      "\n",
      "\n"
     ]
    }
   ],
   "source": [
    "for i in range(0,3):\n",
    "    model_score_tune_gscv(models[i], names[i], params[i])"
   ]
  },
  {
   "cell_type": "code",
   "execution_count": 27,
   "id": "e7e9c1c8",
   "metadata": {},
   "outputs": [
    {
     "name": "stdout",
     "output_type": "stream",
     "text": [
      "Random Forest:\n",
      "Recall Score = 0.898876404494382\n",
      "ROC_AUC Score = 0.9472159800249688\n",
      "{'bootstrap': False, 'max_depth': 20, 'max_features': 'auto', 'min_samples_leaf': 1, 'min_samples_split': 2, 'n_estimators': 200}\n",
      "\n",
      "\n"
     ]
    }
   ],
   "source": [
    "model_score_tune_gscv(models[3], names[3], params[3])"
   ]
  },
  {
   "cell_type": "markdown",
   "id": "306073b9",
   "metadata": {},
   "source": [
    "Random Forest:\n",
    "\n",
    "Recall Score = 0.898876404494382\n",
    "\n",
    "ROC_AUC Score = 0.9472159800249688\n",
    "\n",
    "{'bootstrap': False, 'max_depth': 20, 'max_features': 'auto', 'min_samples_leaf': 1, 'min_samples_split': 2, 'n_estimators': 200}"
   ]
  },
  {
   "cell_type": "code",
   "execution_count": 28,
   "id": "0ae4cb57",
   "metadata": {},
   "outputs": [
    {
     "name": "stdout",
     "output_type": "stream",
     "text": [
      "Gradient Boosting:\n",
      "Recall Score = 1.0\n",
      "ROC_AUC Score = 0.5\n",
      "{'learning_rate': 100, 'max_depth': 1, 'n_estimators': 5}\n",
      "\n",
      "\n"
     ]
    }
   ],
   "source": [
    "model_score_tune_gscv(models[4], names[4], params[4])"
   ]
  },
  {
   "cell_type": "code",
   "execution_count": null,
   "id": "650e0c24",
   "metadata": {},
   "outputs": [
    {
     "name": "stdout",
     "output_type": "stream",
     "text": [
      "XGBoost:\n"
     ]
    }
   ],
   "source": [
    "model_score_tune_gscv(models[5], names[5], params[5])"
   ]
  },
  {
   "cell_type": "code",
   "execution_count": null,
   "id": "ac50f5bb",
   "metadata": {},
   "outputs": [],
   "source": [
    "model_score_tune_gscv(models[6], names[6], params[6])"
   ]
  },
  {
   "cell_type": "code",
   "execution_count": 29,
   "id": "5bc07a39",
   "metadata": {},
   "outputs": [
    {
     "name": "stdout",
     "output_type": "stream",
     "text": [
      "XGBoost:\n"
     ]
    },
    {
     "ename": "KeyboardInterrupt",
     "evalue": "",
     "output_type": "error",
     "traceback": [
      "\u001b[0;31m---------------------------------------------------------------------------\u001b[0m",
      "\u001b[0;31mKeyboardInterrupt\u001b[0m                         Traceback (most recent call last)",
      "Input \u001b[0;32mIn [29]\u001b[0m, in \u001b[0;36m<module>\u001b[0;34m\u001b[0m\n\u001b[1;32m      1\u001b[0m \u001b[38;5;28;01mfor\u001b[39;00m i \u001b[38;5;129;01min\u001b[39;00m \u001b[38;5;28mrange\u001b[39m(\u001b[38;5;241m5\u001b[39m,\u001b[38;5;28mlen\u001b[39m(models)):\n\u001b[0;32m----> 2\u001b[0m     \u001b[43mmodel_score_tune_gscv\u001b[49m\u001b[43m(\u001b[49m\u001b[43mmodels\u001b[49m\u001b[43m[\u001b[49m\u001b[43mi\u001b[49m\u001b[43m]\u001b[49m\u001b[43m,\u001b[49m\u001b[43m \u001b[49m\u001b[43mnames\u001b[49m\u001b[43m[\u001b[49m\u001b[43mi\u001b[49m\u001b[43m]\u001b[49m\u001b[43m,\u001b[49m\u001b[43m \u001b[49m\u001b[43mparams\u001b[49m\u001b[43m[\u001b[49m\u001b[43mi\u001b[49m\u001b[43m]\u001b[49m\u001b[43m)\u001b[49m\n",
      "Input \u001b[0;32mIn [25]\u001b[0m, in \u001b[0;36mmodel_score_tune_gscv\u001b[0;34m(model, name, params)\u001b[0m\n\u001b[1;32m      2\u001b[0m \u001b[38;5;28mprint\u001b[39m(\u001b[38;5;124mf\u001b[39m\u001b[38;5;124m'\u001b[39m\u001b[38;5;132;01m{\u001b[39;00mname\u001b[38;5;132;01m}\u001b[39;00m\u001b[38;5;124m:\u001b[39m\u001b[38;5;124m'\u001b[39m)\n\u001b[1;32m      3\u001b[0m GSCV \u001b[38;5;241m=\u001b[39m GridSearchCV(model, params, cv \u001b[38;5;241m=\u001b[39m \u001b[38;5;241m3\u001b[39m, n_jobs \u001b[38;5;241m=\u001b[39m \u001b[38;5;241m-\u001b[39m\u001b[38;5;241m1\u001b[39m, verbose \u001b[38;5;241m=\u001b[39m \u001b[38;5;241m0\u001b[39m, scoring \u001b[38;5;241m=\u001b[39m \u001b[38;5;124m'\u001b[39m\u001b[38;5;124mrecall\u001b[39m\u001b[38;5;124m'\u001b[39m)\n\u001b[0;32m----> 4\u001b[0m \u001b[43mGSCV\u001b[49m\u001b[38;5;241;43m.\u001b[39;49m\u001b[43mfit\u001b[49m\u001b[43m(\u001b[49m\u001b[43mX_train\u001b[49m\u001b[43m,\u001b[49m\u001b[43m \u001b[49m\u001b[43my_train\u001b[49m\u001b[43m)\u001b[49m\n\u001b[1;32m      5\u001b[0m y_pred \u001b[38;5;241m=\u001b[39m GSCV\u001b[38;5;241m.\u001b[39mpredict(X_test)\n\u001b[1;32m      6\u001b[0m \u001b[38;5;28mprint\u001b[39m(\u001b[38;5;124mf\u001b[39m\u001b[38;5;124m'\u001b[39m\u001b[38;5;124mRecall Score = \u001b[39m\u001b[38;5;132;01m{\u001b[39;00mrecall_score(y_test, y_pred)\u001b[38;5;132;01m}\u001b[39;00m\u001b[38;5;124m'\u001b[39m)\n",
      "File \u001b[0;32m~/.pyenv/versions/3.8.10/lib/python3.8/site-packages/sklearn/model_selection/_search.py:891\u001b[0m, in \u001b[0;36mBaseSearchCV.fit\u001b[0;34m(self, X, y, groups, **fit_params)\u001b[0m\n\u001b[1;32m    885\u001b[0m     results \u001b[38;5;241m=\u001b[39m \u001b[38;5;28mself\u001b[39m\u001b[38;5;241m.\u001b[39m_format_results(\n\u001b[1;32m    886\u001b[0m         all_candidate_params, n_splits, all_out, all_more_results\n\u001b[1;32m    887\u001b[0m     )\n\u001b[1;32m    889\u001b[0m     \u001b[38;5;28;01mreturn\u001b[39;00m results\n\u001b[0;32m--> 891\u001b[0m \u001b[38;5;28;43mself\u001b[39;49m\u001b[38;5;241;43m.\u001b[39;49m\u001b[43m_run_search\u001b[49m\u001b[43m(\u001b[49m\u001b[43mevaluate_candidates\u001b[49m\u001b[43m)\u001b[49m\n\u001b[1;32m    893\u001b[0m \u001b[38;5;66;03m# multimetric is determined here because in the case of a callable\u001b[39;00m\n\u001b[1;32m    894\u001b[0m \u001b[38;5;66;03m# self.scoring the return type is only known after calling\u001b[39;00m\n\u001b[1;32m    895\u001b[0m first_test_score \u001b[38;5;241m=\u001b[39m all_out[\u001b[38;5;241m0\u001b[39m][\u001b[38;5;124m\"\u001b[39m\u001b[38;5;124mtest_scores\u001b[39m\u001b[38;5;124m\"\u001b[39m]\n",
      "File \u001b[0;32m~/.pyenv/versions/3.8.10/lib/python3.8/site-packages/sklearn/model_selection/_search.py:1392\u001b[0m, in \u001b[0;36mGridSearchCV._run_search\u001b[0;34m(self, evaluate_candidates)\u001b[0m\n\u001b[1;32m   1390\u001b[0m \u001b[38;5;28;01mdef\u001b[39;00m \u001b[38;5;21m_run_search\u001b[39m(\u001b[38;5;28mself\u001b[39m, evaluate_candidates):\n\u001b[1;32m   1391\u001b[0m     \u001b[38;5;124;03m\"\"\"Search all candidates in param_grid\"\"\"\u001b[39;00m\n\u001b[0;32m-> 1392\u001b[0m     \u001b[43mevaluate_candidates\u001b[49m\u001b[43m(\u001b[49m\u001b[43mParameterGrid\u001b[49m\u001b[43m(\u001b[49m\u001b[38;5;28;43mself\u001b[39;49m\u001b[38;5;241;43m.\u001b[39;49m\u001b[43mparam_grid\u001b[49m\u001b[43m)\u001b[49m\u001b[43m)\u001b[49m\n",
      "File \u001b[0;32m~/.pyenv/versions/3.8.10/lib/python3.8/site-packages/sklearn/model_selection/_search.py:827\u001b[0m, in \u001b[0;36mBaseSearchCV.fit.<locals>.evaluate_candidates\u001b[0;34m(candidate_params, cv, more_results)\u001b[0m\n\u001b[1;32m    825\u001b[0m \u001b[38;5;28;01mdef\u001b[39;00m \u001b[38;5;21mevaluate_candidates\u001b[39m(candidate_params, cv\u001b[38;5;241m=\u001b[39m\u001b[38;5;28;01mNone\u001b[39;00m, more_results\u001b[38;5;241m=\u001b[39m\u001b[38;5;28;01mNone\u001b[39;00m):\n\u001b[1;32m    826\u001b[0m     cv \u001b[38;5;241m=\u001b[39m cv \u001b[38;5;129;01mor\u001b[39;00m cv_orig\n\u001b[0;32m--> 827\u001b[0m     candidate_params \u001b[38;5;241m=\u001b[39m \u001b[38;5;28;43mlist\u001b[39;49m\u001b[43m(\u001b[49m\u001b[43mcandidate_params\u001b[49m\u001b[43m)\u001b[49m\n\u001b[1;32m    828\u001b[0m     n_candidates \u001b[38;5;241m=\u001b[39m \u001b[38;5;28mlen\u001b[39m(candidate_params)\n\u001b[1;32m    830\u001b[0m     \u001b[38;5;28;01mif\u001b[39;00m \u001b[38;5;28mself\u001b[39m\u001b[38;5;241m.\u001b[39mverbose \u001b[38;5;241m>\u001b[39m \u001b[38;5;241m0\u001b[39m:\n",
      "File \u001b[0;32m~/.pyenv/versions/3.8.10/lib/python3.8/site-packages/sklearn/model_selection/_search.py:136\u001b[0m, in \u001b[0;36mParameterGrid.__iter__\u001b[0;34m(self)\u001b[0m\n\u001b[1;32m    134\u001b[0m \u001b[38;5;28;01mfor\u001b[39;00m v \u001b[38;5;129;01min\u001b[39;00m product(\u001b[38;5;241m*\u001b[39mvalues):\n\u001b[1;32m    135\u001b[0m     params \u001b[38;5;241m=\u001b[39m \u001b[38;5;28mdict\u001b[39m(\u001b[38;5;28mzip\u001b[39m(keys, v))\n\u001b[0;32m--> 136\u001b[0m     \u001b[38;5;28;01myield\u001b[39;00m params\n",
      "\u001b[0;31mKeyboardInterrupt\u001b[0m: "
     ]
    }
   ],
   "source": [
    "for i in range(5,len(models)):\n",
    "    model_score_tune_gscv(models[i], names[i], params[i])"
   ]
  },
  {
   "cell_type": "code",
   "execution_count": 33,
   "id": "19a38e36",
   "metadata": {},
   "outputs": [
    {
     "name": "stdout",
     "output_type": "stream",
     "text": [
      "Decision Tree:\n",
      "Recall Score = 0.0\n",
      "ROC_AUC Score = 0.5\n",
      "{'min_samples_split': 0.6, 'min_samples_leaf': 0.2, 'max_features': 14, 'max_depth': 5.0}\n",
      "\n",
      "\n",
      "KNN:\n",
      "Recall Score = 0.797752808988764\n",
      "ROC_AUC Score = 0.8816541822721597\n",
      "{'p': 2, 'n_neighbors': 1, 'leaf_size': 11, 'algorithm': 'kd_tree'}\n",
      "\n",
      "\n",
      "SVM:\n",
      "Recall Score = 0.898876404494382\n",
      "ROC_AUC Score = 0.8849937578027466\n",
      "{'kernel': 'rbf', 'gamma': 0.1, 'C': 1000}\n",
      "\n",
      "\n",
      "Random Forest:\n",
      "Recall Score = 0.8876404494382022\n",
      "ROC_AUC Score = 0.9399313358302123\n",
      "{'n_estimators': 200, 'min_samples_split': 2, 'min_samples_leaf': 1, 'max_features': 'sqrt', 'max_depth': None, 'bootstrap': False}\n",
      "\n",
      "\n",
      "Gradient Boosting:\n",
      "Recall Score = 1.0\n",
      "ROC_AUC Score = 0.5\n",
      "{'n_estimators': 5, 'max_depth': 1, 'learning_rate': 100}\n",
      "\n",
      "\n",
      "XGBoost:\n",
      "[19:53:09] WARNING: C:/Users/Administrator/workspace/xgboost-win64_release_1.5.1/src/learner.cc:1115: Starting in XGBoost 1.3.0, the default evaluation metric used with the objective 'binary:logistic' was changed from 'error' to 'logloss'. Explicitly set eval_metric if you'd like to restore the old behavior.\n",
      "Recall Score = 0.8876404494382022\n",
      "ROC_AUC Score = 0.93770911360799\n",
      "{'tree_method': 'auto', 'min_child_weight': 1, 'max_depth': 10, 'lambda': 0.6000000000000001, 'gamma': 0.30000000000000004, 'eta': 0.25252525252525254, 'colsample_bytree': 0.7000000000000001, 'alpha': 0.9}\n",
      "\n",
      "\n",
      "AdaBoost:\n",
      "Recall Score = 0.702247191011236\n",
      "ROC_AUC Score = 0.8344569288389514\n",
      "{'n_estimators': 1700, 'learning_rate': 0.1, 'algorithm': 'SAMME.R'}\n",
      "\n",
      "\n",
      "CatBoost:\n",
      "Recall Score = 0.7584269662921348\n",
      "ROC_AUC Score = 0.870880149812734\n",
      "{'n_estimators': 200, 'max_depth': 5}\n",
      "\n",
      "\n"
     ]
    }
   ],
   "source": [
    "for i in range(len(models)):\n",
    "    model_score_tune_rscv(models[i], names[i], params[i], 100)"
   ]
  },
  {
   "cell_type": "code",
   "execution_count": null,
   "id": "80787068",
   "metadata": {},
   "outputs": [],
   "source": [
    "for i in range(5,len(models)):\n",
    "    model_score_tune_rscv(models[i], names[i], params[i], 100)"
   ]
  },
  {
   "cell_type": "code",
   "execution_count": 48,
   "id": "69deade1",
   "metadata": {
    "collapsed": true
   },
   "outputs": [
    {
     "data": {
      "text/plain": [
       "['accuracy',\n",
       " 'adjusted_mutual_info_score',\n",
       " 'adjusted_rand_score',\n",
       " 'average_precision',\n",
       " 'balanced_accuracy',\n",
       " 'completeness_score',\n",
       " 'explained_variance',\n",
       " 'f1',\n",
       " 'f1_macro',\n",
       " 'f1_micro',\n",
       " 'f1_samples',\n",
       " 'f1_weighted',\n",
       " 'fowlkes_mallows_score',\n",
       " 'homogeneity_score',\n",
       " 'jaccard',\n",
       " 'jaccard_macro',\n",
       " 'jaccard_micro',\n",
       " 'jaccard_samples',\n",
       " 'jaccard_weighted',\n",
       " 'max_error',\n",
       " 'mutual_info_score',\n",
       " 'neg_brier_score',\n",
       " 'neg_log_loss',\n",
       " 'neg_mean_absolute_error',\n",
       " 'neg_mean_absolute_percentage_error',\n",
       " 'neg_mean_gamma_deviance',\n",
       " 'neg_mean_poisson_deviance',\n",
       " 'neg_mean_squared_error',\n",
       " 'neg_mean_squared_log_error',\n",
       " 'neg_median_absolute_error',\n",
       " 'neg_root_mean_squared_error',\n",
       " 'normalized_mutual_info_score',\n",
       " 'precision',\n",
       " 'precision_macro',\n",
       " 'precision_micro',\n",
       " 'precision_samples',\n",
       " 'precision_weighted',\n",
       " 'r2',\n",
       " 'rand_score',\n",
       " 'recall',\n",
       " 'recall_macro',\n",
       " 'recall_micro',\n",
       " 'recall_samples',\n",
       " 'recall_weighted',\n",
       " 'roc_auc',\n",
       " 'roc_auc_ovo',\n",
       " 'roc_auc_ovo_weighted',\n",
       " 'roc_auc_ovr',\n",
       " 'roc_auc_ovr_weighted',\n",
       " 'top_k_accuracy',\n",
       " 'v_measure_score']"
      ]
     },
     "execution_count": 48,
     "metadata": {},
     "output_type": "execute_result"
    }
   ],
   "source": [
    "from sklearn import metrics\n",
    "sorted(metrics.SCORERS.keys())"
   ]
  },
  {
   "cell_type": "code",
   "execution_count": null,
   "id": "987a1fd5",
   "metadata": {},
   "outputs": [],
   "source": [
    "model_score_tune_gscv(models[0], names[0], params[0])"
   ]
  },
  {
   "cell_type": "code",
   "execution_count": 104,
   "id": "69734d65",
   "metadata": {},
   "outputs": [
    {
     "name": "stdout",
     "output_type": "stream",
     "text": [
      "Recall Score = 0.7567567567567568\n",
      "ROC_AUC Score = 0.8417152540425654\n"
     ]
    }
   ],
   "source": [
    "model = DecisionTreeClassifier(random_state = 7)\n",
    "model.fit(X_train, y_train)\n",
    "ypred = model.predict(X_test)\n",
    "print(f'Recall Score = {recall_score(y_test, ypred)}')\n",
    "print(f'ROC_AUC Score = {roc_auc_score(y_test, ypred)}')"
   ]
  },
  {
   "cell_type": "code",
   "execution_count": 106,
   "id": "b3e6494e",
   "metadata": {},
   "outputs": [
    {
     "name": "stdout",
     "output_type": "stream",
     "text": [
      "Recall Score = 0.7027027027027027\n",
      "ROC_AUC Score = 0.8380676106499698\n"
     ]
    }
   ],
   "source": [
    "model = RandomForestClassifier(random_state = 42)\n",
    "model.fit(X_train, y_train)\n",
    "ypred = model.predict(X_test)\n",
    "print(f'Recall Score = {recall_score(y_test, ypred)}')\n",
    "print(f'ROC_AUC Score = {roc_auc_score(y_test, ypred)}')"
   ]
  },
  {
   "cell_type": "code",
   "execution_count": 107,
   "id": "69f907f2",
   "metadata": {},
   "outputs": [],
   "source": [
    "p = {'bootstrap': [True, False],\n",
    " 'max_depth': [10, 20, 30, 40, 50, 60, 70, 80, 90, 100, None],\n",
    " 'max_features': ['auto', 'sqrt'],\n",
    " 'min_samples_leaf': [1, 2, 4],\n",
    " 'min_samples_split': [2, 5, 10],\n",
    " 'n_estimators': [200, 400, 600, 800, 1000, 1200, 1400, 1600, 1800, 2000]}"
   ]
  },
  {
   "cell_type": "code",
   "execution_count": 119,
   "id": "906f95c1",
   "metadata": {},
   "outputs": [
    {
     "name": "stdout",
     "output_type": "stream",
     "text": [
      "Random Forest:\n",
      "Recall Score = 0.772972972972973\n",
      "ROC_AUC Score = 0.8721400465289946\n"
     ]
    }
   ],
   "source": [
    "print(f'Random Forest:')\n",
    "RSCV = RandomizedSearchCV(RandomForestClassifier(random_state = 42), p, cv = 3, n_jobs = -1, verbose = 0, scoring = ['recall', 'roc_auc'], random_state = 42, refit = 'recall', n_iter = 10)\n",
    "RSCV.fit(X_train, y_train)\n",
    "y_pred = RSCV.predict(X_test)\n",
    "print(f'Recall Score = {recall_score(y_test, y_pred)}')\n",
    "print(f'ROC_AUC Score = {roc_auc_score(y_test, y_pred)}')"
   ]
  },
  {
   "cell_type": "code",
   "execution_count": 121,
   "id": "65a50135",
   "metadata": {},
   "outputs": [
    {
     "data": {
      "text/plain": [
       "{'n_estimators': 2000,\n",
       " 'min_samples_split': 2,\n",
       " 'min_samples_leaf': 1,\n",
       " 'max_features': 'auto',\n",
       " 'max_depth': 20,\n",
       " 'bootstrap': False}"
      ]
     },
     "execution_count": 121,
     "metadata": {},
     "output_type": "execute_result"
    }
   ],
   "source": [
    "RSCV.best_params_"
   ]
  },
  {
   "cell_type": "markdown",
   "id": "251c8196",
   "metadata": {},
   "source": [
    "{'n_estimators': 200, 'min_samples_split': 2, 'min_samples_leaf': 1, 'max_features': 'sqrt', 'max_depth': None, 'bootstrap': False}"
   ]
  },
  {
   "cell_type": "code",
   "execution_count": 36,
   "id": "8237a553",
   "metadata": {
    "scrolled": true
   },
   "outputs": [
    {
     "name": "stdout",
     "output_type": "stream",
     "text": [
      "Recall Score = 0.8876404494382022\n",
      "ROC_AUC Score = 0.9399313358302123\n"
     ]
    }
   ],
   "source": [
    "model = RandomForestClassifier(bootstrap = False, max_depth = None, max_features = 'sqrt', min_samples_leaf = 1, min_samples_split = 2, n_estimators = 200, random_state = 42)\n",
    "model.fit(X_train, y_train )\n",
    "ypred = model.predict(X_test)\n",
    "print(f'Recall Score = {recall_score(y_test, ypred)}')\n",
    "print(f'ROC_AUC Score = {roc_auc_score(y_test, ypred)}')"
   ]
  },
  {
   "cell_type": "markdown",
   "id": "ce19dd2e",
   "metadata": {},
   "source": [
    "Model disini belum best-fit karena masih dapat ditemukan model yang lebih baik lagi dengan mencoba menggunakan model-model lain serta dapat mentuning hyperparameter dengan lebih baik lagi."
   ]
  },
  {
   "cell_type": "markdown",
   "id": "a2a83997",
   "metadata": {},
   "source": [
    "# Feature Importance"
   ]
  },
  {
   "cell_type": "code",
   "execution_count": 34,
   "id": "b854c02a",
   "metadata": {},
   "outputs": [],
   "source": [
    "def show_feature_importance(model):\n",
    "    feat_importances = pd.Series(model.feature_importances_, index=X_train.columns)\n",
    "    ax = feat_importances.nlargest(25).plot(kind='barh', figsize=(10, 8))\n",
    "    ax.invert_yaxis()\n",
    "\n",
    "    plt.xlabel('score')\n",
    "    plt.ylabel('feature')\n",
    "    plt.title('feature importance score')"
   ]
  },
  {
   "cell_type": "code",
   "execution_count": 37,
   "id": "c402c9fb",
   "metadata": {},
   "outputs": [
    {
     "data": {
      "image/png": "[encoded data removed]",
      "text/plain": [
       "<Figure size 720x576 with 1 Axes>"
      ]
     },
     "metadata": {
      "needs_background": "light"
     },
     "output_type": "display_data"
    }
   ],
   "source": [
    "show_feature_importance(model)"
   ]
  },
  {
   "cell_type": "markdown",
   "id": "7e14126f",
   "metadata": {},
   "source": [
    "Feature yang mempunyai pengaruh besar adalah:\n",
    "- CashbackAmount\n",
    "- Tenure\n",
    "- WarehouseToHome\n",
    "- DaySinceLastOrder\n",
    "- Complain\n",
    "- NumberOfAddress\n",
    "- OrderAmountHikeFromlastYear\n",
    "- SatisfactionScore\n",
    "- NumberOfDeviceRegistered\n",
    "- OrderCount\n",
    "- CityTier\n",
    "- MaritalStatus_Single\n",
    "\n",
    "Melihat dari feature-feature yang penting diatas dapat ditarik kesimpulan bahwa, untuk mencegah terjadinya customer churn, pelanggan butuh diberikan Cashback yang cukup besar sampai setidaknya 10 bulan (10 bulan disini merupakan median dimana customer diprediksi tidak churn, customer diprediksi churn jika tenure dibawah 1 bulan). Hal ini dapat kita tarik sebagai kesimpulan karena terlihat CashbackAmount dan Tenure merupakan feature yang paling berpengaruh pada churn customer. \n",
    "\n",
    "Selain itu jumlah warehouse juga perlu diperbanyak di tempat yang memiliki banyak customer, karena warehouse yang terlalu jauh menyebabkan customer churn. Dan yang terakhir adalah harus menjaga DaySinceLastOrder yang stabil, jika customer terlalu sering atau terlalu jarang menggunakan Ecommerce ini, maka customer tersebut akan berpotensi churn karena itulah customer perlu diberikan voucher mingguan yang membuat belanja mereka teratur setiap minggunya. Pembagian voucher ini juga dapat menaikkan OrderAmountHikeFromlastYear yang dapat mencegah terjadinya churn. Dan yang terakhir adalah Complain, jika customer memiliki complain harus diselesaikan dengan segera, karena complain yang tidak diselesaikan dapat menyebabkan customer churn dan menurunkan SatisfactionScore yang juga berdampak pada meningkatnya kecenderungan customer untuk churn."
   ]
  },
  {
   "cell_type": "markdown",
   "id": "39ee33f7",
   "metadata": {},
   "source": [
    "# Feature Selection berdasarkan feature yang terpenting"
   ]
  },
  {
   "cell_type": "code",
   "execution_count": 38,
   "id": "cfe954ce",
   "metadata": {},
   "outputs": [],
   "source": [
    "features = ['CashbackAmount',\n",
    "'Tenure',\n",
    "'WarehouseToHome',\n",
    "'DaySinceLastOrder',\n",
    "'Complain',\n",
    "'NumberOfAddress',\n",
    "'OrderAmountHikeFromlastYear',\n",
    "'SatisfactionScore',\n",
    "'NumberOfDeviceRegistered',\n",
    "'OrderCount',\n",
    "'CityTier',\n",
    "'MaritalStatus_Single']"
   ]
  },
  {
   "cell_type": "code",
   "execution_count": 39,
   "id": "b2270f5e",
   "metadata": {},
   "outputs": [],
   "source": [
    "X_train_selection = X_train[features]\n",
    "X_test_selection = X_test[features]"
   ]
  },
  {
   "cell_type": "markdown",
   "id": "39d314d6",
   "metadata": {},
   "source": [
    "## Dengan hyperparameter sebelumnya"
   ]
  },
  {
   "cell_type": "code",
   "execution_count": 40,
   "id": "8e71887c",
   "metadata": {},
   "outputs": [
    {
     "name": "stdout",
     "output_type": "stream",
     "text": [
      "Recall Score = 0.8876404494382022\n",
      "ROC_AUC Score = 0.9399313358302123\n"
     ]
    }
   ],
   "source": [
    "model = RandomForestClassifier(bootstrap = False, max_depth = None, max_features = 'sqrt', min_samples_leaf = 1, min_samples_split = 2, n_estimators = 200, random_state = 42)\n",
    "model.fit(X_train_selection, y_train )\n",
    "ypred = model.predict(X_test_selection)\n",
    "print(f'Recall Score = {recall_score(y_test, ypred)}')\n",
    "print(f'ROC_AUC Score = {roc_auc_score(y_test, ypred)}')"
   ]
  },
  {
   "cell_type": "markdown",
   "id": "fbbab3ca",
   "metadata": {},
   "source": [
    "## Mencari Hyperparameter baru"
   ]
  },
  {
   "cell_type": "code",
   "execution_count": 42,
   "id": "7a29e776",
   "metadata": {},
   "outputs": [
    {
     "name": "stdout",
     "output_type": "stream",
     "text": [
      "Random Forest:\n",
      "Recall Score = 0.8764044943820225\n",
      "ROC_AUC Score = 0.9332022471910112\n"
     ]
    }
   ],
   "source": [
    "print(f'Random Forest:')\n",
    "RSCV = RandomizedSearchCV(RandomForestClassifier(random_state = 42), params[3], cv = 3, n_jobs = -1, verbose = 0, scoring = ['recall', 'roc_auc'], random_state = 42, refit = 'recall', n_iter = 10)\n",
    "RSCV.fit(X_train_selection, y_train)\n",
    "y_pred = RSCV.predict(X_test_selection)\n",
    "print(f'Recall Score = {recall_score(y_test, y_pred)}')\n",
    "print(f'ROC_AUC Score = {roc_auc_score(y_test, y_pred)}')"
   ]
  },
  {
   "cell_type": "code",
   "execution_count": 138,
   "id": "9bc4bf84",
   "metadata": {},
   "outputs": [
    {
     "data": {
      "text/plain": [
       "{'n_estimators': 2000,\n",
       " 'min_samples_split': 2,\n",
       " 'min_samples_leaf': 1,\n",
       " 'max_features': 'auto',\n",
       " 'max_depth': 20,\n",
       " 'bootstrap': False}"
      ]
     },
     "execution_count": 138,
     "metadata": {},
     "output_type": "execute_result"
    }
   ],
   "source": [
    "RSCV.best_params_"
   ]
  },
  {
   "cell_type": "markdown",
   "id": "64cc20d2",
   "metadata": {},
   "source": [
    "Feature selection menurunkan score model karena feature yang ada sebelumnya sudah sedikit namun feature selection membuatnya menjadi lebih sedikit lagi. Feature-feature yang masih mempunyai pengaruh walaupun tidak banyak menjadi hilang, karena itulah score model menjadi menurun"
   ]
  }
 ],
 "metadata": {
  "kernelspec": {
   "display_name": "Python 3 (ipykernel)",
   "language": "python",
   "name": "python3"
  },
  "language_info": {
   "codemirror_mode": {
    "name": "ipython",
    "version": 3
   },
   "file_extension": ".py",
   "mimetype": "text/x-python",
   "name": "python",
   "nbconvert_exporter": "python",
   "pygments_lexer": "ipython3",
   "version": "3.8.10"
  }
 },
 "nbformat": 4,
 "nbformat_minor": 5
}
