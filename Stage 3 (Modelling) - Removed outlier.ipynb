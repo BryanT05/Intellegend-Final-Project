{
 "cells": [
  {
   "cell_type": "code",
   "execution_count": 2,
   "id": "94f561f9",
   "metadata": {},
   "outputs": [],
   "source": [
    "import pandas as pd\n",
    "import numpy as np\n",
    "\n",
    "from sklearn.metrics import recall_score\n",
    "from sklearn.metrics import roc_auc_score\n",
    "from sklearn.metrics import precision_score\n",
    "from sklearn.metrics import confusion_matrix\n",
    "\n",
    "from sklearn.linear_model import LogisticRegression\n",
    "from sklearn.neighbors import KNeighborsClassifier\n",
    "from sklearn.svm import SVC\n",
    "from sklearn.tree import DecisionTreeClassifier\n",
    "from sklearn.ensemble import RandomForestClassifier\n",
    "from sklearn.ensemble import GradientBoostingClassifier\n",
    "from xgboost import XGBClassifier\n",
    "from sklearn.ensemble import AdaBoostClassifier\n",
    "from catboost import CatBoostClassifier\n",
    "\n",
    "from sklearn.model_selection import GridSearchCV\n",
    "from sklearn.model_selection import RandomizedSearchCV\n",
    "from sklearn.model_selection import cross_val_score\n",
    "\n",
    "import matplotlib.pyplot as plt\n",
    "import seaborn as sns\n",
    "import shap\n",
    "\n",
    "import warnings\n",
    "warnings.filterwarnings('ignore')"
   ]
  },
  {
   "cell_type": "markdown",
   "id": "b7cc09a0",
   "metadata": {},
   "source": [
    "# Evaluation Metrics"
   ]
  },
  {
   "cell_type": "markdown",
   "id": "19a8b665",
   "metadata": {},
   "source": [
    "Pada kasus Ecommerce churn prediction ini, kami menggunakan **Recall** sebagai metrics utama karena tujuan utama dari prediksi model ini adalah mencegah customer untuk churn jika ia terdeteksi churn, maka dari itu dengan metrics recall prediksi kami dapat berfokus sebanyak-banyaknya customer yang berpotensi untuk churn untuk mencegah mereka untuk churn.\n",
    "\n",
    "Customer yang diprediksi akan churn akan diberikan kupon atau penawaran spesial agar mereka tidak churn, namun karena dataset ini mempunyai target yang imbalance, untuk mencegah memberikan terlalu banyak kupon kepada customer yang tidak berpotensi churn maka kami akan memakai metrics **ROC_AUC** sebagai tambahan."
   ]
  },
  {
   "cell_type": "markdown",
   "id": "1924173d",
   "metadata": {},
   "source": [
    "# Read Dataset"
   ]
  },
  {
   "cell_type": "code",
   "execution_count": 2,
   "id": "0badb32a",
   "metadata": {},
   "outputs": [
    {
     "name": "stdout",
     "output_type": "stream",
     "text": [
      " Volume in drive C has no label.\n",
      " Volume Serial Number is 40F4-F4CD\n",
      "\n",
      " Directory of C:\\Users\\DELL\\Documents\\Bryan\\Rakamin\\Intellegend-Final-Project\n",
      "\n",
      "01/03/2022  04:07    <DIR>          .\n",
      "01/03/2022  04:07    <DIR>          ..\n",
      "14/02/2022  00:27                66 .gitattributes\n",
      "01/03/2022  01:00    <DIR>          .ipynb_checkpoints\n",
      "23/02/2022  10:31    <DIR>          catboost_info\n",
      "17/02/2022  17:18            95.545 df_test.csv\n",
      "21/02/2022  18:41           279.065 df_test_2.csv\n",
      "17/02/2022  17:18           365.331 df_train.csv\n",
      "21/02/2022  18:41         1.079.863 df_train_2.csv\n",
      "26/01/2021  10:20           555.610 E Commerce Dataset.xlsx\n",
      "14/02/2022  01:55    <DIR>          Guidance\n",
      "01/03/2022  03:42            98.326 Insight.ipynb\n",
      "18/02/2022  23:28         7.662.688 Laporan Final Project - Ghoib CC.pptx\n",
      "01/03/2022  04:07         8.814.208 Laporan Final Project - Intellegend.pptx\n",
      "21/02/2022  22:01         7.738.687 Laporan Final Project - Stage 3.pptx\n",
      "27/01/2022  18:35         7.844.126 Pandas Profiling.html\n",
      "20/02/2022  23:47             4.692 README.md\n",
      "06/02/2022  19:21         1.928.073 Stage 0 - Notulen Mentoring.pptx\n",
      "17/02/2022  17:25             3.892 Stage 0 (Problem Definition).ipynb\n",
      "14/02/2022  01:55    <DIR>          Stage 1\n",
      "06/02/2022  21:10         1.928.454 Stage 1 - Notulen Mentoring.pptx\n",
      "01/03/2022  00:59         2.225.713 Stage 1 (EDA).ipynb\n",
      "20/02/2022  23:36    <DIR>          Stage 2\n",
      "18/02/2022  23:29         8.677.962 Stage 2 - Intellegend.zip\n",
      "13/02/2022  21:40         1.928.471 Stage 2 - Notulen Mentoring.pptx\n",
      "01/03/2022  04:00         1.283.894 Stage 2 (Data Preprocessing) - Remove outlier.ipynb\n",
      "18/02/2022  23:24           866.457 Stage 2 (Data Preprocessing).ipynb\n",
      "21/02/2022  22:02    <DIR>          Stage 3\n",
      "21/02/2022  21:39         1.928.471 Stage 3 - Notulen Mentoring.pptx\n",
      "01/03/2022  03:23           289.944 Stage 3 (Modelling) - Removed outlier.ipynb\n",
      "01/03/2022  02:22            72.565 Stage 3 (Modelling).ipynb\n",
      "27/02/2022  22:36         1.928.433 Stage 4 - Notulen Mentoring.pptx\n",
      "              24 File(s)     57.600.536 bytes\n",
      "               8 Dir(s)  244.745.900.032 bytes free\n"
     ]
    }
   ],
   "source": [
    "ls"
   ]
  },
  {
   "cell_type": "code",
   "execution_count": 3,
   "id": "0a69cfe4",
   "metadata": {},
   "outputs": [],
   "source": [
    "df_train = pd.read_csv('df_train_2.csv')\n",
    "df_test = pd.read_csv('df_test_2.csv')"
   ]
  },
  {
   "cell_type": "code",
   "execution_count": 4,
   "id": "2058a2a6",
   "metadata": {},
   "outputs": [
    {
     "data": {
      "text/plain": [
       "Tenure                                   0\n",
       "PreferredLoginDevice                     0\n",
       "CityTier                                 0\n",
       "WarehouseToHome                          0\n",
       "Gender                                   0\n",
       "HourSpendOnApp                           0\n",
       "NumberOfDeviceRegistered                 0\n",
       "SatisfactionScore                        0\n",
       "NumberOfAddress                          0\n",
       "Complain                                 0\n",
       "OrderAmountHikeFromlastYear              0\n",
       "OrderCount                               0\n",
       "DaySinceLastOrder                        0\n",
       "CashbackAmount                           0\n",
       "PreferredPaymentMode_Cash on Delivery    0\n",
       "PreferredPaymentMode_Credit Card         0\n",
       "PreferredPaymentMode_Debit Card          0\n",
       "PreferredPaymentMode_E wallet            0\n",
       "PreferredPaymentMode_UPI                 0\n",
       "PreferedOrderCat_Fashion                 0\n",
       "PreferedOrderCat_Grocery                 0\n",
       "PreferedOrderCat_Laptop & Accessory      0\n",
       "PreferedOrderCat_Mobile                  0\n",
       "PreferedOrderCat_Mobile Phone            0\n",
       "PreferedOrderCat_Others                  0\n",
       "MaritalStatus_Divorced                   0\n",
       "MaritalStatus_Married                    0\n",
       "MaritalStatus_Single                     0\n",
       "Churn                                    0\n",
       "dtype: int64"
      ]
     },
     "execution_count": 4,
     "metadata": {},
     "output_type": "execute_result"
    }
   ],
   "source": [
    "df_train.isna().sum()"
   ]
  },
  {
   "cell_type": "code",
   "execution_count": 5,
   "id": "df568436",
   "metadata": {},
   "outputs": [
    {
     "data": {
      "text/html": [
       "<div>\n",
       "<style scoped>\n",
       "    .dataframe tbody tr th:only-of-type {\n",
       "        vertical-align: middle;\n",
       "    }\n",
       "\n",
       "    .dataframe tbody tr th {\n",
       "        vertical-align: top;\n",
       "    }\n",
       "\n",
       "    .dataframe thead th {\n",
       "        text-align: right;\n",
       "    }\n",
       "</style>\n",
       "<table border=\"1\" class=\"dataframe\">\n",
       "  <thead>\n",
       "    <tr style=\"text-align: right;\">\n",
       "      <th></th>\n",
       "      <th>Tenure</th>\n",
       "      <th>PreferredLoginDevice</th>\n",
       "      <th>CityTier</th>\n",
       "      <th>WarehouseToHome</th>\n",
       "      <th>Gender</th>\n",
       "      <th>HourSpendOnApp</th>\n",
       "      <th>NumberOfDeviceRegistered</th>\n",
       "      <th>SatisfactionScore</th>\n",
       "      <th>NumberOfAddress</th>\n",
       "      <th>Complain</th>\n",
       "      <th>...</th>\n",
       "      <th>PreferedOrderCat_Fashion</th>\n",
       "      <th>PreferedOrderCat_Grocery</th>\n",
       "      <th>PreferedOrderCat_Laptop &amp; Accessory</th>\n",
       "      <th>PreferedOrderCat_Mobile</th>\n",
       "      <th>PreferedOrderCat_Mobile Phone</th>\n",
       "      <th>PreferedOrderCat_Others</th>\n",
       "      <th>MaritalStatus_Divorced</th>\n",
       "      <th>MaritalStatus_Married</th>\n",
       "      <th>MaritalStatus_Single</th>\n",
       "      <th>Churn</th>\n",
       "    </tr>\n",
       "  </thead>\n",
       "  <tbody>\n",
       "    <tr>\n",
       "      <th>0</th>\n",
       "      <td>0.083451</td>\n",
       "      <td>0.0</td>\n",
       "      <td>0.0</td>\n",
       "      <td>0.500134</td>\n",
       "      <td>1.0</td>\n",
       "      <td>0.515888</td>\n",
       "      <td>0.535825</td>\n",
       "      <td>0.764137</td>\n",
       "      <td>0.446283</td>\n",
       "      <td>1.0</td>\n",
       "      <td>...</td>\n",
       "      <td>0.0</td>\n",
       "      <td>0.0</td>\n",
       "      <td>0.0</td>\n",
       "      <td>0.0</td>\n",
       "      <td>1.0</td>\n",
       "      <td>0.0</td>\n",
       "      <td>0.0</td>\n",
       "      <td>0.0</td>\n",
       "      <td>1.0</td>\n",
       "      <td>0</td>\n",
       "    </tr>\n",
       "    <tr>\n",
       "      <th>1</th>\n",
       "      <td>0.749564</td>\n",
       "      <td>0.0</td>\n",
       "      <td>0.0</td>\n",
       "      <td>0.541002</td>\n",
       "      <td>1.0</td>\n",
       "      <td>0.760605</td>\n",
       "      <td>0.759556</td>\n",
       "      <td>0.521245</td>\n",
       "      <td>0.446283</td>\n",
       "      <td>1.0</td>\n",
       "      <td>...</td>\n",
       "      <td>0.0</td>\n",
       "      <td>0.0</td>\n",
       "      <td>1.0</td>\n",
       "      <td>0.0</td>\n",
       "      <td>0.0</td>\n",
       "      <td>0.0</td>\n",
       "      <td>0.0</td>\n",
       "      <td>0.0</td>\n",
       "      <td>1.0</td>\n",
       "      <td>0</td>\n",
       "    </tr>\n",
       "    <tr>\n",
       "      <th>2</th>\n",
       "      <td>0.000000</td>\n",
       "      <td>0.0</td>\n",
       "      <td>0.0</td>\n",
       "      <td>0.346835</td>\n",
       "      <td>0.0</td>\n",
       "      <td>0.515888</td>\n",
       "      <td>0.535825</td>\n",
       "      <td>0.521245</td>\n",
       "      <td>0.279288</td>\n",
       "      <td>0.0</td>\n",
       "      <td>...</td>\n",
       "      <td>0.0</td>\n",
       "      <td>0.0</td>\n",
       "      <td>0.0</td>\n",
       "      <td>1.0</td>\n",
       "      <td>0.0</td>\n",
       "      <td>0.0</td>\n",
       "      <td>0.0</td>\n",
       "      <td>0.0</td>\n",
       "      <td>1.0</td>\n",
       "      <td>0</td>\n",
       "    </tr>\n",
       "    <tr>\n",
       "      <th>3</th>\n",
       "      <td>0.536924</td>\n",
       "      <td>1.0</td>\n",
       "      <td>0.0</td>\n",
       "      <td>0.281064</td>\n",
       "      <td>0.0</td>\n",
       "      <td>0.263824</td>\n",
       "      <td>0.331418</td>\n",
       "      <td>0.268562</td>\n",
       "      <td>0.279288</td>\n",
       "      <td>1.0</td>\n",
       "      <td>...</td>\n",
       "      <td>0.0</td>\n",
       "      <td>0.0</td>\n",
       "      <td>0.0</td>\n",
       "      <td>0.0</td>\n",
       "      <td>1.0</td>\n",
       "      <td>0.0</td>\n",
       "      <td>1.0</td>\n",
       "      <td>0.0</td>\n",
       "      <td>0.0</td>\n",
       "      <td>0</td>\n",
       "    </tr>\n",
       "    <tr>\n",
       "      <th>4</th>\n",
       "      <td>0.327233</td>\n",
       "      <td>0.0</td>\n",
       "      <td>0.0</td>\n",
       "      <td>0.454840</td>\n",
       "      <td>0.0</td>\n",
       "      <td>0.263824</td>\n",
       "      <td>0.331418</td>\n",
       "      <td>0.268562</td>\n",
       "      <td>0.000000</td>\n",
       "      <td>1.0</td>\n",
       "      <td>...</td>\n",
       "      <td>0.0</td>\n",
       "      <td>0.0</td>\n",
       "      <td>0.0</td>\n",
       "      <td>0.0</td>\n",
       "      <td>1.0</td>\n",
       "      <td>0.0</td>\n",
       "      <td>1.0</td>\n",
       "      <td>0.0</td>\n",
       "      <td>0.0</td>\n",
       "      <td>0</td>\n",
       "    </tr>\n",
       "  </tbody>\n",
       "</table>\n",
       "<p>5 rows × 29 columns</p>\n",
       "</div>"
      ],
      "text/plain": [
       "     Tenure  PreferredLoginDevice  CityTier  WarehouseToHome  Gender  \\\n",
       "0  0.083451                   0.0       0.0         0.500134     1.0   \n",
       "1  0.749564                   0.0       0.0         0.541002     1.0   \n",
       "2  0.000000                   0.0       0.0         0.346835     0.0   \n",
       "3  0.536924                   1.0       0.0         0.281064     0.0   \n",
       "4  0.327233                   0.0       0.0         0.454840     0.0   \n",
       "\n",
       "   HourSpendOnApp  NumberOfDeviceRegistered  SatisfactionScore  \\\n",
       "0        0.515888                  0.535825           0.764137   \n",
       "1        0.760605                  0.759556           0.521245   \n",
       "2        0.515888                  0.535825           0.521245   \n",
       "3        0.263824                  0.331418           0.268562   \n",
       "4        0.263824                  0.331418           0.268562   \n",
       "\n",
       "   NumberOfAddress  Complain  ...  PreferedOrderCat_Fashion  \\\n",
       "0         0.446283       1.0  ...                       0.0   \n",
       "1         0.446283       1.0  ...                       0.0   \n",
       "2         0.279288       0.0  ...                       0.0   \n",
       "3         0.279288       1.0  ...                       0.0   \n",
       "4         0.000000       1.0  ...                       0.0   \n",
       "\n",
       "   PreferedOrderCat_Grocery  PreferedOrderCat_Laptop & Accessory  \\\n",
       "0                       0.0                                  0.0   \n",
       "1                       0.0                                  1.0   \n",
       "2                       0.0                                  0.0   \n",
       "3                       0.0                                  0.0   \n",
       "4                       0.0                                  0.0   \n",
       "\n",
       "   PreferedOrderCat_Mobile  PreferedOrderCat_Mobile Phone  \\\n",
       "0                      0.0                            1.0   \n",
       "1                      0.0                            0.0   \n",
       "2                      1.0                            0.0   \n",
       "3                      0.0                            1.0   \n",
       "4                      0.0                            1.0   \n",
       "\n",
       "   PreferedOrderCat_Others  MaritalStatus_Divorced  MaritalStatus_Married  \\\n",
       "0                      0.0                     0.0                    0.0   \n",
       "1                      0.0                     0.0                    0.0   \n",
       "2                      0.0                     0.0                    0.0   \n",
       "3                      0.0                     1.0                    0.0   \n",
       "4                      0.0                     1.0                    0.0   \n",
       "\n",
       "   MaritalStatus_Single  Churn  \n",
       "0                   1.0      0  \n",
       "1                   1.0      0  \n",
       "2                   1.0      0  \n",
       "3                   0.0      0  \n",
       "4                   0.0      0  \n",
       "\n",
       "[5 rows x 29 columns]"
      ]
     },
     "execution_count": 5,
     "metadata": {},
     "output_type": "execute_result"
    }
   ],
   "source": [
    "df_train.head()"
   ]
  },
  {
   "cell_type": "code",
   "execution_count": 6,
   "id": "73de9a9d",
   "metadata": {},
   "outputs": [],
   "source": [
    "X_train = df_train.drop('Churn', axis = 1)\n",
    "y_train = df_train['Churn']\n",
    "X_test = df_test.drop('Churn', axis = 1)\n",
    "y_test = df_test['Churn']"
   ]
  },
  {
   "cell_type": "markdown",
   "id": "85133236",
   "metadata": {},
   "source": [
    "# Baseline Model"
   ]
  },
  {
   "cell_type": "code",
   "execution_count": 7,
   "id": "52940faa",
   "metadata": {},
   "outputs": [
    {
     "data": {
      "text/html": [
       "<div>\n",
       "<style scoped>\n",
       "    .dataframe tbody tr th:only-of-type {\n",
       "        vertical-align: middle;\n",
       "    }\n",
       "\n",
       "    .dataframe tbody tr th {\n",
       "        vertical-align: top;\n",
       "    }\n",
       "\n",
       "    .dataframe thead th {\n",
       "        text-align: right;\n",
       "    }\n",
       "</style>\n",
       "<table border=\"1\" class=\"dataframe\">\n",
       "  <thead>\n",
       "    <tr style=\"text-align: right;\">\n",
       "      <th></th>\n",
       "      <th>Tenure</th>\n",
       "      <th>PreferredLoginDevice</th>\n",
       "      <th>CityTier</th>\n",
       "      <th>WarehouseToHome</th>\n",
       "      <th>Gender</th>\n",
       "      <th>HourSpendOnApp</th>\n",
       "      <th>NumberOfDeviceRegistered</th>\n",
       "      <th>SatisfactionScore</th>\n",
       "      <th>NumberOfAddress</th>\n",
       "      <th>Complain</th>\n",
       "      <th>...</th>\n",
       "      <th>PreferredPaymentMode_UPI</th>\n",
       "      <th>PreferedOrderCat_Fashion</th>\n",
       "      <th>PreferedOrderCat_Grocery</th>\n",
       "      <th>PreferedOrderCat_Laptop &amp; Accessory</th>\n",
       "      <th>PreferedOrderCat_Mobile</th>\n",
       "      <th>PreferedOrderCat_Mobile Phone</th>\n",
       "      <th>PreferedOrderCat_Others</th>\n",
       "      <th>MaritalStatus_Divorced</th>\n",
       "      <th>MaritalStatus_Married</th>\n",
       "      <th>MaritalStatus_Single</th>\n",
       "    </tr>\n",
       "  </thead>\n",
       "  <tbody>\n",
       "    <tr>\n",
       "      <th>0</th>\n",
       "      <td>0.083451</td>\n",
       "      <td>0.0</td>\n",
       "      <td>0.0</td>\n",
       "      <td>0.500134</td>\n",
       "      <td>1.0</td>\n",
       "      <td>0.515888</td>\n",
       "      <td>0.535825</td>\n",
       "      <td>0.764137</td>\n",
       "      <td>0.446283</td>\n",
       "      <td>1.0</td>\n",
       "      <td>...</td>\n",
       "      <td>0.0</td>\n",
       "      <td>0.0</td>\n",
       "      <td>0.0</td>\n",
       "      <td>0.0</td>\n",
       "      <td>0.0</td>\n",
       "      <td>1.0</td>\n",
       "      <td>0.0</td>\n",
       "      <td>0.0</td>\n",
       "      <td>0.0</td>\n",
       "      <td>1.0</td>\n",
       "    </tr>\n",
       "    <tr>\n",
       "      <th>1</th>\n",
       "      <td>0.749564</td>\n",
       "      <td>0.0</td>\n",
       "      <td>0.0</td>\n",
       "      <td>0.541002</td>\n",
       "      <td>1.0</td>\n",
       "      <td>0.760605</td>\n",
       "      <td>0.759556</td>\n",
       "      <td>0.521245</td>\n",
       "      <td>0.446283</td>\n",
       "      <td>1.0</td>\n",
       "      <td>...</td>\n",
       "      <td>0.0</td>\n",
       "      <td>0.0</td>\n",
       "      <td>0.0</td>\n",
       "      <td>1.0</td>\n",
       "      <td>0.0</td>\n",
       "      <td>0.0</td>\n",
       "      <td>0.0</td>\n",
       "      <td>0.0</td>\n",
       "      <td>0.0</td>\n",
       "      <td>1.0</td>\n",
       "    </tr>\n",
       "    <tr>\n",
       "      <th>2</th>\n",
       "      <td>0.000000</td>\n",
       "      <td>0.0</td>\n",
       "      <td>0.0</td>\n",
       "      <td>0.346835</td>\n",
       "      <td>0.0</td>\n",
       "      <td>0.515888</td>\n",
       "      <td>0.535825</td>\n",
       "      <td>0.521245</td>\n",
       "      <td>0.279288</td>\n",
       "      <td>0.0</td>\n",
       "      <td>...</td>\n",
       "      <td>0.0</td>\n",
       "      <td>0.0</td>\n",
       "      <td>0.0</td>\n",
       "      <td>0.0</td>\n",
       "      <td>1.0</td>\n",
       "      <td>0.0</td>\n",
       "      <td>0.0</td>\n",
       "      <td>0.0</td>\n",
       "      <td>0.0</td>\n",
       "      <td>1.0</td>\n",
       "    </tr>\n",
       "    <tr>\n",
       "      <th>3</th>\n",
       "      <td>0.536924</td>\n",
       "      <td>1.0</td>\n",
       "      <td>0.0</td>\n",
       "      <td>0.281064</td>\n",
       "      <td>0.0</td>\n",
       "      <td>0.263824</td>\n",
       "      <td>0.331418</td>\n",
       "      <td>0.268562</td>\n",
       "      <td>0.279288</td>\n",
       "      <td>1.0</td>\n",
       "      <td>...</td>\n",
       "      <td>0.0</td>\n",
       "      <td>0.0</td>\n",
       "      <td>0.0</td>\n",
       "      <td>0.0</td>\n",
       "      <td>0.0</td>\n",
       "      <td>1.0</td>\n",
       "      <td>0.0</td>\n",
       "      <td>1.0</td>\n",
       "      <td>0.0</td>\n",
       "      <td>0.0</td>\n",
       "    </tr>\n",
       "    <tr>\n",
       "      <th>4</th>\n",
       "      <td>0.327233</td>\n",
       "      <td>0.0</td>\n",
       "      <td>0.0</td>\n",
       "      <td>0.454840</td>\n",
       "      <td>0.0</td>\n",
       "      <td>0.263824</td>\n",
       "      <td>0.331418</td>\n",
       "      <td>0.268562</td>\n",
       "      <td>0.000000</td>\n",
       "      <td>1.0</td>\n",
       "      <td>...</td>\n",
       "      <td>0.0</td>\n",
       "      <td>0.0</td>\n",
       "      <td>0.0</td>\n",
       "      <td>0.0</td>\n",
       "      <td>0.0</td>\n",
       "      <td>1.0</td>\n",
       "      <td>0.0</td>\n",
       "      <td>1.0</td>\n",
       "      <td>0.0</td>\n",
       "      <td>0.0</td>\n",
       "    </tr>\n",
       "    <tr>\n",
       "      <th>...</th>\n",
       "      <td>...</td>\n",
       "      <td>...</td>\n",
       "      <td>...</td>\n",
       "      <td>...</td>\n",
       "      <td>...</td>\n",
       "      <td>...</td>\n",
       "      <td>...</td>\n",
       "      <td>...</td>\n",
       "      <td>...</td>\n",
       "      <td>...</td>\n",
       "      <td>...</td>\n",
       "      <td>...</td>\n",
       "      <td>...</td>\n",
       "      <td>...</td>\n",
       "      <td>...</td>\n",
       "      <td>...</td>\n",
       "      <td>...</td>\n",
       "      <td>...</td>\n",
       "      <td>...</td>\n",
       "      <td>...</td>\n",
       "      <td>...</td>\n",
       "    </tr>\n",
       "    <tr>\n",
       "      <th>4324</th>\n",
       "      <td>0.083451</td>\n",
       "      <td>0.0</td>\n",
       "      <td>0.0</td>\n",
       "      <td>0.881135</td>\n",
       "      <td>0.0</td>\n",
       "      <td>0.760605</td>\n",
       "      <td>0.535825</td>\n",
       "      <td>0.521245</td>\n",
       "      <td>0.279288</td>\n",
       "      <td>0.0</td>\n",
       "      <td>...</td>\n",
       "      <td>0.0</td>\n",
       "      <td>0.0</td>\n",
       "      <td>0.0</td>\n",
       "      <td>1.0</td>\n",
       "      <td>0.0</td>\n",
       "      <td>0.0</td>\n",
       "      <td>0.0</td>\n",
       "      <td>0.0</td>\n",
       "      <td>0.0</td>\n",
       "      <td>1.0</td>\n",
       "    </tr>\n",
       "    <tr>\n",
       "      <th>4325</th>\n",
       "      <td>0.568900</td>\n",
       "      <td>0.0</td>\n",
       "      <td>1.0</td>\n",
       "      <td>0.643553</td>\n",
       "      <td>0.0</td>\n",
       "      <td>0.515888</td>\n",
       "      <td>0.535825</td>\n",
       "      <td>0.000000</td>\n",
       "      <td>0.738103</td>\n",
       "      <td>0.0</td>\n",
       "      <td>...</td>\n",
       "      <td>0.0</td>\n",
       "      <td>1.0</td>\n",
       "      <td>0.0</td>\n",
       "      <td>0.0</td>\n",
       "      <td>0.0</td>\n",
       "      <td>0.0</td>\n",
       "      <td>0.0</td>\n",
       "      <td>0.0</td>\n",
       "      <td>1.0</td>\n",
       "      <td>0.0</td>\n",
       "    </tr>\n",
       "    <tr>\n",
       "      <th>4326</th>\n",
       "      <td>0.465338</td>\n",
       "      <td>0.0</td>\n",
       "      <td>0.0</td>\n",
       "      <td>0.454840</td>\n",
       "      <td>1.0</td>\n",
       "      <td>0.515888</td>\n",
       "      <td>0.759556</td>\n",
       "      <td>0.764137</td>\n",
       "      <td>0.958397</td>\n",
       "      <td>0.0</td>\n",
       "      <td>...</td>\n",
       "      <td>0.0</td>\n",
       "      <td>0.0</td>\n",
       "      <td>0.0</td>\n",
       "      <td>0.0</td>\n",
       "      <td>0.0</td>\n",
       "      <td>1.0</td>\n",
       "      <td>0.0</td>\n",
       "      <td>0.0</td>\n",
       "      <td>1.0</td>\n",
       "      <td>0.0</td>\n",
       "    </tr>\n",
       "    <tr>\n",
       "      <th>4327</th>\n",
       "      <td>0.083451</td>\n",
       "      <td>0.0</td>\n",
       "      <td>0.0</td>\n",
       "      <td>1.000000</td>\n",
       "      <td>0.0</td>\n",
       "      <td>0.760605</td>\n",
       "      <td>0.535825</td>\n",
       "      <td>1.000000</td>\n",
       "      <td>0.446283</td>\n",
       "      <td>0.0</td>\n",
       "      <td>...</td>\n",
       "      <td>0.0</td>\n",
       "      <td>0.0</td>\n",
       "      <td>0.0</td>\n",
       "      <td>0.0</td>\n",
       "      <td>0.0</td>\n",
       "      <td>1.0</td>\n",
       "      <td>0.0</td>\n",
       "      <td>0.0</td>\n",
       "      <td>1.0</td>\n",
       "      <td>0.0</td>\n",
       "    </tr>\n",
       "    <tr>\n",
       "      <th>4328</th>\n",
       "      <td>0.000000</td>\n",
       "      <td>0.0</td>\n",
       "      <td>0.0</td>\n",
       "      <td>0.896602</td>\n",
       "      <td>0.0</td>\n",
       "      <td>0.515888</td>\n",
       "      <td>0.331418</td>\n",
       "      <td>0.521245</td>\n",
       "      <td>0.279288</td>\n",
       "      <td>1.0</td>\n",
       "      <td>...</td>\n",
       "      <td>0.0</td>\n",
       "      <td>0.0</td>\n",
       "      <td>0.0</td>\n",
       "      <td>1.0</td>\n",
       "      <td>0.0</td>\n",
       "      <td>0.0</td>\n",
       "      <td>0.0</td>\n",
       "      <td>1.0</td>\n",
       "      <td>0.0</td>\n",
       "      <td>0.0</td>\n",
       "    </tr>\n",
       "  </tbody>\n",
       "</table>\n",
       "<p>4329 rows × 28 columns</p>\n",
       "</div>"
      ],
      "text/plain": [
       "        Tenure  PreferredLoginDevice  CityTier  WarehouseToHome  Gender  \\\n",
       "0     0.083451                   0.0       0.0         0.500134     1.0   \n",
       "1     0.749564                   0.0       0.0         0.541002     1.0   \n",
       "2     0.000000                   0.0       0.0         0.346835     0.0   \n",
       "3     0.536924                   1.0       0.0         0.281064     0.0   \n",
       "4     0.327233                   0.0       0.0         0.454840     0.0   \n",
       "...        ...                   ...       ...              ...     ...   \n",
       "4324  0.083451                   0.0       0.0         0.881135     0.0   \n",
       "4325  0.568900                   0.0       1.0         0.643553     0.0   \n",
       "4326  0.465338                   0.0       0.0         0.454840     1.0   \n",
       "4327  0.083451                   0.0       0.0         1.000000     0.0   \n",
       "4328  0.000000                   0.0       0.0         0.896602     0.0   \n",
       "\n",
       "      HourSpendOnApp  NumberOfDeviceRegistered  SatisfactionScore  \\\n",
       "0           0.515888                  0.535825           0.764137   \n",
       "1           0.760605                  0.759556           0.521245   \n",
       "2           0.515888                  0.535825           0.521245   \n",
       "3           0.263824                  0.331418           0.268562   \n",
       "4           0.263824                  0.331418           0.268562   \n",
       "...              ...                       ...                ...   \n",
       "4324        0.760605                  0.535825           0.521245   \n",
       "4325        0.515888                  0.535825           0.000000   \n",
       "4326        0.515888                  0.759556           0.764137   \n",
       "4327        0.760605                  0.535825           1.000000   \n",
       "4328        0.515888                  0.331418           0.521245   \n",
       "\n",
       "      NumberOfAddress  Complain  ...  PreferredPaymentMode_UPI  \\\n",
       "0            0.446283       1.0  ...                       0.0   \n",
       "1            0.446283       1.0  ...                       0.0   \n",
       "2            0.279288       0.0  ...                       0.0   \n",
       "3            0.279288       1.0  ...                       0.0   \n",
       "4            0.000000       1.0  ...                       0.0   \n",
       "...               ...       ...  ...                       ...   \n",
       "4324         0.279288       0.0  ...                       0.0   \n",
       "4325         0.738103       0.0  ...                       0.0   \n",
       "4326         0.958397       0.0  ...                       0.0   \n",
       "4327         0.446283       0.0  ...                       0.0   \n",
       "4328         0.279288       1.0  ...                       0.0   \n",
       "\n",
       "      PreferedOrderCat_Fashion  PreferedOrderCat_Grocery  \\\n",
       "0                          0.0                       0.0   \n",
       "1                          0.0                       0.0   \n",
       "2                          0.0                       0.0   \n",
       "3                          0.0                       0.0   \n",
       "4                          0.0                       0.0   \n",
       "...                        ...                       ...   \n",
       "4324                       0.0                       0.0   \n",
       "4325                       1.0                       0.0   \n",
       "4326                       0.0                       0.0   \n",
       "4327                       0.0                       0.0   \n",
       "4328                       0.0                       0.0   \n",
       "\n",
       "      PreferedOrderCat_Laptop & Accessory  PreferedOrderCat_Mobile  \\\n",
       "0                                     0.0                      0.0   \n",
       "1                                     1.0                      0.0   \n",
       "2                                     0.0                      1.0   \n",
       "3                                     0.0                      0.0   \n",
       "4                                     0.0                      0.0   \n",
       "...                                   ...                      ...   \n",
       "4324                                  1.0                      0.0   \n",
       "4325                                  0.0                      0.0   \n",
       "4326                                  0.0                      0.0   \n",
       "4327                                  0.0                      0.0   \n",
       "4328                                  1.0                      0.0   \n",
       "\n",
       "      PreferedOrderCat_Mobile Phone  PreferedOrderCat_Others  \\\n",
       "0                               1.0                      0.0   \n",
       "1                               0.0                      0.0   \n",
       "2                               0.0                      0.0   \n",
       "3                               1.0                      0.0   \n",
       "4                               1.0                      0.0   \n",
       "...                             ...                      ...   \n",
       "4324                            0.0                      0.0   \n",
       "4325                            0.0                      0.0   \n",
       "4326                            1.0                      0.0   \n",
       "4327                            1.0                      0.0   \n",
       "4328                            0.0                      0.0   \n",
       "\n",
       "      MaritalStatus_Divorced  MaritalStatus_Married  MaritalStatus_Single  \n",
       "0                        0.0                    0.0                   1.0  \n",
       "1                        0.0                    0.0                   1.0  \n",
       "2                        0.0                    0.0                   1.0  \n",
       "3                        1.0                    0.0                   0.0  \n",
       "4                        1.0                    0.0                   0.0  \n",
       "...                      ...                    ...                   ...  \n",
       "4324                     0.0                    0.0                   1.0  \n",
       "4325                     0.0                    1.0                   0.0  \n",
       "4326                     0.0                    1.0                   0.0  \n",
       "4327                     0.0                    1.0                   0.0  \n",
       "4328                     1.0                    0.0                   0.0  \n",
       "\n",
       "[4329 rows x 28 columns]"
      ]
     },
     "execution_count": 7,
     "metadata": {},
     "output_type": "execute_result"
    }
   ],
   "source": [
    "X_train"
   ]
  },
  {
   "cell_type": "code",
   "execution_count": 8,
   "id": "95297379",
   "metadata": {},
   "outputs": [
    {
     "data": {
      "text/plain": [
       "0       0\n",
       "1       0\n",
       "2       0\n",
       "3       0\n",
       "4       0\n",
       "       ..\n",
       "4324    0\n",
       "4325    1\n",
       "4326    0\n",
       "4327    0\n",
       "4328    1\n",
       "Name: Churn, Length: 4329, dtype: int64"
      ]
     },
     "execution_count": 8,
     "metadata": {},
     "output_type": "execute_result"
    }
   ],
   "source": [
    "y_train"
   ]
  },
  {
   "cell_type": "code",
   "execution_count": 9,
   "id": "cff769a7",
   "metadata": {},
   "outputs": [],
   "source": [
    "LR = LogisticRegression()\n",
    "LR.fit(X_train, y_train)\n",
    "y_pred = LR.predict(X_test)"
   ]
  },
  {
   "cell_type": "code",
   "execution_count": 10,
   "id": "1b094e07",
   "metadata": {},
   "outputs": [
    {
     "name": "stdout",
     "output_type": "stream",
     "text": [
      "Recall Score = 0.651685393258427\n",
      "ROC_AUC Score = 0.810287141073658\n"
     ]
    }
   ],
   "source": [
    "print(f'Recall Score = {recall_score(y_test, y_pred)}')\n",
    "print(f'ROC_AUC Score = {roc_auc_score(y_test, y_pred)}')"
   ]
  },
  {
   "cell_type": "code",
   "execution_count": 11,
   "id": "f43d83e6",
   "metadata": {},
   "outputs": [],
   "source": [
    "LRP = { # Logistic Regression\n",
    "        'penalty': ['l2','l1','elasticnet'],\n",
    "        'C': np.logspace(-4,4,20)\n",
    "    }"
   ]
  },
  {
   "cell_type": "code",
   "execution_count": 12,
   "id": "be258bad",
   "metadata": {},
   "outputs": [
    {
     "name": "stdout",
     "output_type": "stream",
     "text": [
      "Recall Score = 0.651685393258427\n",
      "ROC_AUC Score = 0.8080649188514357\n"
     ]
    }
   ],
   "source": [
    "LR = LogisticRegression()\n",
    "GSCV = GridSearchCV(LR, LRP, cv = 5, n_jobs = -1, verbose = 0, scoring = 'recall')\n",
    "GSCV.fit(X_train, y_train)\n",
    "y_pred = GSCV.predict(X_test)\n",
    "print(f'Recall Score = {recall_score(y_test, y_pred)}')\n",
    "print(f'ROC_AUC Score = {roc_auc_score(y_test, y_pred)}')"
   ]
  },
  {
   "cell_type": "code",
   "execution_count": 13,
   "id": "fd6758f4",
   "metadata": {},
   "outputs": [
    {
     "name": "stdout",
     "output_type": "stream",
     "text": [
      "Recall Score = 0.5624161073825503\n",
      "ROC_AUC Score = 0.7608397501198465\n"
     ]
    }
   ],
   "source": [
    "y_pred_train = GSCV.predict(X_train)\n",
    "print(f'Recall Score = {recall_score(y_train, y_pred_train)}')\n",
    "print(f'ROC_AUC Score = {roc_auc_score(y_train, y_pred_train)}')"
   ]
  },
  {
   "cell_type": "markdown",
   "id": "f63db675",
   "metadata": {},
   "source": [
    "Jika dilihat dari model baseline, model tersebut adalah model yang undertrain. karena itu kita perlu menaikkan variance dari model dengan menggunakan model-model boosting. Namun model-model lain akan tetap dicoba untuk menguji performa mereka"
   ]
  },
  {
   "cell_type": "code",
   "execution_count": 14,
   "id": "0507326e",
   "metadata": {},
   "outputs": [],
   "source": [
    "models = [DecisionTreeClassifier(random_state = 42),\n",
    "          KNeighborsClassifier(),\n",
    "          SVC(random_state = 42),\n",
    "         RandomForestClassifier(random_state = 42),\n",
    "         GradientBoostingClassifier(random_state = 42),\n",
    "         XGBClassifier(random_state = 42, use_label_encoder=False),\n",
    "         AdaBoostClassifier(base_estimator = DecisionTreeClassifier(max_depth = 16.0, max_features = 9, min_samples_leaf= 1, min_samples_split=2, random_state = 469), random_state = 42),\n",
    "         CatBoostClassifier(random_state = 42, verbose = False)]\n",
    "names = ['Decision Tree',\n",
    "         'KNN',\n",
    "         'SVM',\n",
    "       'Random Forest',\n",
    "       'Gradient Boosting',\n",
    "       'XGBoost',\n",
    "       'AdaBoost',\n",
    "       'CatBoost']"
   ]
  },
  {
   "cell_type": "markdown",
   "id": "4e172251",
   "metadata": {},
   "source": [
    "# Before Hyperparameter Tuning"
   ]
  },
  {
   "cell_type": "code",
   "execution_count": 7,
   "id": "9fc5beb2",
   "metadata": {},
   "outputs": [],
   "source": [
    "def model_score(model, name):\n",
    "    print(f'{name}:')\n",
    "    model = model\n",
    "    model.fit(X_train, y_train)\n",
    "    y_pred_train = model.predict(X_train)\n",
    "    print(f'Recall Score = {recall_score(y_train, y_pred_train)}')\n",
    "    print(f'ROC_AUC Score = {roc_auc_score(y_train, y_pred_train)}')\n",
    "    print('Test score:')\n",
    "    y_pred = model.predict(X_test)\n",
    "    print(f'Recall Score = {recall_score(y_test, y_pred)}')\n",
    "    print(f'ROC_AUC Score = {roc_auc_score(y_test, y_pred)}')\n",
    "    print('\\n')"
   ]
  },
  {
   "cell_type": "code",
   "execution_count": 16,
   "id": "f96c4b61",
   "metadata": {
    "scrolled": false
   },
   "outputs": [
    {
     "name": "stdout",
     "output_type": "stream",
     "text": [
      "Decision Tree:\n",
      "Recall Score = 1.0\n",
      "ROC_AUC Score = 1.0\n",
      "Test score:\n",
      "Recall Score = 0.8764044943820225\n",
      "ROC_AUC Score = 0.905980024968789\n",
      "\n",
      "\n",
      "KNN:\n",
      "Recall Score = 0.6671140939597315\n",
      "ROC_AUC Score = 0.8230938773370086\n",
      "Test score:\n",
      "Recall Score = 0.47191011235955055\n",
      "ROC_AUC Score = 0.7181772784019975\n",
      "\n",
      "\n",
      "SVM:\n",
      "Recall Score = 0.6496644295302013\n",
      "ROC_AUC Score = 0.8188333308365291\n",
      "Test score:\n",
      "Recall Score = 0.6629213483146067\n",
      "ROC_AUC Score = 0.8247940074906367\n",
      "\n",
      "\n",
      "Random Forest:\n",
      "Recall Score = 1.0\n",
      "ROC_AUC Score = 1.0\n",
      "Test score:\n",
      "Recall Score = 0.8202247191011236\n",
      "ROC_AUC Score = 0.907334581772784\n",
      "\n",
      "\n",
      "Gradient Boosting:\n",
      "Recall Score = 0.7046979865771812\n",
      "ROC_AUC Score = 0.8421648415028763\n",
      "Test score:\n",
      "Recall Score = 0.6797752808988764\n",
      "ROC_AUC Score = 0.8287765293383271\n",
      "\n",
      "\n",
      "XGBoost:\n",
      "[19:16:51] WARNING: C:/Users/Administrator/workspace/xgboost-win64_release_1.5.1/src/learner.cc:1115: Starting in XGBoost 1.3.0, the default evaluation metric used with the objective 'binary:logistic' was changed from 'error' to 'logloss'. Explicitly set eval_metric if you'd like to restore the old behavior.\n",
      "Recall Score = 1.0\n",
      "ROC_AUC Score = 1.0\n",
      "Test score:\n",
      "Recall Score = 0.8876404494382022\n",
      "ROC_AUC Score = 0.9360424469413233\n",
      "\n",
      "\n",
      "AdaBoost:\n",
      "Recall Score = 1.0\n",
      "ROC_AUC Score = 1.0\n",
      "Test score:\n",
      "Recall Score = 0.8314606741573034\n",
      "ROC_AUC Score = 0.9073970037453184\n",
      "\n",
      "\n",
      "CatBoost:\n",
      "Recall Score = 0.963758389261745\n",
      "ROC_AUC Score = 0.9816001767737297\n",
      "Test score:\n",
      "Recall Score = 0.8146067415730337\n",
      "ROC_AUC Score = 0.9000811485642946\n",
      "\n",
      "\n"
     ]
    }
   ],
   "source": [
    "for i in range(len(models)):\n",
    "    model_score(models[i], names[i])"
   ]
  },
  {
   "cell_type": "markdown",
   "id": "994e3c55",
   "metadata": {},
   "source": [
    "# After Hyperparameter Tuning"
   ]
  },
  {
   "cell_type": "code",
   "execution_count": 17,
   "id": "16416ab7",
   "metadata": {},
   "outputs": [],
   "source": [
    "def plusNone(arr):\n",
    "    return np.array(arr.tolist() + [None])"
   ]
  },
  {
   "cell_type": "code",
   "execution_count": 18,
   "id": "4bc7a3b1",
   "metadata": {},
   "outputs": [],
   "source": [
    "params = [\n",
    "    { # Decision Tree\n",
    "        'max_depth': plusNone(np.linspace(1, 32, 32, endpoint=True)),\n",
    "        'min_samples_split': list(range(0,10)),\n",
    "        'min_samples_leaf': list(range(0,10)),\n",
    "        'max_features': plusNone(np.array(range(1,X_train.shape[1])))\n",
    "    },\n",
    "    { # KNearestNeighbor\n",
    "        'leaf_size': list(range(1,50)),\n",
    "        'n_neighbors': list(range(1,30)),\n",
    "        'p': [1,2],\n",
    "        'algorithm' : ['auto', 'ball_tree', 'kd_tree', 'brute']\n",
    "    },\n",
    "    {# SVC\n",
    "        'C': [0.1, 1, 10, 100, 1000],\n",
    "        'gamma': [1, 0.1, 0.01, 0.001, 0.0001],\n",
    "        'kernel': ['rbf']\n",
    "    }, \n",
    "    {#Random Forest\n",
    "        'bootstrap': [True, False],\n",
    "        'max_depth': [10, 20, 30, 40, 50, 60, 70, 80, 90, 100, None],\n",
    "        'max_features': ['auto', 'sqrt'],\n",
    "        'min_samples_leaf': [1, 2, 4],\n",
    "        'min_samples_split': [2, 5, 10],\n",
    "        'n_estimators': [200, 400, 600, 800, 1000, 1200, 1400, 1600, 1800, 2000]\n",
    "    },\n",
    "    {# Gradient Boosting\n",
    "        \"n_estimators\":[5,50,250,500],\n",
    "        \"max_depth\":[1,3,5,7,9],\n",
    "        \"learning_rate\":[0.01,0.1,1,10,100]\n",
    "    },\n",
    "    { # XGBoost\n",
    "#         'max_depth' : [int(x) for x in np.linspace(10, 110, num = 11)],\n",
    "        'min_child_weight' : [int(x) for x in np.linspace(1, 20, num = 5)],\n",
    "        'gamma' : [float(x) for x in np.linspace(0, 1, num = 5)],\n",
    "        'tree_method' : ['auto', 'exact', 'approx', 'hist'],\n",
    "\n",
    "        'colsample_bytree' : [float(x) for x in np.linspace(0, 1, num = 5)],\n",
    "        'eta' : [float(x) for x in np.linspace(0, 1, num = 10)],\n",
    "\n",
    "        'lambda' : [float(x) for x in np.linspace(0, 1, num = 5)],\n",
    "        'alpha' : [float(x) for x in np.linspace(0, 1, num = 5)]\n",
    "    },\n",
    "    { # Adaboost\n",
    "       'n_estimators': [int(x) for x in np.linspace(start = 50, stop = 500, num = 10)],\n",
    "       'learning_rate': [float(x) for x in np.linspace(start = 0.001, stop = 1, num = 20)],\n",
    "       'algorithm': ['SAMME', 'SAMME.R']\n",
    "    },\n",
    "    {# Catboost\n",
    "        'max_depth': [3,4,5],\n",
    "        'n_estimators':[100, 200, 300]\n",
    "    }\n",
    "]"
   ]
  },
  {
   "cell_type": "code",
   "execution_count": 19,
   "id": "94683d84",
   "metadata": {},
   "outputs": [],
   "source": [
    "def model_score_tune_rscv(model, name, params, n_iter = 10, verbose = 0):\n",
    "    print(f'{name}:')\n",
    "    RSCV = RandomizedSearchCV(model, params, cv = 2, n_jobs = -1, verbose = verbose, scoring = ['recall', 'roc_auc'], random_state = 42, refit = 'recall', n_iter = n_iter)\n",
    "    RSCV.fit(X_train, y_train)\n",
    "    y_pred_train = RSCV.predict(X_train)\n",
    "    print('Train score:')\n",
    "    print(f'Recall Score = {recall_score(y_train, y_pred_train)}')\n",
    "    print(f'ROC_AUC Score = {roc_auc_score(y_train, y_pred_train)}')\n",
    "    y_pred = RSCV.predict(X_test)\n",
    "    print('Test score:')\n",
    "    print(f'Recall Score = {recall_score(y_test, y_pred)}')\n",
    "    print(f'ROC_AUC Score = {roc_auc_score(y_test, y_pred)}')\n",
    "    print(RSCV.best_params_)\n",
    "    print('\\n')"
   ]
  },
  {
   "cell_type": "code",
   "execution_count": 20,
   "id": "b62d62de",
   "metadata": {},
   "outputs": [],
   "source": [
    "def model_score_tune_gscv(model, name, params, verbose = 0):\n",
    "    print(f'{name}:')\n",
    "    GSCV = GridSearchCV(model, params, cv = 2, n_jobs = -1, verbose = verbose, scoring = 'recall')\n",
    "    GSCV.fit(X_train, y_train)\n",
    "    y_pred_train = GSCV.predict(X_train)\n",
    "    print('Train score:')\n",
    "    print(f'Recall Score = {recall_score(y_train, y_pred_train)}')\n",
    "    print(f'ROC_AUC Score = {roc_auc_score(y_train, y_pred_train)}')\n",
    "    y_pred = GSCV.predict(X_test)\n",
    "    print('Test score:')\n",
    "    print(f'Recall Score = {recall_score(y_test, y_pred)}')\n",
    "    print(f'ROC_AUC Score = {roc_auc_score(y_test, y_pred)}')\n",
    "    print(GSCV.best_params_)\n",
    "    print('\\n')"
   ]
  },
  {
   "cell_type": "code",
   "execution_count": 21,
   "id": "8e729bdb",
   "metadata": {},
   "outputs": [],
   "source": [
    "def rand_state(model, name, params = {'random_state' : (range(0,1000))}):\n",
    "    print(f'{name}:')\n",
    "    GSCV = GridSearchCV(model, params, cv = 2, n_jobs = -1, verbose = 0, scoring = 'recall')\n",
    "    GSCV.fit(X_train, y_train)\n",
    "    y_pred_train = GSCV.predict(X_train)\n",
    "    print('Train score:')\n",
    "    print(f'Recall Score = {recall_score(y_train, y_pred_train)}')\n",
    "    print(f'ROC_AUC Score = {roc_auc_score(y_train, y_pred_train)}')\n",
    "    y_pred = GSCV.predict(X_test)\n",
    "    print('Test score:')\n",
    "    print(f'Recall Score = {recall_score(y_test, y_pred)}')\n",
    "    print(f'ROC_AUC Score = {roc_auc_score(y_test, y_pred)}')\n",
    "    print(GSCV.best_params_)\n",
    "    print('\\n')"
   ]
  },
  {
   "cell_type": "code",
   "execution_count": 22,
   "id": "c961cc6d",
   "metadata": {},
   "outputs": [],
   "source": [
    "def rand_state(model, par, n = range(0,1000)):\n",
    "    recalls = []\n",
    "    ROC_AUCs = []\n",
    "    for i in n:\n",
    "#         model = DecisionTreeClassifier(max_depth = 16.0, max_features = 9, min_samples_leaf= 1, min_samples_split=2, random_state = i)\n",
    "        model = model\n",
    "        for k, v in par.items():\n",
    "            setattr(model, k, v)\n",
    "        setattr(model, 'random_state', i)\n",
    "        model.fit(X_train, y_train)\n",
    "        y_pred = model.predict(X_test)\n",
    "        recalls.append(recall_score(y_test, y_pred))\n",
    "        ROC_AUCs.append(roc_auc_score(y_test, y_pred))\n",
    "    recArr = np.array(recalls)\n",
    "    rocArr = np.array(ROC_AUCs)\n",
    "    print(f'max recall = {recArr.max()}, rs = {recArr.argmax()}')\n",
    "    print(f'max ROC_AUC = {rocArr.max()}, rs = {rocArr.argmax()}')"
   ]
  },
  {
   "cell_type": "code",
   "execution_count": 116,
   "id": "309be0a8",
   "metadata": {},
   "outputs": [
    {
     "name": "stdout",
     "output_type": "stream",
     "text": [
      "max recall = 0.8932584269662921, rs = 469\n",
      "max ROC_AUC = 0.9288514357053682, rs = 657\n"
     ]
    }
   ],
   "source": [
    "rand_state(DecisionTreeClassifier(), {'max_depth': 16.0, 'max_features': 9, 'min_samples_leaf': 1, 'min_samples_split': 2})"
   ]
  },
  {
   "cell_type": "code",
   "execution_count": 118,
   "id": "4377397e",
   "metadata": {},
   "outputs": [
    {
     "name": "stdout",
     "output_type": "stream",
     "text": [
      "max recall = 0.9157303370786517, rs = 26\n",
      "max ROC_AUC = 0.9561985018726592, rs = 247\n"
     ]
    }
   ],
   "source": [
    "rand_state(RandomForestClassifier(), {'bootstrap': False, 'max_depth': 20, 'max_features': 'auto', 'min_samples_leaf': 1, 'min_samples_split': 2, 'n_estimators': 200})"
   ]
  },
  {
   "cell_type": "code",
   "execution_count": 45,
   "id": "35db7138",
   "metadata": {},
   "outputs": [
    {
     "name": "stdout",
     "output_type": "stream",
     "text": [
      "Decision Tree:\n",
      "Train score:\n",
      "Recall Score = 0.9973154362416108\n",
      "ROC_AUC Score = 0.9986577181208054\n",
      "Test score:\n",
      "Recall Score = 0.8932584269662921\n",
      "ROC_AUC Score = 0.9255181023720348\n",
      "{'max_depth': 16.0, 'max_features': 9, 'min_samples_leaf': 1, 'min_samples_split': 2}\n",
      "\n",
      "\n"
     ]
    }
   ],
   "source": [
    "for i in range(0,1):\n",
    "    model_score_tune_gscv(models[i], names[i], params[i])"
   ]
  },
  {
   "cell_type": "code",
   "execution_count": 107,
   "id": "cb45c149",
   "metadata": {
    "scrolled": true
   },
   "outputs": [
    {
     "name": "stdout",
     "output_type": "stream",
     "text": [
      "Decision Tree:\n",
      "Recall Score = 0.9906040268456375\n",
      "ROC_AUC Score = 0.9943254509228188\n",
      "Test score:\n",
      "Recall Score = 0.8932584269662921\n",
      "ROC_AUC Score = 0.9260736579275904\n",
      "\n",
      "\n"
     ]
    }
   ],
   "source": [
    "model = DecisionTreeClassifier(max_depth = 16.0, max_features = 9, min_samples_leaf= 1, min_samples_split=2, random_state = 469)\n",
    "model_score(model, 'Decision Tree')"
   ]
  },
  {
   "cell_type": "code",
   "execution_count": 124,
   "id": "dc948cb0",
   "metadata": {},
   "outputs": [
    {
     "name": "stdout",
     "output_type": "stream",
     "text": [
      "AdaBoost:\n",
      "Recall Score = 1.0\n",
      "ROC_AUC Score = 1.0\n",
      "Test score:\n",
      "Recall Score = 0.8314606741573034\n",
      "ROC_AUC Score = 0.9073970037453184\n",
      "\n",
      "\n"
     ]
    }
   ],
   "source": [
    "model = AdaBoostClassifier(base_estimator = DecisionTreeClassifier(max_depth = 16.0, max_features = 9, min_samples_leaf= 1, min_samples_split=2, random_state = 469), random_state = 42)\n",
    "model_score(model, 'AdaBoost')"
   ]
  },
  {
   "cell_type": "code",
   "execution_count": 26,
   "id": "b09b330a",
   "metadata": {
    "scrolled": true
   },
   "outputs": [
    {
     "name": "stdout",
     "output_type": "stream",
     "text": [
      "Decision Tree:\n",
      "Recall Score = 0.0\n",
      "ROC_AUC Score = 0.5\n",
      "{'max_depth': 6.0, 'max_features': 8, 'min_samples_leaf': 0.1, 'min_samples_split': 0.30000000000000004}\n",
      "\n",
      "\n",
      "KNN:\n",
      "Recall Score = 0.8426966292134831\n",
      "ROC_AUC Score = 0.9063483146067415\n",
      "{'algorithm': 'auto', 'leaf_size': 1, 'n_neighbors': 1, 'p': 1}\n",
      "\n",
      "\n",
      "SVM:\n",
      "Recall Score = 0.898876404494382\n",
      "ROC_AUC Score = 0.8849937578027466\n",
      "{'C': 1000, 'gamma': 0.1, 'kernel': 'rbf'}\n",
      "\n",
      "\n"
     ]
    }
   ],
   "source": [
    "for i in range(0,3):\n",
    "    model_score_tune_gscv(models[i], names[i], params[i])"
   ]
  },
  {
   "cell_type": "code",
   "execution_count": 27,
   "id": "e7e9c1c8",
   "metadata": {},
   "outputs": [
    {
     "name": "stdout",
     "output_type": "stream",
     "text": [
      "Random Forest:\n",
      "Recall Score = 0.898876404494382\n",
      "ROC_AUC Score = 0.9472159800249688\n",
      "{'bootstrap': False, 'max_depth': 20, 'max_features': 'auto', 'min_samples_leaf': 1, 'min_samples_split': 2, 'n_estimators': 200}\n",
      "\n",
      "\n"
     ]
    }
   ],
   "source": [
    "model_score_tune_gscv(models[3], names[3], params[3])"
   ]
  },
  {
   "cell_type": "code",
   "execution_count": 123,
   "id": "5d32098f",
   "metadata": {},
   "outputs": [
    {
     "name": "stdout",
     "output_type": "stream",
     "text": [
      "Random Forest:\n",
      "Recall Score = 1.0\n",
      "ROC_AUC Score = 1.0\n",
      "Test score:\n",
      "Recall Score = 0.9157303370786517\n",
      "ROC_AUC Score = 0.9545318352059924\n",
      "\n",
      "\n"
     ]
    }
   ],
   "source": [
    "model_score(RandomForestClassifier(**{'bootstrap': False, 'max_depth': 20, 'max_features': 'auto', 'min_samples_leaf': 1, 'min_samples_split': 2, 'n_estimators': 200, 'random_state': 26}), 'Random Forest')"
   ]
  },
  {
   "cell_type": "code",
   "execution_count": 28,
   "id": "0ae4cb57",
   "metadata": {},
   "outputs": [
    {
     "name": "stdout",
     "output_type": "stream",
     "text": [
      "Gradient Boosting:\n",
      "Recall Score = 1.0\n",
      "ROC_AUC Score = 0.5\n",
      "{'learning_rate': 100, 'max_depth': 1, 'n_estimators': 5}\n",
      "\n",
      "\n"
     ]
    }
   ],
   "source": [
    "model_score_tune_gscv(models[4], names[4], params[4])"
   ]
  },
  {
   "cell_type": "code",
   "execution_count": 41,
   "id": "6ad7cdd9",
   "metadata": {},
   "outputs": [
    {
     "name": "stdout",
     "output_type": "stream",
     "text": [
      "XGBoost:\n",
      "Fitting 2 folds for each of 1000 candidates, totalling 2000 fits\n",
      "[00:16:24] WARNING: C:/Users/Administrator/workspace/xgboost-win64_release_1.5.1/src/learner.cc:1115: Starting in XGBoost 1.3.0, the default evaluation metric used with the objective 'binary:logistic' was changed from 'error' to 'logloss'. Explicitly set eval_metric if you'd like to restore the old behavior.\n",
      "Train score:\n",
      "Recall Score = 1.0\n",
      "ROC_AUC Score = 1.0\n",
      "Test score:\n",
      "Recall Score = 0.8876404494382022\n",
      "ROC_AUC Score = 0.9360424469413233\n",
      "{'tree_method': 'auto', 'min_child_weight': 1, 'lambda': 1.0, 'gamma': 0.0, 'eta': 0.8888888888888888, 'colsample_bytree': 1.0, 'alpha': 0.25}\n",
      "\n",
      "\n"
     ]
    }
   ],
   "source": [
    "model_score_tune_rscv(models[5], names[5], params[5], 1000, verbose = 1)"
   ]
  },
  {
   "cell_type": "code",
   "execution_count": 81,
   "id": "9266456c",
   "metadata": {},
   "outputs": [
    {
     "name": "stdout",
     "output_type": "stream",
     "text": [
      "XGBoost:\n",
      "[00:21:35] WARNING: C:/Users/Administrator/workspace/xgboost-win64_release_1.5.1/src/learner.cc:1115: Starting in XGBoost 1.3.0, the default evaluation metric used with the objective 'binary:logistic' was changed from 'error' to 'logloss'. Explicitly set eval_metric if you'd like to restore the old behavior.\n",
      "Recall Score = 1.0\n",
      "ROC_AUC Score = 1.0\n",
      "Test score:\n",
      "Recall Score = 0.9269662921348315\n",
      "ROC_AUC Score = 0.9484831460674158\n",
      "\n",
      "\n"
     ]
    }
   ],
   "source": [
    "par = {'tree_method': 'auto', 'min_child_weight': 1, 'lambda': 0.1, 'gamma': 0, 'eta': 0.9, 'colsample_bytree': 1.0, 'alpha': 0.25, 'random_state' : 42, 'use_label_encoder':False, 'scale_pos_weight': 5}\n",
    "model = XGBClassifier(**par)\n",
    "model_score(model, 'XGBoost')"
   ]
  },
  {
   "cell_type": "code",
   "execution_count": 145,
   "id": "d7ff3ded",
   "metadata": {},
   "outputs": [
    {
     "name": "stdout",
     "output_type": "stream",
     "text": [
      "max recall = 0.9550561797752809, rs = 322\n",
      "max ROC_AUC = 0.9613857677902623, rs = 830\n"
     ]
    }
   ],
   "source": [
    "par = {'max_depth': 6, 'tree_method': 'auto', 'min_child_weight': 2, 'lambda': 1, 'gamma': 0, 'eta': 0.9, 'colsample_bytree': 0.8, 'alpha': 0.25, 'use_label_encoder':False, 'scale_pos_weight': 5,  'eval_metric': 'logloss'}\n",
    "recalls = []\n",
    "ROC_AUCs = []\n",
    "for i in range(1000):\n",
    "    model = XGBClassifier(**par)\n",
    "    setattr(model, 'random_state', i)\n",
    "    model.fit(X_train, y_train)\n",
    "    y_pred = model.predict(X_test)\n",
    "    recalls.append(recall_score(y_test, y_pred))\n",
    "    ROC_AUCs.append(roc_auc_score(y_test, y_pred))\n",
    "recArr = np.array(recalls)\n",
    "rocArr = np.array(ROC_AUCs)\n",
    "print(f'max recall = {recArr.max()}, rs = {recArr.argmax()}')\n",
    "print(f'max ROC_AUC = {rocArr.max()}, rs = {rocArr.argmax()}')"
   ]
  },
  {
   "cell_type": "code",
   "execution_count": 146,
   "id": "49d6ff71",
   "metadata": {},
   "outputs": [
    {
     "name": "stdout",
     "output_type": "stream",
     "text": [
      "XGBoost:\n",
      "Recall Score = 1.0\n",
      "ROC_AUC Score = 1.0\n",
      "Test score:\n",
      "Recall Score = 0.9550561797752809\n",
      "ROC_AUC Score = 0.9597503121098626\n",
      "\n",
      "\n"
     ]
    }
   ],
   "source": [
    "par = {'max_depth': 6, 'tree_method': 'auto', 'min_child_weight': 2, 'lambda': 1, 'gamma': 0, 'eta': 0.9, 'colsample_bytree': 0.8, 'alpha': 0.25, 'random_state' : 322, 'use_label_encoder':False, 'scale_pos_weight': 5, 'eval_metric': 'logloss'}\n",
    "model = XGBClassifier(**par)\n",
    "model_score(model, 'XGBoost')"
   ]
  },
  {
   "cell_type": "code",
   "execution_count": 129,
   "id": "b2804c70",
   "metadata": {},
   "outputs": [
    {
     "name": "stdout",
     "output_type": "stream",
     "text": [
      "AdaBoost:\n",
      "Recall Score = 1.0\n",
      "ROC_AUC Score = 1.0\n",
      "Test score:\n",
      "Recall Score = 0.8314606741573034\n",
      "ROC_AUC Score = 0.9073970037453184\n",
      "\n",
      "\n"
     ]
    }
   ],
   "source": [
    "model = AdaBoostClassifier(base_estimator = DecisionTreeClassifier(max_depth = 16.0, max_features = 9, min_samples_leaf= 1, min_samples_split=2, random_state = 469), random_state = 42)\n",
    "model_score(model, 'AdaBoost')"
   ]
  },
  {
   "cell_type": "code",
   "execution_count": 150,
   "id": "9887fd7b",
   "metadata": {},
   "outputs": [
    {
     "name": "stdout",
     "output_type": "stream",
     "text": [
      "AdaBoost:\n",
      "Recall Score = 1.0\n",
      "ROC_AUC Score = 1.0\n",
      "Test score:\n",
      "Recall Score = 0.898876404494382\n",
      "ROC_AUC Score = 0.9466604244694132\n",
      "\n",
      "\n"
     ]
    }
   ],
   "source": [
    "model = AdaBoostClassifier(base_estimator = DecisionTreeClassifier(max_depth = 16.0, max_features = 9, min_samples_leaf= 1, min_samples_split=2, random_state = 469), random_state = 42, learning_rate = 0.01, n_estimators = 20, algorithm = 'SAMME')\n",
    "model_score(model, 'AdaBoost')"
   ]
  },
  {
   "cell_type": "code",
   "execution_count": 153,
   "id": "8e538301",
   "metadata": {},
   "outputs": [],
   "source": [
    "par = {\n",
    "    'base_estimator' : DecisionTreeClassifier(max_depth = 16.0, max_features = 9, min_samples_leaf= 1, min_samples_split=2, random_state = 469),\n",
    "    'learning_rate' : 0.01,\n",
    "    'n_estimators' : 20,\n",
    "    'algorithm' : 'SAMME'\n",
    "}"
   ]
  },
  {
   "cell_type": "code",
   "execution_count": 152,
   "id": "74a20c49",
   "metadata": {},
   "outputs": [
    {
     "name": "stdout",
     "output_type": "stream",
     "text": [
      "max recall = 0.9269662921348315, rs = 433\n",
      "max ROC_AUC = 0.9562297128589264, rs = 476\n"
     ]
    }
   ],
   "source": [
    "rand_state(AdaBoostClassifier(), par)"
   ]
  },
  {
   "cell_type": "code",
   "execution_count": 154,
   "id": "f486c788",
   "metadata": {},
   "outputs": [],
   "source": [
    "par = {\n",
    "    'base_estimator' : DecisionTreeClassifier(max_depth = 16.0, max_features = 9, min_samples_leaf= 1, min_samples_split=2, random_state = 469),\n",
    "    'learning_rate' : 0.01,\n",
    "    'n_estimators' : 20,\n",
    "    'algorithm' : 'SAMME',\n",
    "    'random_state' : 433\n",
    "}"
   ]
  },
  {
   "cell_type": "code",
   "execution_count": 155,
   "id": "35382c43",
   "metadata": {},
   "outputs": [
    {
     "name": "stdout",
     "output_type": "stream",
     "text": [
      "AdaBoost:\n",
      "Recall Score = 1.0\n",
      "ROC_AUC Score = 1.0\n",
      "Test score:\n",
      "Recall Score = 0.9269662921348315\n",
      "ROC_AUC Score = 0.9395942571785268\n",
      "\n",
      "\n"
     ]
    }
   ],
   "source": [
    "model_score(AdaBoostClassifier(**par), 'AdaBoost')"
   ]
  },
  {
   "cell_type": "code",
   "execution_count": 70,
   "id": "5bc07a39",
   "metadata": {},
   "outputs": [
    {
     "name": "stdout",
     "output_type": "stream",
     "text": [
      "CatBoost:\n",
      "Train score:\n",
      "Recall Score = 0.8536912751677852\n",
      "ROC_AUC Score = 0.9239159500838926\n",
      "Test score:\n",
      "Recall Score = 0.7640449438202247\n",
      "ROC_AUC Score = 0.8698002496878902\n",
      "{'max_depth': 5, 'n_estimators': 100}\n",
      "\n",
      "\n"
     ]
    }
   ],
   "source": [
    "for i in range(7,len(models)):\n",
    "    model_score_tune_gscv(models[i], names[i], params[i])"
   ]
  },
  {
   "cell_type": "markdown",
   "id": "ce19dd2e",
   "metadata": {},
   "source": [
    "# Model Score\n",
    "\n",
    "**Decision Tree:**\n",
    "- Recall Score = 0.8932584269662921\n",
    "- ROC_AUC Score = 0.9255181023720348\n",
    "\n",
    "**KNN:**\n",
    "- Recall Score = 0.8426966292134831\n",
    "- ROC_AUC Score = 0.9063483146067415\n",
    "\n",
    "**SVM:**\n",
    "- Recall Score = 0.898876404494382\n",
    "- ROC_AUC Score = 0.8849937578027466\n",
    "\n",
    "**Random Forest:**\n",
    "- Recall Score = 0.9157303370786517\n",
    "- ROC_AUC Score = 0.9545318352059924\n",
    "\n",
    "**Gradient Boosting:**\n",
    "- Recall Score = 1.0\n",
    "- ROC_AUC Score = 0.5\n",
    "\n",
    "**XGBoost:**\n",
    "- Recall Score = 0.9550561797752809\n",
    "- ROC_AUC Score = 0.9597503121098626\n",
    "\n",
    "**AdaBoost:**\n",
    "- Recall Score = 0.9269662921348315\n",
    "- ROC_AUC Score = 0.9395942571785268\n",
    "\n",
    "**CatBoost:**\n",
    "- Recall Score = 0.7640449438202247\n",
    "- ROC_AUC Score = 0.8698002496878902"
   ]
  },
  {
   "cell_type": "markdown",
   "id": "0d0c56e4",
   "metadata": {},
   "source": [
    "Dari model score diatas dapat disimpulkan bahwa XGBoost memiliki performa yang paling baik"
   ]
  },
  {
   "cell_type": "markdown",
   "id": "a2a83997",
   "metadata": {},
   "source": [
    "# Feature Importance"
   ]
  },
  {
   "cell_type": "code",
   "execution_count": 148,
   "id": "b854c02a",
   "metadata": {},
   "outputs": [],
   "source": [
    "def show_feature_importance(model):\n",
    "    feat_importances = pd.Series(model.feature_importances_, index=X_train.columns)\n",
    "    ax = feat_importances.nlargest(25).plot(kind='barh', figsize=(10, 8))\n",
    "    ax.invert_yaxis()\n",
    "\n",
    "    plt.xlabel('score')\n",
    "    plt.ylabel('feature')\n",
    "    plt.title('feature importance score')"
   ]
  },
  {
   "cell_type": "code",
   "execution_count": 10,
   "id": "4e2a0ad5",
   "metadata": {},
   "outputs": [
    {
     "name": "stdout",
     "output_type": "stream",
     "text": [
      "XGBoost:\n",
      "Recall Score = 1.0\n",
      "ROC_AUC Score = 1.0\n",
      "Precision Score = 1.0\n",
      "Test score:\n",
      "Recall Score = 0.9550561797752809\n",
      "ROC_AUC Score = 0.9597503121098626\n",
      "Precision Score = 0.8415841584158416\n",
      "\n",
      "\n"
     ]
    }
   ],
   "source": [
    "par = {'max_depth': 6, 'tree_method': 'auto', 'min_child_weight': 2, 'lambda': 1, 'gamma': 0, 'eta': 0.9, 'colsample_bytree': 0.8, 'alpha': 0.25, 'random_state' : 322, 'use_label_encoder':False, 'scale_pos_weight': 5, 'eval_metric': 'logloss'}\n",
    "model = XGBClassifier(**par)\n",
    "model_score(model, 'XGBoost')"
   ]
  },
  {
   "cell_type": "code",
   "execution_count": 14,
   "id": "12f65932",
   "metadata": {},
   "outputs": [
    {
     "data": {
      "text/plain": [
       "0    900\n",
       "1    178\n",
       "Name: Churn, dtype: int64"
      ]
     },
     "execution_count": 14,
     "metadata": {},
     "output_type": "execute_result"
    }
   ],
   "source": [
    "y_test.value_counts()"
   ]
  },
  {
   "cell_type": "code",
   "execution_count": 9,
   "id": "b091097d",
   "metadata": {},
   "outputs": [],
   "source": [
    "def model_score(model, name):\n",
    "    print(f'{name}:')\n",
    "    model = model\n",
    "    model.fit(X_train, y_train)\n",
    "    y_pred_train = model.predict(X_train)\n",
    "    print(f'Recall Score = {recall_score(y_train, y_pred_train)}')\n",
    "    print(f'ROC_AUC Score = {roc_auc_score(y_train, y_pred_train)}')\n",
    "    print(f'Precision Score = {precision_score(y_train, y_pred_train)}')\n",
    "    print('Test score:')\n",
    "    y_pred = model.predict(X_test)\n",
    "    print(f'Recall Score = {recall_score(y_test, y_pred)}')\n",
    "    print(f'ROC_AUC Score = {roc_auc_score(y_test, y_pred)}')\n",
    "    print(f'Precision Score = {precision_score(y_test, y_pred)}')\n",
    "    print('\\n')"
   ]
  },
  {
   "cell_type": "code",
   "execution_count": 150,
   "id": "c402c9fb",
   "metadata": {},
   "outputs": [
    {
     "data": {
      "image/png": "[encoded data removed]",
      "text/plain": [
       "<Figure size 720x576 with 1 Axes>"
      ]
     },
     "metadata": {
      "needs_background": "light"
     },
     "output_type": "display_data"
    }
   ],
   "source": [
    "show_feature_importance(model)"
   ]
  },
  {
   "cell_type": "markdown",
   "id": "132cf726",
   "metadata": {},
   "source": [
    "# Shap Values"
   ]
  },
  {
   "cell_type": "code",
   "execution_count": 167,
   "id": "15f2936b",
   "metadata": {
    "scrolled": false
   },
   "outputs": [
    {
     "data": {
      "image/png": "[encoded data removed]",
      "text/plain": [
       "<Figure size 576x684 with 1 Axes>"
      ]
     },
     "metadata": {
      "needs_background": "light"
     },
     "output_type": "display_data"
    }
   ],
   "source": [
    "explainer = shap.TreeExplainer(model)\n",
    "shap_values = explainer(X_train)\n",
    "shap.summary_plot(shap_values.values, X_train, plot_type=\"bar\")"
   ]
  },
  {
   "cell_type": "code",
   "execution_count": 183,
   "id": "e8a0d1f1",
   "metadata": {},
   "outputs": [
    {
     "data": {
      "image/png": "[encoded data removed]",
      "text/plain": [
       "<Figure size 576x684 with 2 Axes>"
      ]
     },
     "metadata": {
      "needs_background": "light"
     },
     "output_type": "display_data"
    }
   ],
   "source": [
    "f = plt.figure(figsize = (12,8))\n",
    "shap.summary_plot(shap_values, X_train, show = False)\n",
    "plt.gcf().axes[-1].set_aspect(1000)"
   ]
  },
  {
   "cell_type": "markdown",
   "id": "7e14126f",
   "metadata": {},
   "source": [
    "Feature yang mempunyai pengaruh besar adalah:\n",
    "- Complain\n",
    "- Tenure\n",
    "- PreferedOrderCat\n",
    "- MaritalStatus\n",
    "- CashbackAmount\n",
    "- WarehouseToHome\n",
    "- DaySinceLastOrder\n",
    "- NumberOfAddress\n",
    "- OrderAmountHikeFromlastYear\n",
    "- SatisfactionScore\n",
    "- NumberOfDeviceRegistered\n",
    "- OrderCount\n",
    "- CityTier\n",
    "- MaritalStatus_Single\n",
    "- PreferredLoginDevice\n",
    "- PreferredPaymentMode\n",
    "\n",
    "Melihat dari feature-feature yang penting diatas dapat ditarik kesimpulan bahwa, untuk mencegah terjadinya customer churn, pelanggan butuh diberikan Cashback 1.6x lebih besar sampai setidaknya 2 bulan (2 bulan disini merupakan insight yang didapat dari EDA). Hal ini dapat kita tarik sebagai kesimpulan karena terlihat CashbackAmount dan Tenure merupakan feature yang paling berpengaruh pada churn customer. Selain itu Complain dari customer juga memiliki dampak besar, jika customer memiliki complain harus diselesaikan dengan segera, karena complain yang tidak diselesaikan dapat menyebabkan customer churn dan menurunkan SatisfactionScore yang juga berdampak pada meningkatnya kecenderungan customer untuk churn.\n",
    "\n",
    "Selain itu jumlah warehouse juga perlu diperbanyak di tempat yang memiliki banyak customer, karena warehouse yang terlalu jauh menyebabkan customer churn. Pihak Ecommerce juga harus menjaga DaySinceLastOrder tetap stabil, jika customer terlalu sering atau terlalu jarang menggunakan Ecommerce ini, maka customer tersebut akan berpotensi churn karena itulah customer perlu diberikan voucher mingguan yang membuat belanja mereka teratur setiap minggunya. Pembagian voucher ini juga dapat menaikkan OrderAmountHikeFromlastYear yang dapat mencegah terjadinya churn.\n",
    "\n",
    "NumberOfAddress dan NumberOfDeviceRegistered yang tinggi terlihat berpotensi menyebabkan customer untuk churn, karena itulah sebaiknya dibatasi menjadi maksimal 3. Gender, CityTier, dan MaritalStatus dari customer pun cukup berpengaruh, sebaiknya pihak Ecommerce menargetkan customer perempuan yang sudah menikah dan berasal dari CityTier yang rendah (1), karena merekalah customer yang memiliki tingkat kemungkinan churn lebih kecil. Untuk metode pembayaran juga memiliki pengaruh, baiknya pihak Ecommerce menargetkan pengguna credit card dan debit card, hal ini bisa dilakukan dengan memberikan penawaran spesial untuk customer yang membayar menggunakan metode ini."
   ]
  },
  {
   "cell_type": "markdown",
   "id": "39ee33f7",
   "metadata": {},
   "source": [
    "# Feature Selection"
   ]
  },
  {
   "cell_type": "code",
   "execution_count": 7,
   "id": "8cbf7952",
   "metadata": {},
   "outputs": [],
   "source": [
    "to_drop = ['OrderAmountHikeFromlastYear', 'PreferredPaymentMode_E wallet', 'PreferredPaymentMode_Credit Card']"
   ]
  },
  {
   "cell_type": "code",
   "execution_count": 8,
   "id": "d6ad3d2c",
   "metadata": {},
   "outputs": [],
   "source": [
    "X_train_selection = X_train.drop(to_drop, axis=1)\n",
    "X_test_selection = X_test.drop(to_drop, axis=1)"
   ]
  },
  {
   "cell_type": "markdown",
   "id": "39d314d6",
   "metadata": {},
   "source": [
    "## Dengan hyperparameter sebelumnya"
   ]
  },
  {
   "cell_type": "code",
   "execution_count": 10,
   "id": "85785e21",
   "metadata": {},
   "outputs": [
    {
     "name": "stdout",
     "output_type": "stream",
     "text": [
      "Recall Score = 1.0\n",
      "ROC_AUC Score = 1.0\n",
      "Precision Score = 1.0\n",
      "Test score:\n",
      "Recall Score = 0.9662921348314607\n",
      "ROC_AUC Score = 0.9792571785268415\n",
      "Precision Score = 0.9608938547486033\n"
     ]
    }
   ],
   "source": [
    "par = {'max_depth': 6, 'tree_method': 'auto', 'min_child_weight': 2, 'lambda': 1, 'gamma': 0, 'eta': 0.9, 'colsample_bytree': 0.8, 'alpha': 0.25, 'random_state' : 322, 'use_label_encoder':False, 'scale_pos_weight': 5, 'eval_metric': 'logloss'}\n",
    "model = XGBClassifier(**par)\n",
    "model.fit(X_train_selection, y_train )\n",
    "y_pred_train = model.predict(X_train_selection)\n",
    "print(f'Recall Score = {recall_score(y_train, y_pred_train)}')\n",
    "print(f'ROC_AUC Score = {roc_auc_score(y_train, y_pred_train)}')\n",
    "print(f'Precision Score = {precision_score(y_train, y_pred_train)}')\n",
    "print('Test score:')\n",
    "y_pred = model.predict(X_test_selection)\n",
    "print(f'Recall Score = {recall_score(y_test, ypred)}')\n",
    "print(f'ROC_AUC Score = {roc_auc_score(y_test, ypred)}')\n",
    "print(f'Precision Score = {precision_score(y_test, y_pred)}')"
   ]
  },
  {
   "cell_type": "code",
   "execution_count": 17,
   "id": "d7a850fa",
   "metadata": {},
   "outputs": [
    {
     "data": {
      "text/plain": [
       "0.8966126126126126"
      ]
     },
     "execution_count": 17,
     "metadata": {},
     "output_type": "execute_result"
    }
   ],
   "source": [
    "cross_val_score(model, X_train_selection, y_train, cv = 10, scoring = 'recall').mean()"
   ]
  },
  {
   "cell_type": "code",
   "execution_count": 18,
   "id": "0466a7af",
   "metadata": {},
   "outputs": [
    {
     "data": {
      "text/plain": [
       "0.979635449239875"
      ]
     },
     "execution_count": 18,
     "metadata": {},
     "output_type": "execute_result"
    }
   ],
   "source": [
    "cross_val_score(model, X_train_selection, y_train, cv = 10, scoring = 'roc_auc').mean()"
   ]
  },
  {
   "cell_type": "code",
   "execution_count": 19,
   "id": "360d01fc",
   "metadata": {},
   "outputs": [
    {
     "data": {
      "text/plain": [
       "0.8948073498832393"
      ]
     },
     "execution_count": 19,
     "metadata": {},
     "output_type": "execute_result"
    }
   ],
   "source": [
    "cross_val_score(model, X_train_selection, y_train, cv = 10, scoring = 'precision').mean()"
   ]
  },
  {
   "cell_type": "markdown",
   "id": "64cc20d2",
   "metadata": {},
   "source": [
    "Beberapa feature yang di drop adalah feature yang redundant dan berpotensi mengakibatkan multicolinearity. Karena pada saat One-Hot encoding baiknya kolom terakhir di drop. Dengan melakukan feature selection dapat terlihat bahwa score dari model menjadi naik"
   ]
  }
 ],
 "metadata": {
  "kernelspec": {
   "display_name": "Python 3 (ipykernel)",
   "language": "python",
   "name": "python3"
  },
  "language_info": {
   "codemirror_mode": {
    "name": "ipython",
    "version": 3
   },
   "file_extension": ".py",
   "mimetype": "text/x-python",
   "name": "python",
   "nbconvert_exporter": "python",
   "pygments_lexer": "ipython3",
   "version": "3.8.10"
  }
 },
 "nbformat": 4,
 "nbformat_minor": 5
}
