{
 "cells": [
  {
   "cell_type": "code",
   "execution_count": 58,
   "id": "94f561f9",
   "metadata": {},
   "outputs": [],
   "source": [
    "import pandas as pd\n",
    "import numpy as np\n",
    "\n",
    "from sklearn.metrics import recall_score\n",
    "from sklearn.metrics import roc_auc_score\n",
    "from sklearn.metrics import confusion_matrix\n",
    "\n",
    "from sklearn.linear_model import LogisticRegression\n",
    "from sklearn.neighbors import KNeighborsClassifier\n",
    "from sklearn.svm import SVC\n",
    "from sklearn.tree import DecisionTreeClassifier\n",
    "from sklearn.ensemble import RandomForestClassifier\n",
    "from sklearn.ensemble import GradientBoostingClassifier\n",
    "from xgboost import XGBClassifier\n",
    "from sklearn.ensemble import AdaBoostClassifier\n",
    "from catboost import CatBoostClassifier\n",
    "\n",
    "from sklearn.model_selection import GridSearchCV\n",
    "from sklearn.model_selection import RandomizedSearchCV\n",
    "\n",
    "import matplotlib.pyplot as plt\n",
    "import seaborn as sns\n",
    "\n",
    "import warnings\n",
    "warnings.filterwarnings('ignore')"
   ]
  },
  {
   "cell_type": "markdown",
   "id": "b7cc09a0",
   "metadata": {},
   "source": [
    "# Evaluation Metrics"
   ]
  },
  {
   "cell_type": "markdown",
   "id": "19a8b665",
   "metadata": {},
   "source": [
    "Pada kasus Ecommerce churn prediction ini, kami menggunakan **Recall** sebagai metrics utama karena tujuan utama dari prediksi model ini adalah mencegah customer untuk churn jika ia terdeteksi churn, maka dari itu dengan metrics recall prediksi kami dapat berfokus sebanyak-banyaknya customer yang berpotensi untuk churn untuk mencegah mereka untuk churn.\n",
    "\n",
    "Customer yang diprediksi akan churn akan diberikan kupon atau penawaran spesial agar mereka tidak churn, namun karena dataset ini mempunyai target yang imbalance, untuk mencegah memberikan terlalu banyak kupon kepada customer yang tidak berpotensi churn maka kami akan memakai metrics **ROC_AUC** sebagai tambahan."
   ]
  },
  {
   "cell_type": "markdown",
   "id": "1924173d",
   "metadata": {},
   "source": [
    "# Read Dataset"
   ]
  },
  {
   "cell_type": "code",
   "execution_count": 2,
   "id": "0badb32a",
   "metadata": {},
   "outputs": [
    {
     "name": "stdout",
     "output_type": "stream",
     "text": [
      " Volume in drive C has no label.\n",
      " Volume Serial Number is 40F4-F4CD\n",
      "\n",
      " Directory of C:\\Users\\DELL\\Documents\\Bryan\\Rakamin\\Intellegend-Final-Project\n",
      "\n",
      "01/03/2022  01:29    <DIR>          .\n",
      "01/03/2022  01:29    <DIR>          ..\n",
      "14/02/2022  00:27                66 .gitattributes\n",
      "01/03/2022  01:00    <DIR>          .ipynb_checkpoints\n",
      "23/02/2022  10:31    <DIR>          catboost_info\n",
      "17/02/2022  17:18            95.545 df_test.csv\n",
      "21/02/2022  18:41           279.065 df_test_2.csv\n",
      "17/02/2022  17:18           365.331 df_train.csv\n",
      "21/02/2022  18:41         1.079.863 df_train_2.csv\n",
      "26/01/2021  10:20           555.610 E Commerce Dataset.xlsx\n",
      "14/02/2022  01:55    <DIR>          Guidance\n",
      "01/03/2022  01:29            83.079 Insight.ipynb\n",
      "18/02/2022  23:28         7.662.688 Laporan Final Project - Ghoib CC.pptx\n",
      "21/02/2022  22:01         7.738.687 Laporan Final Project - Stage 3.pptx\n",
      "27/01/2022  18:35         7.844.126 Pandas Profiling.html\n",
      "20/02/2022  23:47             4.692 README.md\n",
      "06/02/2022  19:21         1.928.073 Stage 0 - Notulen Mentoring.pptx\n",
      "17/02/2022  17:25             3.892 Stage 0 (Problem Definition).ipynb\n",
      "14/02/2022  01:55    <DIR>          Stage 1\n",
      "06/02/2022  21:10         1.928.454 Stage 1 - Notulen Mentoring.pptx\n",
      "01/03/2022  00:59         2.225.713 Stage 1 (EDA).ipynb\n",
      "20/02/2022  23:36    <DIR>          Stage 2\n",
      "18/02/2022  23:29         8.677.962 Stage 2 - Intellegend.zip\n",
      "13/02/2022  21:40         1.928.471 Stage 2 - Notulen Mentoring.pptx\n",
      "21/02/2022  18:42         1.284.041 Stage 2 (Data Preprocessing) - Remove outlier.ipynb\n",
      "18/02/2022  23:24           866.457 Stage 2 (Data Preprocessing).ipynb\n",
      "21/02/2022  22:02    <DIR>          Stage 3\n",
      "21/02/2022  21:39         1.928.471 Stage 3 - Notulen Mentoring.pptx\n",
      "25/02/2022  21:54           291.341 Stage 3 (Modelling) - Removed outlier.ipynb\n",
      "21/02/2022  21:43            72.310 Stage 3 (Modelling).ipynb\n",
      "27/02/2022  22:36         1.928.433 Stage 4 - Notulen Mentoring.pptx\n",
      "              23 File(s)     48.772.370 bytes\n",
      "               8 Dir(s)  244.920.569.856 bytes free\n"
     ]
    }
   ],
   "source": [
    "ls"
   ]
  },
  {
   "cell_type": "code",
   "execution_count": 3,
   "id": "0a69cfe4",
   "metadata": {},
   "outputs": [],
   "source": [
    "df_train = pd.read_csv('df_train.csv')\n",
    "df_test = pd.read_csv('df_test.csv')"
   ]
  },
  {
   "cell_type": "code",
   "execution_count": 4,
   "id": "df568436",
   "metadata": {},
   "outputs": [
    {
     "data": {
      "text/html": [
       "<div>\n",
       "<style scoped>\n",
       "    .dataframe tbody tr th:only-of-type {\n",
       "        vertical-align: middle;\n",
       "    }\n",
       "\n",
       "    .dataframe tbody tr th {\n",
       "        vertical-align: top;\n",
       "    }\n",
       "\n",
       "    .dataframe thead th {\n",
       "        text-align: right;\n",
       "    }\n",
       "</style>\n",
       "<table border=\"1\" class=\"dataframe\">\n",
       "  <thead>\n",
       "    <tr style=\"text-align: right;\">\n",
       "      <th></th>\n",
       "      <th>Tenure</th>\n",
       "      <th>CityTier</th>\n",
       "      <th>WarehouseToHome</th>\n",
       "      <th>Complain</th>\n",
       "      <th>DaySinceLastOrder</th>\n",
       "      <th>CashbackAmount</th>\n",
       "      <th>Churn</th>\n",
       "    </tr>\n",
       "  </thead>\n",
       "  <tbody>\n",
       "    <tr>\n",
       "      <th>0</th>\n",
       "      <td>0.059487</td>\n",
       "      <td>1</td>\n",
       "      <td>0.355402</td>\n",
       "      <td>1</td>\n",
       "      <td>0.273019</td>\n",
       "      <td>0.460876</td>\n",
       "      <td>0</td>\n",
       "    </tr>\n",
       "    <tr>\n",
       "      <th>1</th>\n",
       "      <td>0.546668</td>\n",
       "      <td>1</td>\n",
       "      <td>0.384142</td>\n",
       "      <td>1</td>\n",
       "      <td>0.509468</td>\n",
       "      <td>0.510200</td>\n",
       "      <td>0</td>\n",
       "    </tr>\n",
       "    <tr>\n",
       "      <th>2</th>\n",
       "      <td>0.000000</td>\n",
       "      <td>1</td>\n",
       "      <td>0.247171</td>\n",
       "      <td>0</td>\n",
       "      <td>0.200478</td>\n",
       "      <td>0.401028</td>\n",
       "      <td>0</td>\n",
       "    </tr>\n",
       "    <tr>\n",
       "      <th>3</th>\n",
       "      <td>0.389387</td>\n",
       "      <td>1</td>\n",
       "      <td>0.200539</td>\n",
       "      <td>1</td>\n",
       "      <td>0.000000</td>\n",
       "      <td>0.360073</td>\n",
       "      <td>0</td>\n",
       "    </tr>\n",
       "    <tr>\n",
       "      <th>4</th>\n",
       "      <td>0.235714</td>\n",
       "      <td>1</td>\n",
       "      <td>0.323493</td>\n",
       "      <td>1</td>\n",
       "      <td>0.273019</td>\n",
       "      <td>0.456045</td>\n",
       "      <td>0</td>\n",
       "    </tr>\n",
       "  </tbody>\n",
       "</table>\n",
       "</div>"
      ],
      "text/plain": [
       "     Tenure  CityTier  WarehouseToHome  Complain  DaySinceLastOrder  \\\n",
       "0  0.059487         1         0.355402         1           0.273019   \n",
       "1  0.546668         1         0.384142         1           0.509468   \n",
       "2  0.000000         1         0.247171         0           0.200478   \n",
       "3  0.389387         1         0.200539         1           0.000000   \n",
       "4  0.235714         1         0.323493         1           0.273019   \n",
       "\n",
       "   CashbackAmount  Churn  \n",
       "0        0.460876      0  \n",
       "1        0.510200      0  \n",
       "2        0.401028      0  \n",
       "3        0.360073      0  \n",
       "4        0.456045      0  "
      ]
     },
     "execution_count": 4,
     "metadata": {},
     "output_type": "execute_result"
    }
   ],
   "source": [
    "df_train.head()"
   ]
  },
  {
   "cell_type": "code",
   "execution_count": 5,
   "id": "73de9a9d",
   "metadata": {},
   "outputs": [],
   "source": [
    "X_train = df_train.drop('Churn', axis = 1)\n",
    "y_train = df_train['Churn']\n",
    "X_test = df_test.drop('Churn', axis = 1)\n",
    "y_test = df_test['Churn']"
   ]
  },
  {
   "cell_type": "markdown",
   "id": "85133236",
   "metadata": {},
   "source": [
    "# Baseline Model"
   ]
  },
  {
   "cell_type": "code",
   "execution_count": 6,
   "id": "52940faa",
   "metadata": {},
   "outputs": [
    {
     "data": {
      "text/html": [
       "<div>\n",
       "<style scoped>\n",
       "    .dataframe tbody tr th:only-of-type {\n",
       "        vertical-align: middle;\n",
       "    }\n",
       "\n",
       "    .dataframe tbody tr th {\n",
       "        vertical-align: top;\n",
       "    }\n",
       "\n",
       "    .dataframe thead th {\n",
       "        text-align: right;\n",
       "    }\n",
       "</style>\n",
       "<table border=\"1\" class=\"dataframe\">\n",
       "  <thead>\n",
       "    <tr style=\"text-align: right;\">\n",
       "      <th></th>\n",
       "      <th>Tenure</th>\n",
       "      <th>CityTier</th>\n",
       "      <th>WarehouseToHome</th>\n",
       "      <th>Complain</th>\n",
       "      <th>DaySinceLastOrder</th>\n",
       "      <th>CashbackAmount</th>\n",
       "    </tr>\n",
       "  </thead>\n",
       "  <tbody>\n",
       "    <tr>\n",
       "      <th>0</th>\n",
       "      <td>0.059487</td>\n",
       "      <td>1</td>\n",
       "      <td>0.355402</td>\n",
       "      <td>1</td>\n",
       "      <td>0.273019</td>\n",
       "      <td>0.460876</td>\n",
       "    </tr>\n",
       "    <tr>\n",
       "      <th>1</th>\n",
       "      <td>0.546668</td>\n",
       "      <td>1</td>\n",
       "      <td>0.384142</td>\n",
       "      <td>1</td>\n",
       "      <td>0.509468</td>\n",
       "      <td>0.510200</td>\n",
       "    </tr>\n",
       "    <tr>\n",
       "      <th>2</th>\n",
       "      <td>0.000000</td>\n",
       "      <td>1</td>\n",
       "      <td>0.247171</td>\n",
       "      <td>0</td>\n",
       "      <td>0.200478</td>\n",
       "      <td>0.401028</td>\n",
       "    </tr>\n",
       "    <tr>\n",
       "      <th>3</th>\n",
       "      <td>0.389387</td>\n",
       "      <td>1</td>\n",
       "      <td>0.200539</td>\n",
       "      <td>1</td>\n",
       "      <td>0.000000</td>\n",
       "      <td>0.360073</td>\n",
       "    </tr>\n",
       "    <tr>\n",
       "      <th>4</th>\n",
       "      <td>0.235714</td>\n",
       "      <td>1</td>\n",
       "      <td>0.323493</td>\n",
       "      <td>1</td>\n",
       "      <td>0.273019</td>\n",
       "      <td>0.456045</td>\n",
       "    </tr>\n",
       "    <tr>\n",
       "      <th>...</th>\n",
       "      <td>...</td>\n",
       "      <td>...</td>\n",
       "      <td>...</td>\n",
       "      <td>...</td>\n",
       "      <td>...</td>\n",
       "      <td>...</td>\n",
       "    </tr>\n",
       "    <tr>\n",
       "      <th>4499</th>\n",
       "      <td>0.059487</td>\n",
       "      <td>1</td>\n",
       "      <td>0.621352</td>\n",
       "      <td>0</td>\n",
       "      <td>0.273019</td>\n",
       "      <td>0.454537</td>\n",
       "    </tr>\n",
       "    <tr>\n",
       "      <th>4500</th>\n",
       "      <td>0.412954</td>\n",
       "      <td>3</td>\n",
       "      <td>0.456043</td>\n",
       "      <td>0</td>\n",
       "      <td>0.273019</td>\n",
       "      <td>0.695283</td>\n",
       "    </tr>\n",
       "    <tr>\n",
       "      <th>4501</th>\n",
       "      <td>0.336746</td>\n",
       "      <td>1</td>\n",
       "      <td>0.323493</td>\n",
       "      <td>0</td>\n",
       "      <td>0.273019</td>\n",
       "      <td>0.502723</td>\n",
       "    </tr>\n",
       "    <tr>\n",
       "      <th>4502</th>\n",
       "      <td>0.059487</td>\n",
       "      <td>1</td>\n",
       "      <td>0.703346</td>\n",
       "      <td>0</td>\n",
       "      <td>0.273019</td>\n",
       "      <td>0.504846</td>\n",
       "    </tr>\n",
       "    <tr>\n",
       "      <th>4503</th>\n",
       "      <td>0.000000</td>\n",
       "      <td>1</td>\n",
       "      <td>0.632050</td>\n",
       "      <td>1</td>\n",
       "      <td>0.449698</td>\n",
       "      <td>0.497831</td>\n",
       "    </tr>\n",
       "  </tbody>\n",
       "</table>\n",
       "<p>4504 rows × 6 columns</p>\n",
       "</div>"
      ],
      "text/plain": [
       "        Tenure  CityTier  WarehouseToHome  Complain  DaySinceLastOrder  \\\n",
       "0     0.059487         1         0.355402         1           0.273019   \n",
       "1     0.546668         1         0.384142         1           0.509468   \n",
       "2     0.000000         1         0.247171         0           0.200478   \n",
       "3     0.389387         1         0.200539         1           0.000000   \n",
       "4     0.235714         1         0.323493         1           0.273019   \n",
       "...        ...       ...              ...       ...                ...   \n",
       "4499  0.059487         1         0.621352         0           0.273019   \n",
       "4500  0.412954         3         0.456043         0           0.273019   \n",
       "4501  0.336746         1         0.323493         0           0.273019   \n",
       "4502  0.059487         1         0.703346         0           0.273019   \n",
       "4503  0.000000         1         0.632050         1           0.449698   \n",
       "\n",
       "      CashbackAmount  \n",
       "0           0.460876  \n",
       "1           0.510200  \n",
       "2           0.401028  \n",
       "3           0.360073  \n",
       "4           0.456045  \n",
       "...              ...  \n",
       "4499        0.454537  \n",
       "4500        0.695283  \n",
       "4501        0.502723  \n",
       "4502        0.504846  \n",
       "4503        0.497831  \n",
       "\n",
       "[4504 rows x 6 columns]"
      ]
     },
     "execution_count": 6,
     "metadata": {},
     "output_type": "execute_result"
    }
   ],
   "source": [
    "X_train"
   ]
  },
  {
   "cell_type": "code",
   "execution_count": 7,
   "id": "95297379",
   "metadata": {},
   "outputs": [
    {
     "data": {
      "text/plain": [
       "0       0\n",
       "1       0\n",
       "2       0\n",
       "3       0\n",
       "4       0\n",
       "       ..\n",
       "4499    0\n",
       "4500    1\n",
       "4501    0\n",
       "4502    0\n",
       "4503    1\n",
       "Name: Churn, Length: 4504, dtype: int64"
      ]
     },
     "execution_count": 7,
     "metadata": {},
     "output_type": "execute_result"
    }
   ],
   "source": [
    "y_train"
   ]
  },
  {
   "cell_type": "code",
   "execution_count": 8,
   "id": "cff769a7",
   "metadata": {},
   "outputs": [],
   "source": [
    "LR = LogisticRegression()\n",
    "LR.fit(X_train, y_train)\n",
    "y_pred = LR.predict(X_test)"
   ]
  },
  {
   "cell_type": "code",
   "execution_count": 9,
   "id": "1b094e07",
   "metadata": {},
   "outputs": [
    {
     "name": "stdout",
     "output_type": "stream",
     "text": [
      "Recall Score = 0.3837837837837838\n",
      "ROC_AUC Score = 0.6796708504466209\n"
     ]
    }
   ],
   "source": [
    "print(f'Recall Score = {recall_score(y_test, y_pred)}')\n",
    "print(f'ROC_AUC Score = {roc_auc_score(y_test, y_pred)}')"
   ]
  },
  {
   "cell_type": "code",
   "execution_count": 10,
   "id": "f43d83e6",
   "metadata": {},
   "outputs": [],
   "source": [
    "LRP = { # Logistic Regression\n",
    "        'penalty': ['l2','l1','elasticnet'],\n",
    "        'C': np.logspace(-4,4,20)\n",
    "    }"
   ]
  },
  {
   "cell_type": "code",
   "execution_count": 11,
   "id": "be258bad",
   "metadata": {},
   "outputs": [
    {
     "name": "stdout",
     "output_type": "stream",
     "text": [
      "Recall Score = 0.40540540540540543\n",
      "ROC_AUC Score = 0.6878249131171554\n"
     ]
    }
   ],
   "source": [
    "LR = LogisticRegression()\n",
    "GSCV = GridSearchCV(LR, LRP, cv = 5, n_jobs = -1, verbose = 0, scoring = 'recall')\n",
    "GSCV.fit(X_train, y_train)\n",
    "y_pred = GSCV.predict(X_test)\n",
    "print(f'Recall Score = {recall_score(y_test, y_pred)}')\n",
    "print(f'ROC_AUC Score = {roc_auc_score(y_test, y_pred)}')"
   ]
  },
  {
   "cell_type": "code",
   "execution_count": 12,
   "id": "fd6758f4",
   "metadata": {},
   "outputs": [
    {
     "name": "stdout",
     "output_type": "stream",
     "text": [
      "Recall Score = 0.40104849279161203\n",
      "ROC_AUC Score = 0.6827482506727374\n"
     ]
    }
   ],
   "source": [
    "y_pred_train = GSCV.predict(X_train)\n",
    "print(f'Recall Score = {recall_score(y_train, y_pred_train)}')\n",
    "print(f'ROC_AUC Score = {roc_auc_score(y_train, y_pred_train)}')"
   ]
  },
  {
   "cell_type": "markdown",
   "id": "f63db675",
   "metadata": {},
   "source": [
    "Jika dilihat dari model baseline, model tersebut adalah model yang undertrain. karena itu kita perlu menaikkan variance dari model dengan menggunakan model-model boosting. Namun model-model lain akan tetap dicoba untuk menguji performa mereka"
   ]
  },
  {
   "cell_type": "code",
   "execution_count": 23,
   "id": "0507326e",
   "metadata": {},
   "outputs": [],
   "source": [
    "models = [DecisionTreeClassifier(),\n",
    "          KNeighborsClassifier(),\n",
    "          SVC(),\n",
    "         RandomForestClassifier(random_state = 42),\n",
    "         GradientBoostingClassifier(),\n",
    "         XGBClassifier(random_state = 42, use_label_encoder=False, scale_pos_weight = 5),\n",
    "         AdaBoostClassifier(random_state = 42),\n",
    "         CatBoostClassifier(random_state = 42, verbose = False)]\n",
    "names = ['Decision Tree',\n",
    "         'KNN',\n",
    "         'SVM',\n",
    "       'Random Forest',\n",
    "       'Gradient Boosting',\n",
    "       'XGBoost',\n",
    "       'AdaBoost',\n",
    "       'CatBoost']"
   ]
  },
  {
   "cell_type": "code",
   "execution_count": 24,
   "id": "16416ab7",
   "metadata": {},
   "outputs": [],
   "source": [
    "def plusNone(arr):\n",
    "    return np.array(arr.tolist() + [None])"
   ]
  },
  {
   "cell_type": "code",
   "execution_count": 25,
   "id": "4bc7a3b1",
   "metadata": {},
   "outputs": [],
   "source": [
    "params = [\n",
    "    { # Decision Tree\n",
    "        'max_depth': plusNone(np.linspace(1, 32, 32, endpoint=True)),\n",
    "        'min_samples_split': np.linspace(0.1, 1.0, 10, endpoint=True),\n",
    "        'min_samples_leaf': np.linspace(0.1, 0.5, 5, endpoint=True),\n",
    "        'max_features': plusNone(np.array(range(1,X_train.shape[1])))\n",
    "    },\n",
    "    { # KNearestNeighbor\n",
    "        'leaf_size': list(range(1,50)),\n",
    "        'n_neighbors': list(range(1,30)),\n",
    "        'p': [1,2],\n",
    "        'algorithm' : ['auto', 'ball_tree', 'kd_tree', 'brute']\n",
    "    },\n",
    "    {# SVC\n",
    "        'C': [0.1, 1, 10, 100, 1000],\n",
    "        'gamma': [1, 0.1, 0.01, 0.001, 0.0001],\n",
    "        'kernel': ['rbf']\n",
    "    }, \n",
    "    {#Random Forest\n",
    "        'bootstrap': [True, False],\n",
    "        'max_depth': [10, 20, 30, 40, 50, 60, 70, 80, 90, 100, None],\n",
    "        'max_features': ['auto', 'sqrt'],\n",
    "        'min_samples_leaf': [1, 2, 4],\n",
    "        'min_samples_split': [2, 5, 10],\n",
    "        'n_estimators': [200, 400, 600, 800, 1000, 1200, 1400, 1600, 1800, 2000]\n",
    "    },\n",
    "    {# Gradient Boosting\n",
    "        \"n_estimators\":[5,50,250,500],\n",
    "        \"max_depth\":[1,3,5,7,9],\n",
    "        \"learning_rate\":[0.01,0.1,1,10,100]\n",
    "    },\n",
    "    { # XGBoost\n",
    "        'max_depth' : [int(x) for x in np.linspace(10, 110, num = 11)],\n",
    "        'min_child_weight' : [int(x) for x in np.linspace(1, 20, num = 11)],\n",
    "        'gamma' : [float(x) for x in np.linspace(0, 1, num = 11)],\n",
    "        'tree_method' : ['auto', 'exact', 'approx', 'hist'],\n",
    "\n",
    "        'colsample_bytree' : [float(x) for x in np.linspace(0, 1, num = 11)],\n",
    "        'eta' : [float(x) for x in np.linspace(0, 1, num = 100)],\n",
    "\n",
    "        'lambda' : [float(x) for x in np.linspace(0, 1, num = 11)],\n",
    "        'alpha' : [float(x) for x in np.linspace(0, 1, num = 11)]\n",
    "    },\n",
    "    { # Adaboost\n",
    "       'n_estimators': [int(x) for x in np.linspace(start = 100, stop = 2000, num = 20)],\n",
    "       'learning_rate': [float(x) for x in np.linspace(start = 0.001, stop = 0.1, num = 20)],\n",
    "       'algorithm': ['SAMME', 'SAMME.R']\n",
    "    },\n",
    "    {# Catboost\n",
    "        'max_depth': [3,4,5],\n",
    "        'n_estimators':[100, 200, 300]\n",
    "    }\n",
    "]"
   ]
  },
  {
   "cell_type": "markdown",
   "id": "4e172251",
   "metadata": {},
   "source": [
    "# Before Hyperparameter Tuning"
   ]
  },
  {
   "cell_type": "code",
   "execution_count": 26,
   "id": "9fc5beb2",
   "metadata": {},
   "outputs": [],
   "source": [
    "def model_score(model, name):\n",
    "    print(f'{name}:')\n",
    "    model = model\n",
    "    model.fit(X_train, y_train)\n",
    "    y_pred = model.predict(X_test)\n",
    "    print(f'Recall Score = {recall_score(y_test, y_pred)}')\n",
    "    print(f'ROC_AUC Score = {roc_auc_score(y_test, y_pred)}')\n",
    "    print('\\n')"
   ]
  },
  {
   "cell_type": "code",
   "execution_count": 27,
   "id": "f96c4b61",
   "metadata": {
    "scrolled": false
   },
   "outputs": [
    {
     "name": "stdout",
     "output_type": "stream",
     "text": [
      "Decision Tree:\n",
      "Recall Score = 0.772972972972973\n",
      "ROC_AUC Score = 0.8530114599190051\n",
      "\n",
      "\n",
      "KNN:\n",
      "Recall Score = 0.5891891891891892\n",
      "ROC_AUC Score = 0.7765287072407158\n",
      "\n",
      "\n",
      "SVM:\n",
      "Recall Score = 0.34594594594594597\n",
      "ROC_AUC Score = 0.6618146307838125\n",
      "\n",
      "\n",
      "Random Forest:\n",
      "Recall Score = 0.7027027027027027\n",
      "ROC_AUC Score = 0.8380676106499698\n",
      "\n",
      "\n",
      "Gradient Boosting:\n",
      "Recall Score = 0.5567567567567567\n",
      "ROC_AUC Score = 0.7635005887928311\n",
      "\n",
      "\n",
      "XGBoost:\n",
      "[01:55:38] WARNING: C:/Users/Administrator/workspace/xgboost-win64_release_1.5.1/src/learner.cc:1115: Starting in XGBoost 1.3.0, the default evaluation metric used with the objective 'binary:logistic' was changed from 'error' to 'logloss'. Explicitly set eval_metric if you'd like to restore the old behavior.\n",
      "Recall Score = 0.827027027027027\n",
      "ROC_AUC Score = 0.8901341298790819\n",
      "\n",
      "\n",
      "AdaBoost:\n",
      "Recall Score = 0.5297297297297298\n",
      "ROC_AUC Score = 0.7505184249073729\n",
      "\n",
      "\n",
      "CatBoost:\n",
      "Recall Score = 0.6162162162162163\n",
      "ROC_AUC Score = 0.7895108711261739\n",
      "\n",
      "\n"
     ]
    }
   ],
   "source": [
    "for i in range(len(models)):\n",
    "    model_score(models[i], names[i])"
   ]
  },
  {
   "cell_type": "markdown",
   "id": "994e3c55",
   "metadata": {},
   "source": [
    "# After Hyperparameter Tuning"
   ]
  },
  {
   "cell_type": "code",
   "execution_count": 28,
   "id": "94683d84",
   "metadata": {},
   "outputs": [],
   "source": [
    "def model_score_tune_rscv(model, name, params, n_iter = 10):\n",
    "    print(f'{name}:')\n",
    "    RSCV = RandomizedSearchCV(model, params, cv = 3, n_jobs = -1, verbose = 0, scoring = ['recall', 'roc_auc'], random_state = 42, refit = 'recall', n_iter = n_iter)\n",
    "    RSCV.fit(X_train, y_train)\n",
    "    y_pred = RSCV.predict(X_test)\n",
    "    print(f'Recall Score = {recall_score(y_test, y_pred)}')\n",
    "    print(f'ROC_AUC Score = {roc_auc_score(y_test, y_pred)}')\n",
    "    print(RSCV.best_params_)\n",
    "    print('\\n')"
   ]
  },
  {
   "cell_type": "code",
   "execution_count": 29,
   "id": "b62d62de",
   "metadata": {},
   "outputs": [],
   "source": [
    "def model_score_tune_gscv(model, name, params):\n",
    "    print(f'{name}:')\n",
    "    GSCV = GridSearchCV(model, params, cv = 3, n_jobs = -1, verbose = 0, scoring = 'recall')\n",
    "    GSCV.fit(X_train, y_train)\n",
    "    y_pred = GSCV.predict(X_test)\n",
    "    print(f'Recall Score = {recall_score(y_test, y_pred)}')\n",
    "    print(f'ROC_AUC Score = {roc_auc_score(y_test, y_pred)}')\n",
    "    print(GSCV.best_params_)\n",
    "    print('\\n')"
   ]
  },
  {
   "cell_type": "code",
   "execution_count": 22,
   "id": "b09b330a",
   "metadata": {
    "scrolled": true
   },
   "outputs": [
    {
     "name": "stdout",
     "output_type": "stream",
     "text": [
      "Decision Tree:\n",
      "Recall Score = 0.0\n",
      "ROC_AUC Score = 0.5\n",
      "{'max_depth': 25.0, 'max_features': 3, 'min_samples_leaf': 0.1, 'min_samples_split': 0.2}\n",
      "\n",
      "\n",
      "KNN:\n",
      "Recall Score = 0.8216216216216217\n",
      "ROC_AUC Score = 0.8922135738288767\n",
      "{'algorithm': 'auto', 'leaf_size': 1, 'n_neighbors': 1, 'p': 1}\n",
      "\n",
      "\n",
      "SVM:\n",
      "Recall Score = 0.5297297297297298\n",
      "ROC_AUC Score = 0.7531751730476491\n",
      "{'C': 1000, 'gamma': 1, 'kernel': 'rbf'}\n",
      "\n",
      "\n",
      "Random Forest:\n"
     ]
    },
    {
     "ename": "KeyboardInterrupt",
     "evalue": "",
     "output_type": "error",
     "traceback": [
      "\u001b[1;31m---------------------------------------------------------------------------\u001b[0m",
      "\u001b[1;31mKeyboardInterrupt\u001b[0m                         Traceback (most recent call last)",
      "\u001b[1;32m~\\AppData\\Local\\Temp/ipykernel_6724/3077962146.py\u001b[0m in \u001b[0;36m<module>\u001b[1;34m\u001b[0m\n\u001b[0;32m      1\u001b[0m \u001b[1;32mfor\u001b[0m \u001b[0mi\u001b[0m \u001b[1;32min\u001b[0m \u001b[0mrange\u001b[0m\u001b[1;33m(\u001b[0m\u001b[0mlen\u001b[0m\u001b[1;33m(\u001b[0m\u001b[0mmodels\u001b[0m\u001b[1;33m)\u001b[0m\u001b[1;33m)\u001b[0m\u001b[1;33m:\u001b[0m\u001b[1;33m\u001b[0m\u001b[1;33m\u001b[0m\u001b[0m\n\u001b[1;32m----> 2\u001b[1;33m     \u001b[0mmodel_score_tune_gscv\u001b[0m\u001b[1;33m(\u001b[0m\u001b[0mmodels\u001b[0m\u001b[1;33m[\u001b[0m\u001b[0mi\u001b[0m\u001b[1;33m]\u001b[0m\u001b[1;33m,\u001b[0m \u001b[0mnames\u001b[0m\u001b[1;33m[\u001b[0m\u001b[0mi\u001b[0m\u001b[1;33m]\u001b[0m\u001b[1;33m,\u001b[0m \u001b[0mparams\u001b[0m\u001b[1;33m[\u001b[0m\u001b[0mi\u001b[0m\u001b[1;33m]\u001b[0m\u001b[1;33m)\u001b[0m\u001b[1;33m\u001b[0m\u001b[1;33m\u001b[0m\u001b[0m\n\u001b[0m",
      "\u001b[1;32m~\\AppData\\Local\\Temp/ipykernel_6724/2574833394.py\u001b[0m in \u001b[0;36mmodel_score_tune_gscv\u001b[1;34m(model, name, params)\u001b[0m\n\u001b[0;32m      2\u001b[0m     \u001b[0mprint\u001b[0m\u001b[1;33m(\u001b[0m\u001b[1;34mf'{name}:'\u001b[0m\u001b[1;33m)\u001b[0m\u001b[1;33m\u001b[0m\u001b[1;33m\u001b[0m\u001b[0m\n\u001b[0;32m      3\u001b[0m     \u001b[0mGSCV\u001b[0m \u001b[1;33m=\u001b[0m \u001b[0mGridSearchCV\u001b[0m\u001b[1;33m(\u001b[0m\u001b[0mmodel\u001b[0m\u001b[1;33m,\u001b[0m \u001b[0mparams\u001b[0m\u001b[1;33m,\u001b[0m \u001b[0mcv\u001b[0m \u001b[1;33m=\u001b[0m \u001b[1;36m3\u001b[0m\u001b[1;33m,\u001b[0m \u001b[0mn_jobs\u001b[0m \u001b[1;33m=\u001b[0m \u001b[1;33m-\u001b[0m\u001b[1;36m1\u001b[0m\u001b[1;33m,\u001b[0m \u001b[0mverbose\u001b[0m \u001b[1;33m=\u001b[0m \u001b[1;36m0\u001b[0m\u001b[1;33m,\u001b[0m \u001b[0mscoring\u001b[0m \u001b[1;33m=\u001b[0m \u001b[1;34m'recall'\u001b[0m\u001b[1;33m)\u001b[0m\u001b[1;33m\u001b[0m\u001b[1;33m\u001b[0m\u001b[0m\n\u001b[1;32m----> 4\u001b[1;33m     \u001b[0mGSCV\u001b[0m\u001b[1;33m.\u001b[0m\u001b[0mfit\u001b[0m\u001b[1;33m(\u001b[0m\u001b[0mX_train\u001b[0m\u001b[1;33m,\u001b[0m \u001b[0my_train\u001b[0m\u001b[1;33m)\u001b[0m\u001b[1;33m\u001b[0m\u001b[1;33m\u001b[0m\u001b[0m\n\u001b[0m\u001b[0;32m      5\u001b[0m     \u001b[0my_pred\u001b[0m \u001b[1;33m=\u001b[0m \u001b[0mGSCV\u001b[0m\u001b[1;33m.\u001b[0m\u001b[0mpredict\u001b[0m\u001b[1;33m(\u001b[0m\u001b[0mX_test\u001b[0m\u001b[1;33m)\u001b[0m\u001b[1;33m\u001b[0m\u001b[1;33m\u001b[0m\u001b[0m\n\u001b[0;32m      6\u001b[0m     \u001b[0mprint\u001b[0m\u001b[1;33m(\u001b[0m\u001b[1;34mf'Recall Score = {recall_score(y_test, y_pred)}'\u001b[0m\u001b[1;33m)\u001b[0m\u001b[1;33m\u001b[0m\u001b[1;33m\u001b[0m\u001b[0m\n",
      "\u001b[1;32mc:\\users\\dell\\appdata\\local\\programs\\python\\python38\\lib\\site-packages\\sklearn\\model_selection\\_search.py\u001b[0m in \u001b[0;36mfit\u001b[1;34m(self, X, y, groups, **fit_params)\u001b[0m\n\u001b[0;32m    889\u001b[0m                 \u001b[1;32mreturn\u001b[0m \u001b[0mresults\u001b[0m\u001b[1;33m\u001b[0m\u001b[1;33m\u001b[0m\u001b[0m\n\u001b[0;32m    890\u001b[0m \u001b[1;33m\u001b[0m\u001b[0m\n\u001b[1;32m--> 891\u001b[1;33m             \u001b[0mself\u001b[0m\u001b[1;33m.\u001b[0m\u001b[0m_run_search\u001b[0m\u001b[1;33m(\u001b[0m\u001b[0mevaluate_candidates\u001b[0m\u001b[1;33m)\u001b[0m\u001b[1;33m\u001b[0m\u001b[1;33m\u001b[0m\u001b[0m\n\u001b[0m\u001b[0;32m    892\u001b[0m \u001b[1;33m\u001b[0m\u001b[0m\n\u001b[0;32m    893\u001b[0m             \u001b[1;31m# multimetric is determined here because in the case of a callable\u001b[0m\u001b[1;33m\u001b[0m\u001b[1;33m\u001b[0m\u001b[1;33m\u001b[0m\u001b[0m\n",
      "\u001b[1;32mc:\\users\\dell\\appdata\\local\\programs\\python\\python38\\lib\\site-packages\\sklearn\\model_selection\\_search.py\u001b[0m in \u001b[0;36m_run_search\u001b[1;34m(self, evaluate_candidates)\u001b[0m\n\u001b[0;32m   1390\u001b[0m     \u001b[1;32mdef\u001b[0m \u001b[0m_run_search\u001b[0m\u001b[1;33m(\u001b[0m\u001b[0mself\u001b[0m\u001b[1;33m,\u001b[0m \u001b[0mevaluate_candidates\u001b[0m\u001b[1;33m)\u001b[0m\u001b[1;33m:\u001b[0m\u001b[1;33m\u001b[0m\u001b[1;33m\u001b[0m\u001b[0m\n\u001b[0;32m   1391\u001b[0m         \u001b[1;34m\"\"\"Search all candidates in param_grid\"\"\"\u001b[0m\u001b[1;33m\u001b[0m\u001b[1;33m\u001b[0m\u001b[0m\n\u001b[1;32m-> 1392\u001b[1;33m         \u001b[0mevaluate_candidates\u001b[0m\u001b[1;33m(\u001b[0m\u001b[0mParameterGrid\u001b[0m\u001b[1;33m(\u001b[0m\u001b[0mself\u001b[0m\u001b[1;33m.\u001b[0m\u001b[0mparam_grid\u001b[0m\u001b[1;33m)\u001b[0m\u001b[1;33m)\u001b[0m\u001b[1;33m\u001b[0m\u001b[1;33m\u001b[0m\u001b[0m\n\u001b[0m\u001b[0;32m   1393\u001b[0m \u001b[1;33m\u001b[0m\u001b[0m\n\u001b[0;32m   1394\u001b[0m \u001b[1;33m\u001b[0m\u001b[0m\n",
      "\u001b[1;32mc:\\users\\dell\\appdata\\local\\programs\\python\\python38\\lib\\site-packages\\sklearn\\model_selection\\_search.py\u001b[0m in \u001b[0;36mevaluate_candidates\u001b[1;34m(candidate_params, cv, more_results)\u001b[0m\n\u001b[0;32m    836\u001b[0m                     )\n\u001b[0;32m    837\u001b[0m \u001b[1;33m\u001b[0m\u001b[0m\n\u001b[1;32m--> 838\u001b[1;33m                 out = parallel(\n\u001b[0m\u001b[0;32m    839\u001b[0m                     delayed(_fit_and_score)(\n\u001b[0;32m    840\u001b[0m                         \u001b[0mclone\u001b[0m\u001b[1;33m(\u001b[0m\u001b[0mbase_estimator\u001b[0m\u001b[1;33m)\u001b[0m\u001b[1;33m,\u001b[0m\u001b[1;33m\u001b[0m\u001b[1;33m\u001b[0m\u001b[0m\n",
      "\u001b[1;32mc:\\users\\dell\\appdata\\local\\programs\\python\\python38\\lib\\site-packages\\joblib\\parallel.py\u001b[0m in \u001b[0;36m__call__\u001b[1;34m(self, iterable)\u001b[0m\n\u001b[0;32m   1052\u001b[0m \u001b[1;33m\u001b[0m\u001b[0m\n\u001b[0;32m   1053\u001b[0m             \u001b[1;32mwith\u001b[0m \u001b[0mself\u001b[0m\u001b[1;33m.\u001b[0m\u001b[0m_backend\u001b[0m\u001b[1;33m.\u001b[0m\u001b[0mretrieval_context\u001b[0m\u001b[1;33m(\u001b[0m\u001b[1;33m)\u001b[0m\u001b[1;33m:\u001b[0m\u001b[1;33m\u001b[0m\u001b[1;33m\u001b[0m\u001b[0m\n\u001b[1;32m-> 1054\u001b[1;33m                 \u001b[0mself\u001b[0m\u001b[1;33m.\u001b[0m\u001b[0mretrieve\u001b[0m\u001b[1;33m(\u001b[0m\u001b[1;33m)\u001b[0m\u001b[1;33m\u001b[0m\u001b[1;33m\u001b[0m\u001b[0m\n\u001b[0m\u001b[0;32m   1055\u001b[0m             \u001b[1;31m# Make sure that we get a last message telling us we are done\u001b[0m\u001b[1;33m\u001b[0m\u001b[1;33m\u001b[0m\u001b[1;33m\u001b[0m\u001b[0m\n\u001b[0;32m   1056\u001b[0m             \u001b[0melapsed_time\u001b[0m \u001b[1;33m=\u001b[0m \u001b[0mtime\u001b[0m\u001b[1;33m.\u001b[0m\u001b[0mtime\u001b[0m\u001b[1;33m(\u001b[0m\u001b[1;33m)\u001b[0m \u001b[1;33m-\u001b[0m \u001b[0mself\u001b[0m\u001b[1;33m.\u001b[0m\u001b[0m_start_time\u001b[0m\u001b[1;33m\u001b[0m\u001b[1;33m\u001b[0m\u001b[0m\n",
      "\u001b[1;32mc:\\users\\dell\\appdata\\local\\programs\\python\\python38\\lib\\site-packages\\joblib\\parallel.py\u001b[0m in \u001b[0;36mretrieve\u001b[1;34m(self)\u001b[0m\n\u001b[0;32m    931\u001b[0m             \u001b[1;32mtry\u001b[0m\u001b[1;33m:\u001b[0m\u001b[1;33m\u001b[0m\u001b[1;33m\u001b[0m\u001b[0m\n\u001b[0;32m    932\u001b[0m                 \u001b[1;32mif\u001b[0m \u001b[0mgetattr\u001b[0m\u001b[1;33m(\u001b[0m\u001b[0mself\u001b[0m\u001b[1;33m.\u001b[0m\u001b[0m_backend\u001b[0m\u001b[1;33m,\u001b[0m \u001b[1;34m'supports_timeout'\u001b[0m\u001b[1;33m,\u001b[0m \u001b[1;32mFalse\u001b[0m\u001b[1;33m)\u001b[0m\u001b[1;33m:\u001b[0m\u001b[1;33m\u001b[0m\u001b[1;33m\u001b[0m\u001b[0m\n\u001b[1;32m--> 933\u001b[1;33m                     \u001b[0mself\u001b[0m\u001b[1;33m.\u001b[0m\u001b[0m_output\u001b[0m\u001b[1;33m.\u001b[0m\u001b[0mextend\u001b[0m\u001b[1;33m(\u001b[0m\u001b[0mjob\u001b[0m\u001b[1;33m.\u001b[0m\u001b[0mget\u001b[0m\u001b[1;33m(\u001b[0m\u001b[0mtimeout\u001b[0m\u001b[1;33m=\u001b[0m\u001b[0mself\u001b[0m\u001b[1;33m.\u001b[0m\u001b[0mtimeout\u001b[0m\u001b[1;33m)\u001b[0m\u001b[1;33m)\u001b[0m\u001b[1;33m\u001b[0m\u001b[1;33m\u001b[0m\u001b[0m\n\u001b[0m\u001b[0;32m    934\u001b[0m                 \u001b[1;32melse\u001b[0m\u001b[1;33m:\u001b[0m\u001b[1;33m\u001b[0m\u001b[1;33m\u001b[0m\u001b[0m\n\u001b[0;32m    935\u001b[0m                     \u001b[0mself\u001b[0m\u001b[1;33m.\u001b[0m\u001b[0m_output\u001b[0m\u001b[1;33m.\u001b[0m\u001b[0mextend\u001b[0m\u001b[1;33m(\u001b[0m\u001b[0mjob\u001b[0m\u001b[1;33m.\u001b[0m\u001b[0mget\u001b[0m\u001b[1;33m(\u001b[0m\u001b[1;33m)\u001b[0m\u001b[1;33m)\u001b[0m\u001b[1;33m\u001b[0m\u001b[1;33m\u001b[0m\u001b[0m\n",
      "\u001b[1;32mc:\\users\\dell\\appdata\\local\\programs\\python\\python38\\lib\\site-packages\\joblib\\_parallel_backends.py\u001b[0m in \u001b[0;36mwrap_future_result\u001b[1;34m(future, timeout)\u001b[0m\n\u001b[0;32m    540\u001b[0m         AsyncResults.get from multiprocessing.\"\"\"\n\u001b[0;32m    541\u001b[0m         \u001b[1;32mtry\u001b[0m\u001b[1;33m:\u001b[0m\u001b[1;33m\u001b[0m\u001b[1;33m\u001b[0m\u001b[0m\n\u001b[1;32m--> 542\u001b[1;33m             \u001b[1;32mreturn\u001b[0m \u001b[0mfuture\u001b[0m\u001b[1;33m.\u001b[0m\u001b[0mresult\u001b[0m\u001b[1;33m(\u001b[0m\u001b[0mtimeout\u001b[0m\u001b[1;33m=\u001b[0m\u001b[0mtimeout\u001b[0m\u001b[1;33m)\u001b[0m\u001b[1;33m\u001b[0m\u001b[1;33m\u001b[0m\u001b[0m\n\u001b[0m\u001b[0;32m    543\u001b[0m         \u001b[1;32mexcept\u001b[0m \u001b[0mCfTimeoutError\u001b[0m \u001b[1;32mas\u001b[0m \u001b[0me\u001b[0m\u001b[1;33m:\u001b[0m\u001b[1;33m\u001b[0m\u001b[1;33m\u001b[0m\u001b[0m\n\u001b[0;32m    544\u001b[0m             \u001b[1;32mraise\u001b[0m \u001b[0mTimeoutError\u001b[0m \u001b[1;32mfrom\u001b[0m \u001b[0me\u001b[0m\u001b[1;33m\u001b[0m\u001b[1;33m\u001b[0m\u001b[0m\n",
      "\u001b[1;32mc:\\users\\dell\\appdata\\local\\programs\\python\\python38\\lib\\concurrent\\futures\\_base.py\u001b[0m in \u001b[0;36mresult\u001b[1;34m(self, timeout)\u001b[0m\n\u001b[0;32m    437\u001b[0m                     \u001b[1;32mreturn\u001b[0m \u001b[0mself\u001b[0m\u001b[1;33m.\u001b[0m\u001b[0m__get_result\u001b[0m\u001b[1;33m(\u001b[0m\u001b[1;33m)\u001b[0m\u001b[1;33m\u001b[0m\u001b[1;33m\u001b[0m\u001b[0m\n\u001b[0;32m    438\u001b[0m \u001b[1;33m\u001b[0m\u001b[0m\n\u001b[1;32m--> 439\u001b[1;33m                 \u001b[0mself\u001b[0m\u001b[1;33m.\u001b[0m\u001b[0m_condition\u001b[0m\u001b[1;33m.\u001b[0m\u001b[0mwait\u001b[0m\u001b[1;33m(\u001b[0m\u001b[0mtimeout\u001b[0m\u001b[1;33m)\u001b[0m\u001b[1;33m\u001b[0m\u001b[1;33m\u001b[0m\u001b[0m\n\u001b[0m\u001b[0;32m    440\u001b[0m \u001b[1;33m\u001b[0m\u001b[0m\n\u001b[0;32m    441\u001b[0m                 \u001b[1;32mif\u001b[0m \u001b[0mself\u001b[0m\u001b[1;33m.\u001b[0m\u001b[0m_state\u001b[0m \u001b[1;32min\u001b[0m \u001b[1;33m[\u001b[0m\u001b[0mCANCELLED\u001b[0m\u001b[1;33m,\u001b[0m \u001b[0mCANCELLED_AND_NOTIFIED\u001b[0m\u001b[1;33m]\u001b[0m\u001b[1;33m:\u001b[0m\u001b[1;33m\u001b[0m\u001b[1;33m\u001b[0m\u001b[0m\n",
      "\u001b[1;32mc:\\users\\dell\\appdata\\local\\programs\\python\\python38\\lib\\threading.py\u001b[0m in \u001b[0;36mwait\u001b[1;34m(self, timeout)\u001b[0m\n\u001b[0;32m    300\u001b[0m         \u001b[1;32mtry\u001b[0m\u001b[1;33m:\u001b[0m    \u001b[1;31m# restore state no matter what (e.g., KeyboardInterrupt)\u001b[0m\u001b[1;33m\u001b[0m\u001b[1;33m\u001b[0m\u001b[0m\n\u001b[0;32m    301\u001b[0m             \u001b[1;32mif\u001b[0m \u001b[0mtimeout\u001b[0m \u001b[1;32mis\u001b[0m \u001b[1;32mNone\u001b[0m\u001b[1;33m:\u001b[0m\u001b[1;33m\u001b[0m\u001b[1;33m\u001b[0m\u001b[0m\n\u001b[1;32m--> 302\u001b[1;33m                 \u001b[0mwaiter\u001b[0m\u001b[1;33m.\u001b[0m\u001b[0macquire\u001b[0m\u001b[1;33m(\u001b[0m\u001b[1;33m)\u001b[0m\u001b[1;33m\u001b[0m\u001b[1;33m\u001b[0m\u001b[0m\n\u001b[0m\u001b[0;32m    303\u001b[0m                 \u001b[0mgotit\u001b[0m \u001b[1;33m=\u001b[0m \u001b[1;32mTrue\u001b[0m\u001b[1;33m\u001b[0m\u001b[1;33m\u001b[0m\u001b[0m\n\u001b[0;32m    304\u001b[0m             \u001b[1;32melse\u001b[0m\u001b[1;33m:\u001b[0m\u001b[1;33m\u001b[0m\u001b[1;33m\u001b[0m\u001b[0m\n",
      "\u001b[1;31mKeyboardInterrupt\u001b[0m: "
     ]
    }
   ],
   "source": [
    "for i in range(len(models)):\n",
    "    model_score_tune_gscv(models[i], names[i], params[i])"
   ]
  },
  {
   "cell_type": "code",
   "execution_count": 23,
   "id": "e7e9c1c8",
   "metadata": {},
   "outputs": [
    {
     "name": "stdout",
     "output_type": "stream",
     "text": [
      "Random Forest:\n",
      "Recall Score = 0.7675675675675676\n",
      "ROC_AUC Score = 0.8689059941982366\n",
      "{'n_estimators': 800, 'min_samples_split': 2, 'min_samples_leaf': 1, 'max_features': 'sqrt', 'max_depth': 70, 'bootstrap': False}\n",
      "\n",
      "\n"
     ]
    }
   ],
   "source": [
    "model_score_tune_rscv(models[3], names[3], params[3], 100)"
   ]
  },
  {
   "cell_type": "code",
   "execution_count": 24,
   "id": "0ae4cb57",
   "metadata": {},
   "outputs": [
    {
     "name": "stdout",
     "output_type": "stream",
     "text": [
      "Gradient Boosting:\n",
      "Recall Score = 1.0\n",
      "ROC_AUC Score = 0.5\n",
      "{'learning_rate': 100, 'max_depth': 1, 'n_estimators': 5}\n",
      "\n",
      "\n"
     ]
    }
   ],
   "source": [
    "model_score_tune_gscv(models[4], names[4], params[4])"
   ]
  },
  {
   "cell_type": "code",
   "execution_count": 25,
   "id": "80787068",
   "metadata": {},
   "outputs": [
    {
     "name": "stdout",
     "output_type": "stream",
     "text": [
      "XGBoost:\n",
      "[04:09:16] WARNING: C:/Users/Administrator/workspace/xgboost-win64_release_1.5.1/src/learner.cc:1115: Starting in XGBoost 1.3.0, the default evaluation metric used with the objective 'binary:logistic' was changed from 'error' to 'logloss'. Explicitly set eval_metric if you'd like to restore the old behavior.\n",
      "Recall Score = 0.7621621621621621\n",
      "ROC_AUC Score = 0.8656719418674785\n",
      "{'tree_method': 'auto', 'min_child_weight': 1, 'max_depth': 110, 'lambda': 0.30000000000000004, 'gamma': 0.4, 'eta': 0.6767676767676768, 'colsample_bytree': 1.0, 'alpha': 0.4}\n",
      "\n",
      "\n",
      "AdaBoost:\n",
      "Recall Score = 0.5297297297297298\n",
      "ROC_AUC Score = 0.7499870752793175\n",
      "{'n_estimators': 1600, 'learning_rate': 0.1, 'algorithm': 'SAMME.R'}\n",
      "\n",
      "\n",
      "CatBoost:\n",
      "Recall Score = 0.5783783783783784\n",
      "ROC_AUC Score = 0.7700606025791997\n",
      "{'n_estimators': 200, 'max_depth': 5}\n",
      "\n",
      "\n"
     ]
    }
   ],
   "source": [
    "for i in range(5,len(models)):\n",
    "    model_score_tune_rscv(models[i], names[i], params[i], 100)"
   ]
  },
  {
   "cell_type": "code",
   "execution_count": 30,
   "id": "fa1942d6",
   "metadata": {
    "scrolled": false
   },
   "outputs": [
    {
     "name": "stdout",
     "output_type": "stream",
     "text": [
      "Decision Tree:\n",
      "Recall Score = 0.6486486486486487\n",
      "ROC_AUC Score = 0.7680012637504667\n",
      "{'min_samples_split': 0.1, 'min_samples_leaf': 0.2, 'max_features': None, 'max_depth': 3.0}\n",
      "\n",
      "\n",
      "KNN:\n",
      "Recall Score = 0.7783783783783784\n",
      "ROC_AUC Score = 0.8695292529511446\n",
      "{'p': 2, 'n_neighbors': 1, 'leaf_size': 11, 'algorithm': 'kd_tree'}\n",
      "\n",
      "\n",
      "SVM:\n",
      "Recall Score = 0.35135135135135137\n",
      "ROC_AUC Score = 0.6645173334865152\n",
      "{'kernel': 'rbf', 'gamma': 0.1, 'C': 10}\n",
      "\n",
      "\n",
      "Random Forest:\n",
      "Recall Score = 0.772972972972973\n",
      "ROC_AUC Score = 0.8721400465289946\n",
      "{'n_estimators': 2000, 'min_samples_split': 2, 'min_samples_leaf': 1, 'max_features': 'auto', 'max_depth': 20, 'bootstrap': False}\n",
      "\n",
      "\n",
      "Gradient Boosting:\n",
      "Recall Score = 1.0\n",
      "ROC_AUC Score = 0.5\n",
      "{'n_estimators': 500, 'max_depth': 1, 'learning_rate': 100}\n",
      "\n",
      "\n",
      "XGBoost:\n",
      "[01:57:50] WARNING: C:/Users/Administrator/workspace/xgboost-win64_release_1.5.1/src/learner.cc:1115: Starting in XGBoost 1.3.0, the default evaluation metric used with the objective 'binary:logistic' was changed from 'error' to 'logloss'. Explicitly set eval_metric if you'd like to restore the old behavior.\n",
      "Recall Score = 0.8162162162162162\n",
      "ROC_AUC Score = 0.8485969497659189\n",
      "{'tree_method': 'hist', 'min_child_weight': 20, 'max_depth': 50, 'lambda': 0.4, 'gamma': 0.1, 'eta': 0.20202020202020204, 'colsample_bytree': 0.8, 'alpha': 0.7000000000000001}\n",
      "\n",
      "\n",
      "AdaBoost:\n",
      "Recall Score = 0.5297297297297298\n",
      "ROC_AUC Score = 0.7499870752793175\n",
      "{'n_estimators': 1700, 'learning_rate': 0.07394736842105264, 'algorithm': 'SAMME.R'}\n",
      "\n",
      "\n",
      "CatBoost:\n",
      "Recall Score = 0.5783783783783784\n",
      "ROC_AUC Score = 0.7700606025791997\n",
      "{'n_estimators': 200, 'max_depth': 5}\n",
      "\n",
      "\n"
     ]
    }
   ],
   "source": [
    "for i in range(len(models)):\n",
    "    model_score_tune_rscv(models[i], names[i], params[i])"
   ]
  },
  {
   "cell_type": "code",
   "execution_count": 48,
   "id": "69deade1",
   "metadata": {
    "collapsed": true
   },
   "outputs": [
    {
     "data": {
      "text/plain": [
       "['accuracy',\n",
       " 'adjusted_mutual_info_score',\n",
       " 'adjusted_rand_score',\n",
       " 'average_precision',\n",
       " 'balanced_accuracy',\n",
       " 'completeness_score',\n",
       " 'explained_variance',\n",
       " 'f1',\n",
       " 'f1_macro',\n",
       " 'f1_micro',\n",
       " 'f1_samples',\n",
       " 'f1_weighted',\n",
       " 'fowlkes_mallows_score',\n",
       " 'homogeneity_score',\n",
       " 'jaccard',\n",
       " 'jaccard_macro',\n",
       " 'jaccard_micro',\n",
       " 'jaccard_samples',\n",
       " 'jaccard_weighted',\n",
       " 'max_error',\n",
       " 'mutual_info_score',\n",
       " 'neg_brier_score',\n",
       " 'neg_log_loss',\n",
       " 'neg_mean_absolute_error',\n",
       " 'neg_mean_absolute_percentage_error',\n",
       " 'neg_mean_gamma_deviance',\n",
       " 'neg_mean_poisson_deviance',\n",
       " 'neg_mean_squared_error',\n",
       " 'neg_mean_squared_log_error',\n",
       " 'neg_median_absolute_error',\n",
       " 'neg_root_mean_squared_error',\n",
       " 'normalized_mutual_info_score',\n",
       " 'precision',\n",
       " 'precision_macro',\n",
       " 'precision_micro',\n",
       " 'precision_samples',\n",
       " 'precision_weighted',\n",
       " 'r2',\n",
       " 'rand_score',\n",
       " 'recall',\n",
       " 'recall_macro',\n",
       " 'recall_micro',\n",
       " 'recall_samples',\n",
       " 'recall_weighted',\n",
       " 'roc_auc',\n",
       " 'roc_auc_ovo',\n",
       " 'roc_auc_ovo_weighted',\n",
       " 'roc_auc_ovr',\n",
       " 'roc_auc_ovr_weighted',\n",
       " 'top_k_accuracy',\n",
       " 'v_measure_score']"
      ]
     },
     "execution_count": 48,
     "metadata": {},
     "output_type": "execute_result"
    }
   ],
   "source": [
    "from sklearn import metrics\n",
    "sorted(metrics.SCORERS.keys())"
   ]
  },
  {
   "cell_type": "code",
   "execution_count": 54,
   "id": "cee5a46b",
   "metadata": {},
   "outputs": [
    {
     "name": "stdout",
     "output_type": "stream",
     "text": [
      "Decision Tree:\n",
      "Recall Score = 0.6486486486486487\n",
      "ROC_AUC Score = 0.7680012637504667\n",
      "\n",
      "\n",
      "KNN:\n",
      "Recall Score = 0.7783783783783784\n",
      "ROC_AUC Score = 0.8695292529511446\n",
      "\n",
      "\n",
      "SVM:\n",
      "Recall Score = 0.5297297297297298\n",
      "ROC_AUC Score = 0.7531751730476491\n",
      "\n",
      "\n",
      "Random Forest:\n",
      "Recall Score = 0.6972972972972973\n",
      "ROC_AUC Score = 0.8343022086911567\n",
      "\n",
      "\n",
      "Gradient Boosting:\n",
      "Recall Score = 1.0\n",
      "ROC_AUC Score = 0.5\n",
      "\n",
      "\n",
      "XGBoost:\n",
      "[18:57:06] WARNING: C:/Users/Administrator/workspace/xgboost-win64_release_1.5.1/src/learner.cc:1115: Starting in XGBoost 1.3.0, the default evaluation metric used with the objective 'binary:logistic' was changed from 'error' to 'logloss'. Explicitly set eval_metric if you'd like to restore the old behavior.\n",
      "Recall Score = 0.7081081081081081\n",
      "ROC_AUC Score = 0.8301433207915673\n",
      "\n",
      "\n",
      "AdaBoost:\n",
      "Recall Score = 0.4972972972972973\n",
      "ROC_AUC Score = 0.7353649079472672\n",
      "\n",
      "\n",
      "CatBoost:\n",
      "Recall Score = 0.6\n",
      "ROC_AUC Score = 0.7829968119022317\n",
      "\n",
      "\n"
     ]
    }
   ],
   "source": [
    "for i in range(len(models)):\n",
    "    model_score_tune_rscv(models[i], names[i], params[i], 30)"
   ]
  },
  {
   "cell_type": "code",
   "execution_count": 89,
   "id": "987a1fd5",
   "metadata": {},
   "outputs": [
    {
     "name": "stdout",
     "output_type": "stream",
     "text": [
      "Decision Tree:\n",
      "Recall Score = 0.6486486486486487\n",
      "ROC_AUC Score = 0.7680012637504667\n",
      "\n",
      "\n"
     ]
    }
   ],
   "source": [
    "model_score_tune_gscv(models[0], names[0], params[0])"
   ]
  },
  {
   "cell_type": "code",
   "execution_count": 20,
   "id": "d3cebdac",
   "metadata": {},
   "outputs": [
    {
     "name": "stdout",
     "output_type": "stream",
     "text": [
      "Recall Score = 0.8216216216216217\n",
      "ROC_AUC Score = 0.8922135738288767\n"
     ]
    }
   ],
   "source": [
    "par = {'algorithm': 'auto', 'leaf_size': 1, 'n_neighbors': 1, 'p': 1}\n",
    "model = KNeighborsClassifier(**par)\n",
    "model.fit(X_train, y_train)\n",
    "ypred = model.predict(X_test)\n",
    "print(f'Recall Score = {recall_score(y_test, ypred)}')\n",
    "print(f'ROC_AUC Score = {roc_auc_score(y_test, ypred)}')"
   ]
  },
  {
   "cell_type": "code",
   "execution_count": 33,
   "id": "86cf58a5",
   "metadata": {},
   "outputs": [
    {
     "name": "stdout",
     "output_type": "stream",
     "text": [
      "Recall Score = 0.827027027027027\n",
      "ROC_AUC Score = 0.8901341298790819\n"
     ]
    }
   ],
   "source": [
    "model = XGBClassifier(random_state = 42, use_label_encoder=False, scale_pos_weight = 5, eval_metric = 'logloss')\n",
    "model.fit(X_train, y_train)\n",
    "ypred = model.predict(X_test)\n",
    "print(f'Recall Score = {recall_score(y_test, ypred)}')\n",
    "print(f'ROC_AUC Score = {roc_auc_score(y_test, ypred)}')"
   ]
  },
  {
   "cell_type": "markdown",
   "id": "ce19dd2e",
   "metadata": {},
   "source": [
    "Model disini belum best-fit karena masih dapat ditemukan model yang lebih baik lagi dengan mencoba menggunakan feature-feature lain pada data yang terkena drop pada tahap preprocess, serta dapat mentuning hyperparameter dengan lebih baik lagi"
   ]
  },
  {
   "cell_type": "markdown",
   "id": "a2a83997",
   "metadata": {},
   "source": [
    "# Feature Importance"
   ]
  },
  {
   "cell_type": "code",
   "execution_count": 34,
   "id": "b854c02a",
   "metadata": {},
   "outputs": [],
   "source": [
    "def show_feature_importance(model):\n",
    "    feat_importances = pd.Series(model.feature_importances_, index=X_train.columns)\n",
    "    ax = feat_importances.nlargest(25).plot(kind='barh', figsize=(10, 8))\n",
    "    ax.invert_yaxis()\n",
    "\n",
    "    plt.xlabel('score')\n",
    "    plt.ylabel('feature')\n",
    "    plt.title('feature importance score')"
   ]
  },
  {
   "cell_type": "code",
   "execution_count": 35,
   "id": "c402c9fb",
   "metadata": {},
   "outputs": [
    {
     "data": {
      "image/png": "[encoded data removed]",
      "text/plain": [
       "<Figure size 720x576 with 1 Axes>"
      ]
     },
     "metadata": {
      "needs_background": "light"
     },
     "output_type": "display_data"
    }
   ],
   "source": [
    "show_feature_importance(model)"
   ]
  },
  {
   "cell_type": "markdown",
   "id": "7e14126f",
   "metadata": {},
   "source": [
    "Feature yang mempunyai pengaruh besar adalah:\n",
    "- Tenure\n",
    "- Complain\n",
    "\n",
    "Namun keempat fitur lainnya juga memiliki pengaruh yang cukup besar\n",
    "\n",
    "Melihat dari feature-feature yang penting diatas dapat ditarik kesimpulan bahwa, untuk mencegah terjadinya customer churn, pelanggan butuh diberikan Cashback 1.6x lebih besar sampai setidaknya 2 bulan (2 bulan disini merupakan insight yang didapat dari EDA). Hal ini dapat kita tarik sebagai kesimpulan karena terlihat CashbackAmount dan Tenure merupakan feature yang paling berpengaruh pada churn customer. Selain itu Complain dari customer juga memiliki dampak besar, jika customer memiliki complain harus diselesaikan dengan segera, karena complain yang tidak diselesaikan dapat menyebabkan customer churn dan menurunkan SatisfactionScore yang juga berdampak pada meningkatnya kecenderungan customer untuk churn.\n",
    "\n",
    "Selain itu jumlah warehouse juga perlu diperbanyak di tempat yang memiliki banyak customer, karena warehouse yang terlalu jauh menyebabkan customer churn. Pihak Ecommerce juga harus menjaga DaySinceLastOrder tetap stabil, jika customer terlalu sering atau terlalu jarang menggunakan Ecommerce ini, maka customer tersebut akan berpotensi churn karena itulah customer perlu diberikan voucher mingguan yang membuat belanja mereka teratur setiap minggunya. Pembagian voucher ini juga dapat menaikkan OrderAmountHikeFromlastYear yang dapat mencegah terjadinya churn."
   ]
  },
  {
   "cell_type": "markdown",
   "id": "39ee33f7",
   "metadata": {},
   "source": [
    "# Feature Selection berdasarkan feature yang terpenting"
   ]
  },
  {
   "cell_type": "code",
   "execution_count": 42,
   "id": "b2270f5e",
   "metadata": {},
   "outputs": [],
   "source": [
    "X_train_selection = X_train[['Tenure', 'Complain']]\n",
    "X_test_selection = X_test[['Tenure', 'Complain']]"
   ]
  },
  {
   "cell_type": "markdown",
   "id": "39d314d6",
   "metadata": {},
   "source": [
    "## Dengan hyperparameter sebelumnya"
   ]
  },
  {
   "cell_type": "code",
   "execution_count": 43,
   "id": "8e71887c",
   "metadata": {},
   "outputs": [
    {
     "name": "stdout",
     "output_type": "stream",
     "text": [
      "Recall Score = 0.7567567567567568\n",
      "ROC_AUC Score = 0.7848608438406526\n"
     ]
    }
   ],
   "source": [
    "model = XGBClassifier(random_state = 42, use_label_encoder=False, scale_pos_weight = 5, eval_metric = 'logloss')\n",
    "model.fit(X_train_selection, y_train )\n",
    "ypred = model.predict(X_test_selection)\n",
    "print(f'Recall Score = {recall_score(y_test, ypred)}')\n",
    "print(f'ROC_AUC Score = {roc_auc_score(y_test, ypred)}')"
   ]
  },
  {
   "cell_type": "markdown",
   "id": "fbbab3ca",
   "metadata": {},
   "source": [
    "## Mencari Hyperparameter baru"
   ]
  },
  {
   "cell_type": "code",
   "execution_count": 44,
   "id": "3f44b828",
   "metadata": {},
   "outputs": [],
   "source": [
    "par =     { # XGBoost\n",
    "        'max_depth' : [int(x) for x in np.linspace(10, 110, num = 11)],\n",
    "        'min_child_weight' : [int(x) for x in np.linspace(1, 20, num = 11)],\n",
    "        'gamma' : [float(x) for x in np.linspace(0, 1, num = 11)],\n",
    "        'tree_method' : ['auto', 'exact', 'approx', 'hist'],\n",
    "\n",
    "        'colsample_bytree' : [float(x) for x in np.linspace(0, 1, num = 11)],\n",
    "        'eta' : [float(x) for x in np.linspace(0, 1, num = 100)],\n",
    "\n",
    "        'lambda' : [float(x) for x in np.linspace(0, 1, num = 11)],\n",
    "        'alpha' : [float(x) for x in np.linspace(0, 1, num = 11)]\n",
    "    }"
   ]
  },
  {
   "cell_type": "code",
   "execution_count": 46,
   "id": "7a29e776",
   "metadata": {},
   "outputs": [
    {
     "name": "stdout",
     "output_type": "stream",
     "text": [
      "XGBoost:\n",
      "Recall Score = 1.0\n",
      "ROC_AUC Score = 0.5\n"
     ]
    }
   ],
   "source": [
    "print(f'XGBoost:')\n",
    "RSCV = RandomizedSearchCV(XGBClassifier(random_state = 42, use_label_encoder=False, scale_pos_weight = 5, eval_metric = 'logloss'), par, cv = 3, n_jobs = -1, verbose = 0, scoring = ['recall', 'roc_auc'], random_state = 42, refit = 'recall', n_iter = 10)\n",
    "RSCV.fit(X_train_selection, y_train)\n",
    "y_pred = RSCV.predict(X_test_selection)\n",
    "print(f'Recall Score = {recall_score(y_test, y_pred)}')\n",
    "print(f'ROC_AUC Score = {roc_auc_score(y_test, y_pred)}')"
   ]
  },
  {
   "cell_type": "code",
   "execution_count": 57,
   "id": "d3c69692",
   "metadata": {},
   "outputs": [
    {
     "data": {
      "text/plain": [
       "array([[  0, 941],\n",
       "       [  0, 185]], dtype=int64)"
      ]
     },
     "execution_count": 57,
     "metadata": {},
     "output_type": "execute_result"
    }
   ],
   "source": [
    "confusion_matrix(y_test, y_pred)"
   ]
  },
  {
   "cell_type": "code",
   "execution_count": 41,
   "id": "9bc4bf84",
   "metadata": {},
   "outputs": [
    {
     "data": {
      "text/plain": [
       "{'tree_method': 'hist',\n",
       " 'min_child_weight': 20,\n",
       " 'max_depth': 50,\n",
       " 'lambda': 0.4,\n",
       " 'gamma': 0.1,\n",
       " 'eta': 0.20202020202020204,\n",
       " 'colsample_bytree': 0.8,\n",
       " 'alpha': 0.7000000000000001}"
      ]
     },
     "execution_count": 41,
     "metadata": {},
     "output_type": "execute_result"
    }
   ],
   "source": [
    "RSCV.best_params_"
   ]
  },
  {
   "cell_type": "markdown",
   "id": "64cc20d2",
   "metadata": {},
   "source": [
    "Feature selection menurunkan score model karena feature yang ada sebelumnya sudah sedikit namun feature selection membuatnya menjadi lebih sedikit lagi. Feature-feature yang masih mempunyai pengaruh walaupun tidak banyak menjadi hilang, karena itulah score model menjadi menurun"
   ]
  }
 ],
 "metadata": {
  "kernelspec": {
   "display_name": "Python 3 (ipykernel)",
   "language": "python",
   "name": "python3"
  },
  "language_info": {
   "codemirror_mode": {
    "name": "ipython",
    "version": 3
   },
   "file_extension": ".py",
   "mimetype": "text/x-python",
   "name": "python",
   "nbconvert_exporter": "python",
   "pygments_lexer": "ipython3",
   "version": "3.8.10"
  }
 },
 "nbformat": 4,
 "nbformat_minor": 5
}
