{
 "cells": [
  {
   "cell_type": "code",
   "execution_count": 2,
   "id": "28175c27",
   "metadata": {},
   "outputs": [],
   "source": [
    "import pandas as pd\n",
    "import numpy as np\n",
    "import matplotlib.pyplot as plt\n",
    "import seaborn as sns"
   ]
  },
  {
   "cell_type": "code",
   "execution_count": 3,
   "id": "f0229fe2",
   "metadata": {},
   "outputs": [],
   "source": [
    "df_train = pd.read_csv('df_train_2.csv')\n",
    "df_test = pd.read_csv('df_test_2.csv')"
   ]
  },
  {
   "cell_type": "code",
   "execution_count": 4,
   "id": "ee171f47",
   "metadata": {},
   "outputs": [],
   "source": [
    "df = pd.concat([df_train,df_test])"
   ]
  },
  {
   "cell_type": "code",
   "execution_count": 5,
   "id": "c17d5d38",
   "metadata": {},
   "outputs": [
    {
     "data": {
      "text/plain": [
       "(5407, 29)"
      ]
     },
     "execution_count": 5,
     "metadata": {},
     "output_type": "execute_result"
    }
   ],
   "source": [
    "df.shape"
   ]
  },
  {
   "cell_type": "code",
   "execution_count": 6,
   "id": "8e8e2f8d",
   "metadata": {},
   "outputs": [
    {
     "data": {
      "text/html": [
       "<div>\n",
       "<style scoped>\n",
       "    .dataframe tbody tr th:only-of-type {\n",
       "        vertical-align: middle;\n",
       "    }\n",
       "\n",
       "    .dataframe tbody tr th {\n",
       "        vertical-align: top;\n",
       "    }\n",
       "\n",
       "    .dataframe thead th {\n",
       "        text-align: right;\n",
       "    }\n",
       "</style>\n",
       "<table border=\"1\" class=\"dataframe\">\n",
       "  <thead>\n",
       "    <tr style=\"text-align: right;\">\n",
       "      <th></th>\n",
       "      <th>Tenure</th>\n",
       "      <th>PreferredLoginDevice</th>\n",
       "      <th>CityTier</th>\n",
       "      <th>WarehouseToHome</th>\n",
       "      <th>Gender</th>\n",
       "      <th>HourSpendOnApp</th>\n",
       "      <th>NumberOfDeviceRegistered</th>\n",
       "      <th>SatisfactionScore</th>\n",
       "      <th>NumberOfAddress</th>\n",
       "      <th>Complain</th>\n",
       "      <th>...</th>\n",
       "      <th>PreferedOrderCat_Fashion</th>\n",
       "      <th>PreferedOrderCat_Grocery</th>\n",
       "      <th>PreferedOrderCat_Laptop &amp; Accessory</th>\n",
       "      <th>PreferedOrderCat_Mobile</th>\n",
       "      <th>PreferedOrderCat_Mobile Phone</th>\n",
       "      <th>PreferedOrderCat_Others</th>\n",
       "      <th>MaritalStatus_Divorced</th>\n",
       "      <th>MaritalStatus_Married</th>\n",
       "      <th>MaritalStatus_Single</th>\n",
       "      <th>Churn</th>\n",
       "    </tr>\n",
       "  </thead>\n",
       "  <tbody>\n",
       "    <tr>\n",
       "      <th>10</th>\n",
       "      <td>0.327233</td>\n",
       "      <td>1.0</td>\n",
       "      <td>1.0</td>\n",
       "      <td>0.541002</td>\n",
       "      <td>1.0</td>\n",
       "      <td>0.515888</td>\n",
       "      <td>0.331418</td>\n",
       "      <td>1.000000</td>\n",
       "      <td>0.446283</td>\n",
       "      <td>0.0</td>\n",
       "      <td>...</td>\n",
       "      <td>1.0</td>\n",
       "      <td>0.0</td>\n",
       "      <td>0.0</td>\n",
       "      <td>0.0</td>\n",
       "      <td>0.0</td>\n",
       "      <td>0.0</td>\n",
       "      <td>0.0</td>\n",
       "      <td>1.0</td>\n",
       "      <td>0.0</td>\n",
       "      <td>0</td>\n",
       "    </tr>\n",
       "    <tr>\n",
       "      <th>12</th>\n",
       "      <td>0.627156</td>\n",
       "      <td>0.0</td>\n",
       "      <td>1.0</td>\n",
       "      <td>0.925589</td>\n",
       "      <td>1.0</td>\n",
       "      <td>0.263824</td>\n",
       "      <td>0.535825</td>\n",
       "      <td>0.000000</td>\n",
       "      <td>0.000000</td>\n",
       "      <td>0.0</td>\n",
       "      <td>...</td>\n",
       "      <td>0.0</td>\n",
       "      <td>1.0</td>\n",
       "      <td>0.0</td>\n",
       "      <td>0.0</td>\n",
       "      <td>0.0</td>\n",
       "      <td>0.0</td>\n",
       "      <td>0.0</td>\n",
       "      <td>1.0</td>\n",
       "      <td>0.0</td>\n",
       "      <td>0</td>\n",
       "    </tr>\n",
       "    <tr>\n",
       "      <th>26</th>\n",
       "      <td>0.083451</td>\n",
       "      <td>0.0</td>\n",
       "      <td>1.0</td>\n",
       "      <td>0.346835</td>\n",
       "      <td>1.0</td>\n",
       "      <td>0.515888</td>\n",
       "      <td>0.331418</td>\n",
       "      <td>0.764137</td>\n",
       "      <td>0.279288</td>\n",
       "      <td>0.0</td>\n",
       "      <td>...</td>\n",
       "      <td>0.0</td>\n",
       "      <td>0.0</td>\n",
       "      <td>0.0</td>\n",
       "      <td>1.0</td>\n",
       "      <td>0.0</td>\n",
       "      <td>0.0</td>\n",
       "      <td>0.0</td>\n",
       "      <td>1.0</td>\n",
       "      <td>0.0</td>\n",
       "      <td>0</td>\n",
       "    </tr>\n",
       "    <tr>\n",
       "      <th>54</th>\n",
       "      <td>0.868862</td>\n",
       "      <td>0.0</td>\n",
       "      <td>1.0</td>\n",
       "      <td>0.112675</td>\n",
       "      <td>1.0</td>\n",
       "      <td>0.515888</td>\n",
       "      <td>0.331418</td>\n",
       "      <td>0.000000</td>\n",
       "      <td>0.566419</td>\n",
       "      <td>0.0</td>\n",
       "      <td>...</td>\n",
       "      <td>0.0</td>\n",
       "      <td>0.0</td>\n",
       "      <td>0.0</td>\n",
       "      <td>0.0</td>\n",
       "      <td>0.0</td>\n",
       "      <td>1.0</td>\n",
       "      <td>0.0</td>\n",
       "      <td>1.0</td>\n",
       "      <td>0.0</td>\n",
       "      <td>0</td>\n",
       "    </tr>\n",
       "    <tr>\n",
       "      <th>66</th>\n",
       "      <td>0.904099</td>\n",
       "      <td>0.0</td>\n",
       "      <td>1.0</td>\n",
       "      <td>0.770614</td>\n",
       "      <td>1.0</td>\n",
       "      <td>0.515888</td>\n",
       "      <td>0.535825</td>\n",
       "      <td>0.000000</td>\n",
       "      <td>0.738103</td>\n",
       "      <td>0.0</td>\n",
       "      <td>...</td>\n",
       "      <td>0.0</td>\n",
       "      <td>0.0</td>\n",
       "      <td>1.0</td>\n",
       "      <td>0.0</td>\n",
       "      <td>0.0</td>\n",
       "      <td>0.0</td>\n",
       "      <td>0.0</td>\n",
       "      <td>1.0</td>\n",
       "      <td>0.0</td>\n",
       "      <td>0</td>\n",
       "    </tr>\n",
       "    <tr>\n",
       "      <th>...</th>\n",
       "      <td>...</td>\n",
       "      <td>...</td>\n",
       "      <td>...</td>\n",
       "      <td>...</td>\n",
       "      <td>...</td>\n",
       "      <td>...</td>\n",
       "      <td>...</td>\n",
       "      <td>...</td>\n",
       "      <td>...</td>\n",
       "      <td>...</td>\n",
       "      <td>...</td>\n",
       "      <td>...</td>\n",
       "      <td>...</td>\n",
       "      <td>...</td>\n",
       "      <td>...</td>\n",
       "      <td>...</td>\n",
       "      <td>...</td>\n",
       "      <td>...</td>\n",
       "      <td>...</td>\n",
       "      <td>...</td>\n",
       "      <td>...</td>\n",
       "    </tr>\n",
       "    <tr>\n",
       "      <th>1011</th>\n",
       "      <td>0.673332</td>\n",
       "      <td>0.0</td>\n",
       "      <td>1.0</td>\n",
       "      <td>0.676102</td>\n",
       "      <td>1.0</td>\n",
       "      <td>0.264825</td>\n",
       "      <td>0.529597</td>\n",
       "      <td>0.759734</td>\n",
       "      <td>0.892075</td>\n",
       "      <td>0.0</td>\n",
       "      <td>...</td>\n",
       "      <td>0.0</td>\n",
       "      <td>0.0</td>\n",
       "      <td>1.0</td>\n",
       "      <td>0.0</td>\n",
       "      <td>0.0</td>\n",
       "      <td>0.0</td>\n",
       "      <td>0.0</td>\n",
       "      <td>1.0</td>\n",
       "      <td>0.0</td>\n",
       "      <td>0</td>\n",
       "    </tr>\n",
       "    <tr>\n",
       "      <th>1033</th>\n",
       "      <td>0.673332</td>\n",
       "      <td>0.0</td>\n",
       "      <td>1.0</td>\n",
       "      <td>0.785221</td>\n",
       "      <td>1.0</td>\n",
       "      <td>0.264825</td>\n",
       "      <td>0.328494</td>\n",
       "      <td>0.993147</td>\n",
       "      <td>0.282499</td>\n",
       "      <td>0.0</td>\n",
       "      <td>...</td>\n",
       "      <td>0.0</td>\n",
       "      <td>0.0</td>\n",
       "      <td>1.0</td>\n",
       "      <td>0.0</td>\n",
       "      <td>0.0</td>\n",
       "      <td>0.0</td>\n",
       "      <td>0.0</td>\n",
       "      <td>1.0</td>\n",
       "      <td>0.0</td>\n",
       "      <td>0</td>\n",
       "    </tr>\n",
       "    <tr>\n",
       "      <th>1034</th>\n",
       "      <td>0.549836</td>\n",
       "      <td>0.0</td>\n",
       "      <td>1.0</td>\n",
       "      <td>0.608224</td>\n",
       "      <td>1.0</td>\n",
       "      <td>0.519160</td>\n",
       "      <td>0.529597</td>\n",
       "      <td>0.000000</td>\n",
       "      <td>0.454475</td>\n",
       "      <td>1.0</td>\n",
       "      <td>...</td>\n",
       "      <td>0.0</td>\n",
       "      <td>0.0</td>\n",
       "      <td>1.0</td>\n",
       "      <td>0.0</td>\n",
       "      <td>0.0</td>\n",
       "      <td>0.0</td>\n",
       "      <td>0.0</td>\n",
       "      <td>1.0</td>\n",
       "      <td>0.0</td>\n",
       "      <td>0</td>\n",
       "    </tr>\n",
       "    <tr>\n",
       "      <th>1053</th>\n",
       "      <td>0.583476</td>\n",
       "      <td>0.0</td>\n",
       "      <td>1.0</td>\n",
       "      <td>0.676102</td>\n",
       "      <td>1.0</td>\n",
       "      <td>0.264825</td>\n",
       "      <td>0.529597</td>\n",
       "      <td>0.267850</td>\n",
       "      <td>0.454475</td>\n",
       "      <td>1.0</td>\n",
       "      <td>...</td>\n",
       "      <td>0.0</td>\n",
       "      <td>0.0</td>\n",
       "      <td>1.0</td>\n",
       "      <td>0.0</td>\n",
       "      <td>0.0</td>\n",
       "      <td>0.0</td>\n",
       "      <td>0.0</td>\n",
       "      <td>1.0</td>\n",
       "      <td>0.0</td>\n",
       "      <td>0</td>\n",
       "    </tr>\n",
       "    <tr>\n",
       "      <th>1073</th>\n",
       "      <td>0.000622</td>\n",
       "      <td>0.0</td>\n",
       "      <td>1.0</td>\n",
       "      <td>0.676102</td>\n",
       "      <td>1.0</td>\n",
       "      <td>0.519160</td>\n",
       "      <td>0.529597</td>\n",
       "      <td>0.000000</td>\n",
       "      <td>0.282499</td>\n",
       "      <td>1.0</td>\n",
       "      <td>...</td>\n",
       "      <td>0.0</td>\n",
       "      <td>0.0</td>\n",
       "      <td>1.0</td>\n",
       "      <td>0.0</td>\n",
       "      <td>0.0</td>\n",
       "      <td>0.0</td>\n",
       "      <td>0.0</td>\n",
       "      <td>1.0</td>\n",
       "      <td>0.0</td>\n",
       "      <td>0</td>\n",
       "    </tr>\n",
       "  </tbody>\n",
       "</table>\n",
       "<p>334 rows × 29 columns</p>\n",
       "</div>"
      ],
      "text/plain": [
       "        Tenure  PreferredLoginDevice  CityTier  WarehouseToHome  Gender  \\\n",
       "10    0.327233                   1.0       1.0         0.541002     1.0   \n",
       "12    0.627156                   0.0       1.0         0.925589     1.0   \n",
       "26    0.083451                   0.0       1.0         0.346835     1.0   \n",
       "54    0.868862                   0.0       1.0         0.112675     1.0   \n",
       "66    0.904099                   0.0       1.0         0.770614     1.0   \n",
       "...        ...                   ...       ...              ...     ...   \n",
       "1011  0.673332                   0.0       1.0         0.676102     1.0   \n",
       "1033  0.673332                   0.0       1.0         0.785221     1.0   \n",
       "1034  0.549836                   0.0       1.0         0.608224     1.0   \n",
       "1053  0.583476                   0.0       1.0         0.676102     1.0   \n",
       "1073  0.000622                   0.0       1.0         0.676102     1.0   \n",
       "\n",
       "      HourSpendOnApp  NumberOfDeviceRegistered  SatisfactionScore  \\\n",
       "10          0.515888                  0.331418           1.000000   \n",
       "12          0.263824                  0.535825           0.000000   \n",
       "26          0.515888                  0.331418           0.764137   \n",
       "54          0.515888                  0.331418           0.000000   \n",
       "66          0.515888                  0.535825           0.000000   \n",
       "...              ...                       ...                ...   \n",
       "1011        0.264825                  0.529597           0.759734   \n",
       "1033        0.264825                  0.328494           0.993147   \n",
       "1034        0.519160                  0.529597           0.000000   \n",
       "1053        0.264825                  0.529597           0.267850   \n",
       "1073        0.519160                  0.529597           0.000000   \n",
       "\n",
       "      NumberOfAddress  Complain  ...  PreferedOrderCat_Fashion  \\\n",
       "10           0.446283       0.0  ...                       1.0   \n",
       "12           0.000000       0.0  ...                       0.0   \n",
       "26           0.279288       0.0  ...                       0.0   \n",
       "54           0.566419       0.0  ...                       0.0   \n",
       "66           0.738103       0.0  ...                       0.0   \n",
       "...               ...       ...  ...                       ...   \n",
       "1011         0.892075       0.0  ...                       0.0   \n",
       "1033         0.282499       0.0  ...                       0.0   \n",
       "1034         0.454475       1.0  ...                       0.0   \n",
       "1053         0.454475       1.0  ...                       0.0   \n",
       "1073         0.282499       1.0  ...                       0.0   \n",
       "\n",
       "      PreferedOrderCat_Grocery  PreferedOrderCat_Laptop & Accessory  \\\n",
       "10                         0.0                                  0.0   \n",
       "12                         1.0                                  0.0   \n",
       "26                         0.0                                  0.0   \n",
       "54                         0.0                                  0.0   \n",
       "66                         0.0                                  1.0   \n",
       "...                        ...                                  ...   \n",
       "1011                       0.0                                  1.0   \n",
       "1033                       0.0                                  1.0   \n",
       "1034                       0.0                                  1.0   \n",
       "1053                       0.0                                  1.0   \n",
       "1073                       0.0                                  1.0   \n",
       "\n",
       "      PreferedOrderCat_Mobile  PreferedOrderCat_Mobile Phone  \\\n",
       "10                        0.0                            0.0   \n",
       "12                        0.0                            0.0   \n",
       "26                        1.0                            0.0   \n",
       "54                        0.0                            0.0   \n",
       "66                        0.0                            0.0   \n",
       "...                       ...                            ...   \n",
       "1011                      0.0                            0.0   \n",
       "1033                      0.0                            0.0   \n",
       "1034                      0.0                            0.0   \n",
       "1053                      0.0                            0.0   \n",
       "1073                      0.0                            0.0   \n",
       "\n",
       "      PreferedOrderCat_Others  MaritalStatus_Divorced  MaritalStatus_Married  \\\n",
       "10                        0.0                     0.0                    1.0   \n",
       "12                        0.0                     0.0                    1.0   \n",
       "26                        0.0                     0.0                    1.0   \n",
       "54                        1.0                     0.0                    1.0   \n",
       "66                        0.0                     0.0                    1.0   \n",
       "...                       ...                     ...                    ...   \n",
       "1011                      0.0                     0.0                    1.0   \n",
       "1033                      0.0                     0.0                    1.0   \n",
       "1034                      0.0                     0.0                    1.0   \n",
       "1053                      0.0                     0.0                    1.0   \n",
       "1073                      0.0                     0.0                    1.0   \n",
       "\n",
       "      MaritalStatus_Single  Churn  \n",
       "10                     0.0      0  \n",
       "12                     0.0      0  \n",
       "26                     0.0      0  \n",
       "54                     0.0      0  \n",
       "66                     0.0      0  \n",
       "...                    ...    ...  \n",
       "1011                   0.0      0  \n",
       "1033                   0.0      0  \n",
       "1034                   0.0      0  \n",
       "1053                   0.0      0  \n",
       "1073                   0.0      0  \n",
       "\n",
       "[334 rows x 29 columns]"
      ]
     },
     "execution_count": 6,
     "metadata": {},
     "output_type": "execute_result"
    }
   ],
   "source": [
    "df[(df['MaritalStatus_Married'] == 1) & (df['Gender'] == 1) & (df['CityTier'] == 1)]"
   ]
  },
  {
   "cell_type": "code",
   "execution_count": 7,
   "id": "e68ddf37",
   "metadata": {},
   "outputs": [
    {
     "data": {
      "text/plain": [
       "6.177177732568892"
      ]
     },
     "execution_count": 7,
     "metadata": {},
     "output_type": "execute_result"
    }
   ],
   "source": [
    "(334/5407) * 100"
   ]
  },
  {
   "cell_type": "code",
   "execution_count": 8,
   "id": "db03e706",
   "metadata": {},
   "outputs": [],
   "source": [
    "df = pd.read_excel('E Commerce Dataset.xlsx', sheet_name='E Comm')"
   ]
  },
  {
   "cell_type": "markdown",
   "id": "b443d660",
   "metadata": {},
   "source": [
    "# Total Pembelian"
   ]
  },
  {
   "cell_type": "code",
   "execution_count": 9,
   "id": "44a05553",
   "metadata": {},
   "outputs": [],
   "source": [
    "df['Total Pembelian'] = df['CashbackAmount'] * 50 * df['OrderCount']"
   ]
  },
  {
   "cell_type": "code",
   "execution_count": 10,
   "id": "252d5104",
   "metadata": {},
   "outputs": [
    {
     "data": {
      "text/html": [
       "<div>\n",
       "<style scoped>\n",
       "    .dataframe tbody tr th:only-of-type {\n",
       "        vertical-align: middle;\n",
       "    }\n",
       "\n",
       "    .dataframe tbody tr th {\n",
       "        vertical-align: top;\n",
       "    }\n",
       "\n",
       "    .dataframe thead th {\n",
       "        text-align: right;\n",
       "    }\n",
       "</style>\n",
       "<table border=\"1\" class=\"dataframe\">\n",
       "  <thead>\n",
       "    <tr style=\"text-align: right;\">\n",
       "      <th></th>\n",
       "      <th>Total Pembelian</th>\n",
       "      <th>CashbackAmount</th>\n",
       "    </tr>\n",
       "  </thead>\n",
       "  <tbody>\n",
       "    <tr>\n",
       "      <th>0</th>\n",
       "      <td>7996.5</td>\n",
       "      <td>159.93</td>\n",
       "    </tr>\n",
       "    <tr>\n",
       "      <th>1</th>\n",
       "      <td>6045.0</td>\n",
       "      <td>120.90</td>\n",
       "    </tr>\n",
       "    <tr>\n",
       "      <th>2</th>\n",
       "      <td>6014.0</td>\n",
       "      <td>120.28</td>\n",
       "    </tr>\n",
       "    <tr>\n",
       "      <th>3</th>\n",
       "      <td>6703.5</td>\n",
       "      <td>134.07</td>\n",
       "    </tr>\n",
       "    <tr>\n",
       "      <th>4</th>\n",
       "      <td>6480.0</td>\n",
       "      <td>129.60</td>\n",
       "    </tr>\n",
       "    <tr>\n",
       "      <th>...</th>\n",
       "      <td>...</td>\n",
       "      <td>...</td>\n",
       "    </tr>\n",
       "    <tr>\n",
       "      <th>5625</th>\n",
       "      <td>15071.0</td>\n",
       "      <td>150.71</td>\n",
       "    </tr>\n",
       "    <tr>\n",
       "      <th>5626</th>\n",
       "      <td>22491.0</td>\n",
       "      <td>224.91</td>\n",
       "    </tr>\n",
       "    <tr>\n",
       "      <th>5627</th>\n",
       "      <td>18642.0</td>\n",
       "      <td>186.42</td>\n",
       "    </tr>\n",
       "    <tr>\n",
       "      <th>5628</th>\n",
       "      <td>17890.0</td>\n",
       "      <td>178.90</td>\n",
       "    </tr>\n",
       "    <tr>\n",
       "      <th>5629</th>\n",
       "      <td>16904.0</td>\n",
       "      <td>169.04</td>\n",
       "    </tr>\n",
       "  </tbody>\n",
       "</table>\n",
       "<p>5630 rows × 2 columns</p>\n",
       "</div>"
      ],
      "text/plain": [
       "      Total Pembelian  CashbackAmount\n",
       "0              7996.5          159.93\n",
       "1              6045.0          120.90\n",
       "2              6014.0          120.28\n",
       "3              6703.5          134.07\n",
       "4              6480.0          129.60\n",
       "...               ...             ...\n",
       "5625          15071.0          150.71\n",
       "5626          22491.0          224.91\n",
       "5627          18642.0          186.42\n",
       "5628          17890.0          178.90\n",
       "5629          16904.0          169.04\n",
       "\n",
       "[5630 rows x 2 columns]"
      ]
     },
     "execution_count": 10,
     "metadata": {},
     "output_type": "execute_result"
    }
   ],
   "source": [
    "df[['Total Pembelian', 'CashbackAmount']]"
   ]
  },
  {
   "cell_type": "code",
   "execution_count": 11,
   "id": "531fc70c",
   "metadata": {},
   "outputs": [
    {
     "data": {
      "text/plain": [
       "154339328.5"
      ]
     },
     "execution_count": 11,
     "metadata": {},
     "output_type": "execute_result"
    }
   ],
   "source": [
    "df['Total Pembelian'].sum()"
   ]
  },
  {
   "cell_type": "markdown",
   "id": "7395c3b7",
   "metadata": {},
   "source": [
    "# Potensi Kerugian"
   ]
  },
  {
   "cell_type": "code",
   "execution_count": 12,
   "id": "33c37821",
   "metadata": {},
   "outputs": [
    {
     "data": {
      "text/plain": [
       "23134478.0"
      ]
     },
     "execution_count": 12,
     "metadata": {},
     "output_type": "execute_result"
    }
   ],
   "source": [
    "df[df['Churn'] == 1]['Total Pembelian'].sum()"
   ]
  },
  {
   "cell_type": "code",
   "execution_count": 13,
   "id": "b8abe361",
   "metadata": {},
   "outputs": [
    {
     "data": {
      "text/plain": [
       "6872988.116458705"
      ]
     },
     "execution_count": 13,
     "metadata": {},
     "output_type": "execute_result"
    }
   ],
   "source": [
    "(5/16.83 ) * 23134478"
   ]
  },
  {
   "cell_type": "markdown",
   "id": "6f2ffeb5",
   "metadata": {},
   "source": [
    "# Potensi Profit"
   ]
  },
  {
   "cell_type": "code",
   "execution_count": 14,
   "id": "b53d24d0",
   "metadata": {},
   "outputs": [
    {
     "data": {
      "text/plain": [
       "16261490"
      ]
     },
     "execution_count": 14,
     "metadata": {},
     "output_type": "execute_result"
    }
   ],
   "source": [
    "23134478 - 6872988"
   ]
  },
  {
   "cell_type": "markdown",
   "id": "6bb7759a",
   "metadata": {},
   "source": [
    "# Insight"
   ]
  },
  {
   "cell_type": "code",
   "execution_count": 15,
   "id": "c5b2cb8b",
   "metadata": {},
   "outputs": [],
   "source": [
    "def cr(vc):\n",
    "    return vc[1] / (vc[0] + vc[1]) * 100"
   ]
  },
  {
   "cell_type": "markdown",
   "id": "fbce5735",
   "metadata": {},
   "source": [
    "## CashbackAmount"
   ]
  },
  {
   "cell_type": "markdown",
   "id": "42b81d29",
   "metadata": {},
   "source": [
    "### Churn rate customer dengan cashback dibawah 240"
   ]
  },
  {
   "cell_type": "code",
   "execution_count": 16,
   "id": "b8900d21",
   "metadata": {},
   "outputs": [
    {
     "data": {
      "text/plain": [
       "18.431135309538213"
      ]
     },
     "execution_count": 16,
     "metadata": {},
     "output_type": "execute_result"
    }
   ],
   "source": [
    "cr(df[df['CashbackAmount'] < 240]['Churn'].value_counts())"
   ]
  },
  {
   "cell_type": "markdown",
   "id": "781ec1ca",
   "metadata": {},
   "source": [
    "### Churn rate customer dengan cashback minimal 240"
   ]
  },
  {
   "cell_type": "code",
   "execution_count": 17,
   "id": "9e4d1669",
   "metadata": {},
   "outputs": [
    {
     "data": {
      "text/plain": [
       "5.067064083457526"
      ]
     },
     "execution_count": 17,
     "metadata": {},
     "output_type": "execute_result"
    }
   ],
   "source": [
    "cr(cvalue_counts())"
   ]
  },
  {
   "cell_type": "markdown",
   "id": "4588a9cc",
   "metadata": {},
   "source": [
    "### Churn rate customer dengan cashback minimal 270"
   ]
  },
  {
   "cell_type": "code",
   "execution_count": 18,
   "id": "38478e9d",
   "metadata": {},
   "outputs": [
    {
     "data": {
      "text/plain": [
       "4.464285714285714"
      ]
     },
     "execution_count": 18,
     "metadata": {},
     "output_type": "execute_result"
    }
   ],
   "source": [
    "cr(df[df['CashbackAmount'] >= 270]['Churn'].value_counts())"
   ]
  },
  {
   "cell_type": "code",
   "execution_count": 32,
   "id": "92319adb",
   "metadata": {},
   "outputs": [
    {
     "data": {
      "text/plain": [
       "0    4682\n",
       "1     948\n",
       "Name: Churn, dtype: int64"
      ]
     },
     "execution_count": 32,
     "metadata": {},
     "output_type": "execute_result"
    }
   ],
   "source": [
    "df['Churn'].value_counts()[1]"
   ]
  },
  {
   "cell_type": "code",
   "execution_count": 33,
   "id": "f1ad309f",
   "metadata": {},
   "outputs": [
    {
     "data": {
      "text/plain": [
       "96.41350210970464"
      ]
     },
     "execution_count": 33,
     "metadata": {},
     "output_type": "execute_result"
    }
   ],
   "source": [
    "(df[df['CashbackAmount'] < 240]['Churn'].value_counts()[1] / df['Churn'].value_counts()[1]) * 100"
   ]
  },
  {
   "cell_type": "markdown",
   "id": "e12bda19",
   "metadata": {},
   "source": [
    "Karena menaikkan cashback ke 270 tidak menurunkan churn rate secara signifikan, maka cashback terbaik adalah 240"
   ]
  },
  {
   "cell_type": "code",
   "execution_count": 21,
   "id": "98549383",
   "metadata": {},
   "outputs": [
    {
     "data": {
      "image/png": "[encoded data removed]",
      "text/plain": [
       "<Figure size 1152x576 with 1 Axes>"
      ]
     },
     "metadata": {
      "needs_background": "light"
     },
     "output_type": "display_data"
    }
   ],
   "source": [
    "cashback = [i for i in range(100, 330, 10)]\n",
    "churn_rate = []\n",
    "\n",
    "for i in cashback:\n",
    "    val_counts = df[df['CashbackAmount'] >= i]['Churn'].value_counts()\n",
    "#     print(val_counts)\n",
    "    churn_rate.append(val_counts[1] / (val_counts[1] + val_counts[0]) * 100)\n",
    "\n",
    "plt.figure(figsize = (16,8))\n",
    "ax = sns.lineplot(x = cashback, y = churn_rate)\n",
    "ax.set_xticks(cashback);\n",
    "ax.set_ylabel('Churn rate')\n",
    "ax.set_xlabel('cashback');\n",
    "ax.set_title('Minimal cashback 240 adalah nilai yang paling tepat untuk menurunkan churn rate dan tidak membuang uang');"
   ]
  },
  {
   "cell_type": "markdown",
   "id": "998960be",
   "metadata": {},
   "source": [
    "### Persentase customer dengan cashback minimal 240"
   ]
  },
  {
   "cell_type": "code",
   "execution_count": 42,
   "id": "a4eac50d",
   "metadata": {},
   "outputs": [
    {
     "data": {
      "text/plain": [
       "11.918294849023091"
      ]
     },
     "execution_count": 42,
     "metadata": {},
     "output_type": "execute_result"
    }
   ],
   "source": [
    "(df[df['CashbackAmount'] >= 240]['Churn'].shape[0] / df.shape[0]) * 100"
   ]
  },
  {
   "cell_type": "markdown",
   "id": "6f2e844f",
   "metadata": {},
   "source": [
    "## Tenure"
   ]
  },
  {
   "cell_type": "markdown",
   "id": "cc15b9e5",
   "metadata": {},
   "source": [
    "### Churn rate customer dengan tenure 0 bulan"
   ]
  },
  {
   "cell_type": "code",
   "execution_count": 24,
   "id": "899d5105",
   "metadata": {},
   "outputs": [
    {
     "data": {
      "text/plain": [
       "53.54330708661418"
      ]
     },
     "execution_count": 24,
     "metadata": {},
     "output_type": "execute_result"
    }
   ],
   "source": [
    "cr(df[df['Tenure'] == 0]['Churn'].value_counts())"
   ]
  },
  {
   "cell_type": "markdown",
   "id": "342c1d23",
   "metadata": {},
   "source": [
    "### Churn rate customer dengan tenure lebih kecil dari 2 bulan"
   ]
  },
  {
   "cell_type": "code",
   "execution_count": 25,
   "id": "9e063fc7",
   "metadata": {},
   "outputs": [
    {
     "data": {
      "text/plain": [
       "51.83639398998331"
      ]
     },
     "execution_count": 25,
     "metadata": {},
     "output_type": "execute_result"
    }
   ],
   "source": [
    "cr(df[df['Tenure'] < 2]['Churn'].value_counts())"
   ]
  },
  {
   "cell_type": "markdown",
   "id": "e9d17012",
   "metadata": {},
   "source": [
    "### Churn rate customer dengan tenure minimal 2 bulan"
   ]
  },
  {
   "cell_type": "code",
   "execution_count": 23,
   "id": "7cd16373",
   "metadata": {},
   "outputs": [
    {
     "data": {
      "text/plain": [
       "5.902111324376199"
      ]
     },
     "execution_count": 23,
     "metadata": {},
     "output_type": "execute_result"
    }
   ],
   "source": [
    "cr(df[df['Tenure'] >= 2]['Churn'].value_counts())"
   ]
  },
  {
   "cell_type": "markdown",
   "id": "daae317d",
   "metadata": {},
   "source": [
    "### Total churn customer dengan tenure dibawah 2 bulan dibanding total churn customer"
   ]
  },
  {
   "cell_type": "code",
   "execution_count": 29,
   "id": "44294ce0",
   "metadata": {},
   "outputs": [
    {
     "data": {
      "text/plain": [
       "65.50632911392405"
      ]
     },
     "execution_count": 29,
     "metadata": {},
     "output_type": "execute_result"
    }
   ],
   "source": [
    "(df[df['Tenure'] < 2]['Churn'].value_counts()[1] / df['Churn'].value_counts()[1]) * 100"
   ]
  },
  {
   "cell_type": "markdown",
   "id": "e3aefdc7",
   "metadata": {},
   "source": [
    "65.5% customer yang churn berasal dari customer yang memiliki tenure dibawah 2 bulan"
   ]
  },
  {
   "cell_type": "code",
   "execution_count": 30,
   "id": "58db6913",
   "metadata": {},
   "outputs": [
    {
     "data": {
      "image/png": "[encoded data removed]",
      "text/plain": [
       "<Figure size 432x288 with 1 Axes>"
      ]
     },
     "metadata": {
      "needs_background": "light"
     },
     "output_type": "display_data"
    }
   ],
   "source": [
    "tenure = [i for i in range(21)]\n",
    "churn_rate = []\n",
    "\n",
    "for i in tenure:\n",
    "    val_counts = df[df['Tenure'] >= i]['Churn'].value_counts()\n",
    "#     print(val_counts)\n",
    "    churn_rate.append(val_counts[1] / (val_counts[1] + val_counts[0]) * 100)\n",
    "\n",
    "ax = sns.lineplot(x = tenure, y = churn_rate)\n",
    "ax.set_xticks(tenure);\n",
    "ax.set_ylabel('Churn rate')\n",
    "ax.set_xlabel('Tenure');"
   ]
  },
  {
   "cell_type": "markdown",
   "id": "86607e1e",
   "metadata": {},
   "source": [
    "Dapat terlihat bahwa setelah 2 bulan penurunan churn rate sudah tidak signifikan"
   ]
  },
  {
   "cell_type": "markdown",
   "id": "6ba4bd1a",
   "metadata": {},
   "source": [
    "### Persentase customer dengan tenure minimal 2 bulan"
   ]
  },
  {
   "cell_type": "code",
   "execution_count": 45,
   "id": "bc9ac7d9",
   "metadata": {},
   "outputs": [
    {
     "data": {
      "text/plain": [
       "74.03197158081704"
      ]
     },
     "execution_count": 45,
     "metadata": {},
     "output_type": "execute_result"
    }
   ],
   "source": [
    "(df[df['Tenure'] >= 2]['Churn'].shape[0] / df.shape[0]) * 100"
   ]
  },
  {
   "cell_type": "markdown",
   "id": "491628f5",
   "metadata": {},
   "source": [
    "# Wanita yang sudah menikah dan berasal dari City tier 1"
   ]
  },
  {
   "cell_type": "code",
   "execution_count": 53,
   "id": "f77f7ab0",
   "metadata": {},
   "outputs": [],
   "source": [
    "df_fmc = df[(df['Gender'] == 'Female') & (df['CityTier'] == 1) & (df['MaritalStatus'] == 'Married')]"
   ]
  },
  {
   "cell_type": "code",
   "execution_count": 54,
   "id": "a556d857",
   "metadata": {},
   "outputs": [
    {
     "data": {
      "text/plain": [
       "13.108348134991118"
      ]
     },
     "execution_count": 54,
     "metadata": {},
     "output_type": "execute_result"
    }
   ],
   "source": [
    "(df_fmc.shape[0] / df.shape[0]) *100"
   ]
  },
  {
   "cell_type": "code",
   "execution_count": 55,
   "id": "c91308ee",
   "metadata": {},
   "outputs": [],
   "source": [
    "cat = []\n",
    "num = []\n",
    "\n",
    "for col in df.columns:\n",
    "    if df[col].dtype ==  'O':\n",
    "        cat.append(col)\n",
    "    else:\n",
    "        num.append(col)"
   ]
  },
  {
   "cell_type": "code",
   "execution_count": 56,
   "id": "04b01694",
   "metadata": {},
   "outputs": [
    {
     "data": {
      "text/html": [
       "<div>\n",
       "<style scoped>\n",
       "    .dataframe tbody tr th:only-of-type {\n",
       "        vertical-align: middle;\n",
       "    }\n",
       "\n",
       "    .dataframe tbody tr th {\n",
       "        vertical-align: top;\n",
       "    }\n",
       "\n",
       "    .dataframe thead th {\n",
       "        text-align: right;\n",
       "    }\n",
       "</style>\n",
       "<table border=\"1\" class=\"dataframe\">\n",
       "  <thead>\n",
       "    <tr style=\"text-align: right;\">\n",
       "      <th></th>\n",
       "      <th>PreferredLoginDevice</th>\n",
       "      <th>PreferredPaymentMode</th>\n",
       "      <th>Gender</th>\n",
       "      <th>PreferedOrderCat</th>\n",
       "      <th>MaritalStatus</th>\n",
       "    </tr>\n",
       "  </thead>\n",
       "  <tbody>\n",
       "    <tr>\n",
       "      <th>count</th>\n",
       "      <td>738</td>\n",
       "      <td>738</td>\n",
       "      <td>738</td>\n",
       "      <td>738</td>\n",
       "      <td>738</td>\n",
       "    </tr>\n",
       "    <tr>\n",
       "      <th>unique</th>\n",
       "      <td>3</td>\n",
       "      <td>6</td>\n",
       "      <td>1</td>\n",
       "      <td>6</td>\n",
       "      <td>1</td>\n",
       "    </tr>\n",
       "    <tr>\n",
       "      <th>top</th>\n",
       "      <td>Mobile Phone</td>\n",
       "      <td>Debit Card</td>\n",
       "      <td>Female</td>\n",
       "      <td>Laptop &amp; Accessory</td>\n",
       "      <td>Married</td>\n",
       "    </tr>\n",
       "    <tr>\n",
       "      <th>freq</th>\n",
       "      <td>381</td>\n",
       "      <td>310</td>\n",
       "      <td>738</td>\n",
       "      <td>242</td>\n",
       "      <td>738</td>\n",
       "    </tr>\n",
       "  </tbody>\n",
       "</table>\n",
       "</div>"
      ],
      "text/plain": [
       "       PreferredLoginDevice PreferredPaymentMode  Gender    PreferedOrderCat  \\\n",
       "count                   738                  738     738                 738   \n",
       "unique                    3                    6       1                   6   \n",
       "top            Mobile Phone           Debit Card  Female  Laptop & Accessory   \n",
       "freq                    381                  310     738                 242   \n",
       "\n",
       "       MaritalStatus  \n",
       "count            738  \n",
       "unique             1  \n",
       "top          Married  \n",
       "freq             738  "
      ]
     },
     "execution_count": 56,
     "metadata": {},
     "output_type": "execute_result"
    }
   ],
   "source": [
    "df_fmc[cat].describe()"
   ]
  },
  {
   "cell_type": "code",
   "execution_count": 57,
   "id": "0ab301b8",
   "metadata": {},
   "outputs": [
    {
     "data": {
      "text/html": [
       "<div>\n",
       "<style scoped>\n",
       "    .dataframe tbody tr th:only-of-type {\n",
       "        vertical-align: middle;\n",
       "    }\n",
       "\n",
       "    .dataframe tbody tr th {\n",
       "        vertical-align: top;\n",
       "    }\n",
       "\n",
       "    .dataframe thead th {\n",
       "        text-align: right;\n",
       "    }\n",
       "</style>\n",
       "<table border=\"1\" class=\"dataframe\">\n",
       "  <thead>\n",
       "    <tr style=\"text-align: right;\">\n",
       "      <th></th>\n",
       "      <th>CustomerID</th>\n",
       "      <th>Churn</th>\n",
       "      <th>Tenure</th>\n",
       "      <th>CityTier</th>\n",
       "      <th>WarehouseToHome</th>\n",
       "      <th>HourSpendOnApp</th>\n",
       "      <th>NumberOfDeviceRegistered</th>\n",
       "      <th>SatisfactionScore</th>\n",
       "      <th>NumberOfAddress</th>\n",
       "      <th>Complain</th>\n",
       "      <th>OrderAmountHikeFromlastYear</th>\n",
       "      <th>CouponUsed</th>\n",
       "      <th>OrderCount</th>\n",
       "      <th>DaySinceLastOrder</th>\n",
       "      <th>CashbackAmount</th>\n",
       "      <th>Total Pembelian</th>\n",
       "    </tr>\n",
       "  </thead>\n",
       "  <tbody>\n",
       "    <tr>\n",
       "      <th>count</th>\n",
       "      <td>738.000000</td>\n",
       "      <td>738.000000</td>\n",
       "      <td>707.000000</td>\n",
       "      <td>738.0</td>\n",
       "      <td>707.000000</td>\n",
       "      <td>705.000000</td>\n",
       "      <td>738.000000</td>\n",
       "      <td>738.000000</td>\n",
       "      <td>738.000000</td>\n",
       "      <td>738.000000</td>\n",
       "      <td>705.000000</td>\n",
       "      <td>694.000000</td>\n",
       "      <td>690.000000</td>\n",
       "      <td>694.000000</td>\n",
       "      <td>738.000000</td>\n",
       "      <td>690.000000</td>\n",
       "    </tr>\n",
       "    <tr>\n",
       "      <th>mean</th>\n",
       "      <td>53097.188347</td>\n",
       "      <td>0.078591</td>\n",
       "      <td>11.971711</td>\n",
       "      <td>1.0</td>\n",
       "      <td>15.717115</td>\n",
       "      <td>2.990071</td>\n",
       "      <td>3.716802</td>\n",
       "      <td>3.205962</td>\n",
       "      <td>4.388889</td>\n",
       "      <td>0.289973</td>\n",
       "      <td>15.756028</td>\n",
       "      <td>1.891931</td>\n",
       "      <td>3.256522</td>\n",
       "      <td>4.737752</td>\n",
       "      <td>179.759675</td>\n",
       "      <td>31249.442754</td>\n",
       "    </tr>\n",
       "    <tr>\n",
       "      <th>std</th>\n",
       "      <td>1572.744961</td>\n",
       "      <td>0.269282</td>\n",
       "      <td>8.614619</td>\n",
       "      <td>0.0</td>\n",
       "      <td>8.293434</td>\n",
       "      <td>0.727826</td>\n",
       "      <td>1.040439</td>\n",
       "      <td>1.402021</td>\n",
       "      <td>2.533196</td>\n",
       "      <td>0.454057</td>\n",
       "      <td>3.759087</td>\n",
       "      <td>2.026838</td>\n",
       "      <td>3.195515</td>\n",
       "      <td>3.916567</td>\n",
       "      <td>52.748229</td>\n",
       "      <td>37950.521310</td>\n",
       "    </tr>\n",
       "    <tr>\n",
       "      <th>min</th>\n",
       "      <td>50051.000000</td>\n",
       "      <td>0.000000</td>\n",
       "      <td>0.000000</td>\n",
       "      <td>1.0</td>\n",
       "      <td>6.000000</td>\n",
       "      <td>0.000000</td>\n",
       "      <td>1.000000</td>\n",
       "      <td>1.000000</td>\n",
       "      <td>1.000000</td>\n",
       "      <td>0.000000</td>\n",
       "      <td>11.000000</td>\n",
       "      <td>0.000000</td>\n",
       "      <td>1.000000</td>\n",
       "      <td>0.000000</td>\n",
       "      <td>0.000000</td>\n",
       "      <td>0.000000</td>\n",
       "    </tr>\n",
       "    <tr>\n",
       "      <th>25%</th>\n",
       "      <td>51758.250000</td>\n",
       "      <td>0.000000</td>\n",
       "      <td>5.000000</td>\n",
       "      <td>1.0</td>\n",
       "      <td>9.000000</td>\n",
       "      <td>3.000000</td>\n",
       "      <td>3.000000</td>\n",
       "      <td>3.000000</td>\n",
       "      <td>2.000000</td>\n",
       "      <td>0.000000</td>\n",
       "      <td>13.000000</td>\n",
       "      <td>1.000000</td>\n",
       "      <td>1.000000</td>\n",
       "      <td>2.000000</td>\n",
       "      <td>145.357500</td>\n",
       "      <td>8276.875000</td>\n",
       "    </tr>\n",
       "    <tr>\n",
       "      <th>50%</th>\n",
       "      <td>52835.000000</td>\n",
       "      <td>0.000000</td>\n",
       "      <td>11.000000</td>\n",
       "      <td>1.0</td>\n",
       "      <td>14.000000</td>\n",
       "      <td>3.000000</td>\n",
       "      <td>4.000000</td>\n",
       "      <td>3.000000</td>\n",
       "      <td>4.000000</td>\n",
       "      <td>0.000000</td>\n",
       "      <td>14.000000</td>\n",
       "      <td>1.000000</td>\n",
       "      <td>2.000000</td>\n",
       "      <td>3.000000</td>\n",
       "      <td>163.870000</td>\n",
       "      <td>16257.500000</td>\n",
       "    </tr>\n",
       "    <tr>\n",
       "      <th>75%</th>\n",
       "      <td>54572.750000</td>\n",
       "      <td>0.000000</td>\n",
       "      <td>18.000000</td>\n",
       "      <td>1.0</td>\n",
       "      <td>21.000000</td>\n",
       "      <td>3.000000</td>\n",
       "      <td>4.000000</td>\n",
       "      <td>4.000000</td>\n",
       "      <td>6.000000</td>\n",
       "      <td>1.000000</td>\n",
       "      <td>19.000000</td>\n",
       "      <td>2.000000</td>\n",
       "      <td>4.000000</td>\n",
       "      <td>8.000000</td>\n",
       "      <td>204.960000</td>\n",
       "      <td>36066.000000</td>\n",
       "    </tr>\n",
       "    <tr>\n",
       "      <th>max</th>\n",
       "      <td>55619.000000</td>\n",
       "      <td>1.000000</td>\n",
       "      <td>31.000000</td>\n",
       "      <td>1.0</td>\n",
       "      <td>36.000000</td>\n",
       "      <td>4.000000</td>\n",
       "      <td>6.000000</td>\n",
       "      <td>5.000000</td>\n",
       "      <td>11.000000</td>\n",
       "      <td>1.000000</td>\n",
       "      <td>26.000000</td>\n",
       "      <td>14.000000</td>\n",
       "      <td>16.000000</td>\n",
       "      <td>31.000000</td>\n",
       "      <td>324.730000</td>\n",
       "      <td>256360.000000</td>\n",
       "    </tr>\n",
       "  </tbody>\n",
       "</table>\n",
       "</div>"
      ],
      "text/plain": [
       "         CustomerID       Churn      Tenure  CityTier  WarehouseToHome  \\\n",
       "count    738.000000  738.000000  707.000000     738.0       707.000000   \n",
       "mean   53097.188347    0.078591   11.971711       1.0        15.717115   \n",
       "std     1572.744961    0.269282    8.614619       0.0         8.293434   \n",
       "min    50051.000000    0.000000    0.000000       1.0         6.000000   \n",
       "25%    51758.250000    0.000000    5.000000       1.0         9.000000   \n",
       "50%    52835.000000    0.000000   11.000000       1.0        14.000000   \n",
       "75%    54572.750000    0.000000   18.000000       1.0        21.000000   \n",
       "max    55619.000000    1.000000   31.000000       1.0        36.000000   \n",
       "\n",
       "       HourSpendOnApp  NumberOfDeviceRegistered  SatisfactionScore  \\\n",
       "count      705.000000                738.000000         738.000000   \n",
       "mean         2.990071                  3.716802           3.205962   \n",
       "std          0.727826                  1.040439           1.402021   \n",
       "min          0.000000                  1.000000           1.000000   \n",
       "25%          3.000000                  3.000000           3.000000   \n",
       "50%          3.000000                  4.000000           3.000000   \n",
       "75%          3.000000                  4.000000           4.000000   \n",
       "max          4.000000                  6.000000           5.000000   \n",
       "\n",
       "       NumberOfAddress    Complain  OrderAmountHikeFromlastYear  CouponUsed  \\\n",
       "count       738.000000  738.000000                   705.000000  694.000000   \n",
       "mean          4.388889    0.289973                    15.756028    1.891931   \n",
       "std           2.533196    0.454057                     3.759087    2.026838   \n",
       "min           1.000000    0.000000                    11.000000    0.000000   \n",
       "25%           2.000000    0.000000                    13.000000    1.000000   \n",
       "50%           4.000000    0.000000                    14.000000    1.000000   \n",
       "75%           6.000000    1.000000                    19.000000    2.000000   \n",
       "max          11.000000    1.000000                    26.000000   14.000000   \n",
       "\n",
       "       OrderCount  DaySinceLastOrder  CashbackAmount  Total Pembelian  \n",
       "count  690.000000         694.000000      738.000000       690.000000  \n",
       "mean     3.256522           4.737752      179.759675     31249.442754  \n",
       "std      3.195515           3.916567       52.748229     37950.521310  \n",
       "min      1.000000           0.000000        0.000000         0.000000  \n",
       "25%      1.000000           2.000000      145.357500      8276.875000  \n",
       "50%      2.000000           3.000000      163.870000     16257.500000  \n",
       "75%      4.000000           8.000000      204.960000     36066.000000  \n",
       "max     16.000000          31.000000      324.730000    256360.000000  "
      ]
     },
     "execution_count": 57,
     "metadata": {},
     "output_type": "execute_result"
    }
   ],
   "source": [
    "df_fmc.describe()"
   ]
  },
  {
   "cell_type": "code",
   "execution_count": 64,
   "id": "5c1bfeef",
   "metadata": {},
   "outputs": [
    {
     "data": {
      "text/plain": [
       "13.970590457765276"
      ]
     },
     "execution_count": 64,
     "metadata": {},
     "output_type": "execute_result"
    }
   ],
   "source": [
    "(df_fmc['Total Pembelian'].sum() / df['Total Pembelian'].sum()) * 100"
   ]
  },
  {
   "cell_type": "code",
   "execution_count": 63,
   "id": "9f6261fc",
   "metadata": {},
   "outputs": [
    {
     "data": {
      "text/plain": [
       "154339328.5"
      ]
     },
     "execution_count": 63,
     "metadata": {},
     "output_type": "execute_result"
    }
   ],
   "source": [
    "df['Total Pembelian'].sum()"
   ]
  },
  {
   "cell_type": "code",
   "execution_count": 65,
   "id": "0a9ddc47",
   "metadata": {},
   "outputs": [
    {
     "data": {
      "text/plain": [
       "['PreferredLoginDevice',\n",
       " 'PreferredPaymentMode',\n",
       " 'Gender',\n",
       " 'PreferedOrderCat',\n",
       " 'MaritalStatus']"
      ]
     },
     "execution_count": 65,
     "metadata": {},
     "output_type": "execute_result"
    }
   ],
   "source": [
    "cat"
   ]
  },
  {
   "cell_type": "code",
   "execution_count": null,
   "id": "8930df6a",
   "metadata": {},
   "outputs": [],
   "source": []
  }
 ],
 "metadata": {
  "kernelspec": {
   "display_name": "Python 3 (ipykernel)",
   "language": "python",
   "name": "python3"
  },
  "language_info": {
   "codemirror_mode": {
    "name": "ipython",
    "version": 3
   },
   "file_extension": ".py",
   "mimetype": "text/x-python",
   "name": "python",
   "nbconvert_exporter": "python",
   "pygments_lexer": "ipython3",
   "version": "3.8.10"
  }
 },
 "nbformat": 4,
 "nbformat_minor": 5
}
