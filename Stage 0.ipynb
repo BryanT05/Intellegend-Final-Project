{
 "cells": [
  {
   "cell_type": "markdown",
   "id": "589a3677",
   "metadata": {},
   "source": [
    "# Latar Belakang"
   ]
  },
  {
   "cell_type": "code",
   "execution_count": 2,
   "id": "e516a375",
   "metadata": {},
   "outputs": [
    {
     "name": "stdout",
     "output_type": "stream",
     "text": [
      "Collecting notebook-as-pdf\n",
      "  Downloading notebook_as_pdf-0.5.0-py3-none-any.whl (6.5 kB)\n",
      "Collecting PyPDF2\n",
      "  Downloading PyPDF2-1.26.0.tar.gz (77 kB)\n",
      "Collecting pyppeteer\n",
      "  Downloading pyppeteer-1.0.2-py3-none-any.whl (83 kB)\n",
      "Requirement already satisfied: nbconvert in c:\\users\\dell\\appdata\\local\\programs\\python\\python38\\lib\\site-packages (from notebook-as-pdf) (6.3.0)\n",
      "Requirement already satisfied: bleach in c:\\users\\dell\\appdata\\local\\programs\\python\\python38\\lib\\site-packages (from nbconvert->notebook-as-pdf) (4.1.0)\n",
      "Requirement already satisfied: pandocfilters>=1.4.1 in c:\\users\\dell\\appdata\\local\\programs\\python\\python38\\lib\\site-packages (from nbconvert->notebook-as-pdf) (1.5.0)\n",
      "Requirement already satisfied: entrypoints>=0.2.2 in c:\\users\\dell\\appdata\\local\\programs\\python\\python38\\lib\\site-packages (from nbconvert->notebook-as-pdf) (0.3)\n",
      "Requirement already satisfied: jupyterlab-pygments in c:\\users\\dell\\appdata\\local\\programs\\python\\python38\\lib\\site-packages (from nbconvert->notebook-as-pdf) (0.1.2)\n",
      "Requirement already satisfied: testpath in c:\\users\\dell\\appdata\\local\\programs\\python\\python38\\lib\\site-packages (from nbconvert->notebook-as-pdf) (0.5.0)\n",
      "Requirement already satisfied: jupyter-core in c:\\users\\dell\\appdata\\local\\programs\\python\\python38\\lib\\site-packages (from nbconvert->notebook-as-pdf) (4.9.1)\n",
      "Requirement already satisfied: defusedxml in c:\\users\\dell\\appdata\\local\\programs\\python\\python38\\lib\\site-packages (from nbconvert->notebook-as-pdf) (0.7.1)\n",
      "Requirement already satisfied: pygments>=2.4.1 in c:\\users\\dell\\appdata\\local\\programs\\python\\python38\\lib\\site-packages (from nbconvert->notebook-as-pdf) (2.10.0)\n",
      "Requirement already satisfied: nbclient<0.6.0,>=0.5.0 in c:\\users\\dell\\appdata\\local\\programs\\python\\python38\\lib\\site-packages (from nbconvert->notebook-as-pdf) (0.5.9)\n",
      "Requirement already satisfied: nbformat>=4.4 in c:\\users\\dell\\appdata\\local\\programs\\python\\python38\\lib\\site-packages (from nbconvert->notebook-as-pdf) (5.1.3)\n",
      "Requirement already satisfied: traitlets>=5.0 in c:\\users\\dell\\appdata\\local\\programs\\python\\python38\\lib\\site-packages (from nbconvert->notebook-as-pdf) (5.1.1)\n",
      "Requirement already satisfied: mistune<2,>=0.8.1 in c:\\users\\dell\\appdata\\local\\programs\\python\\python38\\lib\\site-packages (from nbconvert->notebook-as-pdf) (0.8.4)\n",
      "Requirement already satisfied: jinja2>=2.4 in c:\\users\\dell\\appdata\\local\\programs\\python\\python38\\lib\\site-packages (from nbconvert->notebook-as-pdf) (3.0.3)\n",
      "Requirement already satisfied: MarkupSafe>=2.0 in c:\\users\\dell\\appdata\\local\\programs\\python\\python38\\lib\\site-packages (from jinja2>=2.4->nbconvert->notebook-as-pdf) (2.0.1)\n",
      "Requirement already satisfied: jupyter-client>=6.1.5 in c:\\users\\dell\\appdata\\local\\programs\\python\\python38\\lib\\site-packages (from nbclient<0.6.0,>=0.5.0->nbconvert->notebook-as-pdf) (7.1.0)\n",
      "Requirement already satisfied: nest-asyncio in c:\\users\\dell\\appdata\\local\\programs\\python\\python38\\lib\\site-packages (from nbclient<0.6.0,>=0.5.0->nbconvert->notebook-as-pdf) (1.5.4)\n",
      "Requirement already satisfied: pyzmq>=13 in c:\\users\\dell\\appdata\\local\\programs\\python\\python38\\lib\\site-packages (from jupyter-client>=6.1.5->nbclient<0.6.0,>=0.5.0->nbconvert->notebook-as-pdf) (22.3.0)\n",
      "Requirement already satisfied: tornado>=4.1 in c:\\users\\dell\\appdata\\local\\programs\\python\\python38\\lib\\site-packages (from jupyter-client>=6.1.5->nbclient<0.6.0,>=0.5.0->nbconvert->notebook-as-pdf) (6.1)\n",
      "Requirement already satisfied: python-dateutil>=2.1 in c:\\users\\dell\\appdata\\local\\programs\\python\\python38\\lib\\site-packages (from jupyter-client>=6.1.5->nbclient<0.6.0,>=0.5.0->nbconvert->notebook-as-pdf) (2.8.2)\n",
      "Requirement already satisfied: pywin32>=1.0 in c:\\users\\dell\\appdata\\local\\programs\\python\\python38\\lib\\site-packages (from jupyter-core->nbconvert->notebook-as-pdf) (303)\n",
      "Requirement already satisfied: jsonschema!=2.5.0,>=2.4 in c:\\users\\dell\\appdata\\local\\programs\\python\\python38\\lib\\site-packages (from nbformat>=4.4->nbconvert->notebook-as-pdf) (4.3.2)\n",
      "Requirement already satisfied: ipython-genutils in c:\\users\\dell\\appdata\\local\\programs\\python\\python38\\lib\\site-packages (from nbformat>=4.4->nbconvert->notebook-as-pdf) (0.2.0)\n",
      "Requirement already satisfied: attrs>=17.4.0 in c:\\users\\dell\\appdata\\local\\programs\\python\\python38\\lib\\site-packages (from jsonschema!=2.5.0,>=2.4->nbformat>=4.4->nbconvert->notebook-as-pdf) (21.3.0)\n",
      "Requirement already satisfied: pyrsistent!=0.17.0,!=0.17.1,!=0.17.2,>=0.14.0 in c:\\users\\dell\\appdata\\local\\programs\\python\\python38\\lib\\site-packages (from jsonschema!=2.5.0,>=2.4->nbformat>=4.4->nbconvert->notebook-as-pdf) (0.18.0)\n",
      "Requirement already satisfied: importlib-resources>=1.4.0 in c:\\users\\dell\\appdata\\local\\programs\\python\\python38\\lib\\site-packages (from jsonschema!=2.5.0,>=2.4->nbformat>=4.4->nbconvert->notebook-as-pdf) (5.4.0)\n",
      "Requirement already satisfied: zipp>=3.1.0 in c:\\users\\dell\\appdata\\local\\programs\\python\\python38\\lib\\site-packages (from importlib-resources>=1.4.0->jsonschema!=2.5.0,>=2.4->nbformat>=4.4->nbconvert->notebook-as-pdf) (3.6.0)\n",
      "Requirement already satisfied: six>=1.5 in c:\\users\\dell\\appdata\\local\\programs\\python\\python38\\lib\\site-packages (from python-dateutil>=2.1->jupyter-client>=6.1.5->nbclient<0.6.0,>=0.5.0->nbconvert->notebook-as-pdf) (1.16.0)Note: you may need to restart the kernel to use updated packages.\n"
     ]
    },
    {
     "name": "stderr",
     "output_type": "stream",
     "text": [
      "WARNING: You are using pip version 21.1.1; however, version 21.3.1 is available.\n",
      "You should consider upgrading via the 'c:\\users\\dell\\appdata\\local\\programs\\python\\python38\\python.exe -m pip install --upgrade pip' command.\n"
     ]
    },
    {
     "name": "stdout",
     "output_type": "stream",
     "text": [
      "\n",
      "Requirement already satisfied: packaging in c:\\users\\dell\\appdata\\local\\programs\\python\\python38\\lib\\site-packages (from bleach->nbconvert->notebook-as-pdf) (21.3)\n",
      "Requirement already satisfied: webencodings in c:\\users\\dell\\appdata\\local\\programs\\python\\python38\\lib\\site-packages (from bleach->nbconvert->notebook-as-pdf) (0.5.1)\n",
      "Requirement already satisfied: pyparsing!=3.0.5,>=2.0.2 in c:\\users\\dell\\appdata\\local\\programs\\python\\python38\\lib\\site-packages (from packaging->bleach->nbconvert->notebook-as-pdf) (3.0.6)\n",
      "Requirement already satisfied: certifi>=2021 in c:\\users\\dell\\appdata\\local\\programs\\python\\python38\\lib\\site-packages (from pyppeteer->notebook-as-pdf) (2021.10.8)\n",
      "Requirement already satisfied: importlib-metadata>=1.4 in c:\\users\\dell\\appdata\\local\\programs\\python\\python38\\lib\\site-packages (from pyppeteer->notebook-as-pdf) (4.8.2)\n",
      "Requirement already satisfied: tqdm<5.0.0,>=4.42.1 in c:\\users\\dell\\appdata\\local\\programs\\python\\python38\\lib\\site-packages (from pyppeteer->notebook-as-pdf) (4.62.3)\n",
      "Requirement already satisfied: urllib3<2.0.0,>=1.25.8 in c:\\users\\dell\\appdata\\local\\programs\\python\\python38\\lib\\site-packages (from pyppeteer->notebook-as-pdf) (1.26.7)\n",
      "Collecting appdirs<2.0.0,>=1.4.3\n",
      "  Downloading appdirs-1.4.4-py2.py3-none-any.whl (9.6 kB)\n",
      "Collecting pyee<9.0.0,>=8.1.0\n",
      "  Downloading pyee-8.2.2-py2.py3-none-any.whl (12 kB)\n",
      "Collecting websockets<11.0,>=10.0\n",
      "  Downloading websockets-10.1-cp38-cp38-win_amd64.whl (97 kB)\n",
      "Requirement already satisfied: colorama in c:\\users\\dell\\appdata\\local\\programs\\python\\python38\\lib\\site-packages (from tqdm<5.0.0,>=4.42.1->pyppeteer->notebook-as-pdf) (0.4.4)\n",
      "Building wheels for collected packages: PyPDF2\n",
      "  Building wheel for PyPDF2 (setup.py): started\n",
      "  Building wheel for PyPDF2 (setup.py): finished with status 'done'\n",
      "  Created wheel for PyPDF2: filename=PyPDF2-1.26.0-py3-none-any.whl size=61085 sha256=4163a7aa2774a6c55d2128dfe0ea6593de8315f166eeb641baf2b33efe71864f\n",
      "  Stored in directory: c:\\users\\dell\\appdata\\local\\pip\\cache\\wheels\\b1\\1a\\8f\\a4c34be976825a2f7948d0fa40907598d69834f8ab5889de11\n",
      "Successfully built PyPDF2\n",
      "Installing collected packages: websockets, pyee, appdirs, pyppeteer, PyPDF2, notebook-as-pdf\n",
      "Successfully installed PyPDF2-1.26.0 appdirs-1.4.4 notebook-as-pdf-0.5.0 pyee-8.2.2 pyppeteer-1.0.2 websockets-10.1\n"
     ]
    }
   ],
   "source": [
    "pip install -U notebook-as-pdf"
   ]
  },
  {
   "cell_type": "markdown",
   "id": "520af0cb",
   "metadata": {},
   "source": [
    "# Problem Statement"
   ]
  },
  {
   "cell_type": "markdown",
   "id": "6d5285b9",
   "metadata": {},
   "source": [
    "Belanja online telah menjadi kebiasaan baru di masa kini, lebih dari 80% pengguna internet di dunia telah berbelanja produk online. Adanya perkembangan tersebut menyebabkan persaingan yang ketat diantara E-commerce. Persaingan tersebut diantaranya untuk menarik pembeli dan membuat mereka nyaman sehingga akan menjadi pelanggan.\n",
    "\n",
    "Dari dataset yang dimiliki terdapat 16.83% Customer churn yang akan mengakibatkan kerugian. Hal ini dikarenakan biaya untuk mempertahankan customer lebih kecil 5 kali lipat dibanding biaya untuk mencari customer baru."
   ]
  },
  {
   "cell_type": "markdown",
   "id": "38582eba",
   "metadata": {},
   "source": [
    "# Role"
   ]
  },
  {
   "cell_type": "markdown",
   "id": "14a5cc74",
   "metadata": {},
   "source": [
    "Sebagai tim analis dari sebuah perusahaan consultant yang bergerak dalam bidang bisnis khususnya di data science, kami akan menganalisa data E-commerce yang telah diberikan dan memberikan solusi serta saran yang paling tepat untuk mencegah terjadinya churn dari customer."
   ]
  },
  {
   "cell_type": "markdown",
   "id": "8bae5051",
   "metadata": {},
   "source": [
    "# Goal"
   ]
  },
  {
   "cell_type": "markdown",
   "id": "61852832",
   "metadata": {},
   "source": [
    "Tujuan kami adalah menemukan insight yang dapat digunakan sebagai solusi dan saran untuk mengurangi serta mencegah terjadinya churn dari customer."
   ]
  },
  {
   "cell_type": "markdown",
   "id": "1ae4f4a6",
   "metadata": {},
   "source": [
    "# Objective"
   ]
  },
  {
   "cell_type": "markdown",
   "id": "fdd1e725",
   "metadata": {},
   "source": [
    "sasaran akhir dari project ini adalah menganalisa data untuk menemukan insight serta membuat model machine learning yang dapat memprediksi apakah customer akan churn, sehingga dapat dijadikan panduan untuk mengambil solusi dan kesimpulan dalam mengurangi churn customer."
   ]
  },
  {
   "cell_type": "markdown",
   "id": "a94abff0",
   "metadata": {},
   "source": [
    "# Business Metrics"
   ]
  },
  {
   "cell_type": "markdown",
   "id": "b0a91a58",
   "metadata": {},
   "source": [
    "Main metric = Customer Churn Rate\n",
    "\n",
    "secondary metric = Revenue growth & Profit margin"
   ]
  },
  {
   "cell_type": "markdown",
   "id": "fd55fe95",
   "metadata": {},
   "source": [
    "# Reference"
   ]
  },
  {
   "cell_type": "markdown",
   "id": "04190bad",
   "metadata": {},
   "source": [
    "- https://www.statista.com/statistics/1192578/worldwide-share-of-consumers-that-shop-online/#:~:text=In%202020%2C%20a%20total%20of,buying%20items%20on%20the%20internet. (persentase online shopping dunia)"
   ]
  },
  {
   "cell_type": "markdown",
   "id": "096da775",
   "metadata": {},
   "source": [
    "- [persentase online shopping dunia](https://www.statista.com/statistics/1192578/worldwide-share-of-consumers-that-shop-online/#:~:text=In%202020%2C%20a%20total%20of,buying%20items%20on%20the%20internet)"
   ]
  },
  {
   "cell_type": "code",
   "execution_count": null,
   "id": "36652711",
   "metadata": {},
   "outputs": [],
   "source": []
  }
 ],
 "metadata": {
  "kernelspec": {
   "display_name": "Python 3 (ipykernel)",
   "language": "python",
   "name": "python3"
  },
  "language_info": {
   "codemirror_mode": {
    "name": "ipython",
    "version": 3
   },
   "file_extension": ".py",
   "mimetype": "text/x-python",
   "name": "python",
   "nbconvert_exporter": "python",
   "pygments_lexer": "ipython3",
   "version": "3.8.10"
  }
 },
 "nbformat": 4,
 "nbformat_minor": 5
}
