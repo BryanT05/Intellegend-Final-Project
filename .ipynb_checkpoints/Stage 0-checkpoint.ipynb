{
 "cells": [
  {
   "cell_type": "markdown",
   "id": "589a3677",
   "metadata": {},
   "source": [
    "# Latar Belakang"
   ]
  },
  {
   "cell_type": "markdown",
   "id": "520af0cb",
   "metadata": {},
   "source": [
    "# Problem Statement"
   ]
  },
  {
   "cell_type": "markdown",
   "id": "6d5285b9",
   "metadata": {},
   "source": [
    "Belanja online telah menjadi kebiasaan baru di masa kini, lebih dari 80% pengguna internet di dunia telah berbelanja produk online. Adanya perkembangan tersebut menyebabkan persaingan yang ketat diantara E-commerce. Persaingan tersebut diantaranya untuk menarik pembeli dan membuat mereka nyaman sehingga akan menjadi pelanggan.\n",
    "\n",
    "Dari dataset yang dimiliki terdapat 16.83% Customer churn yang akan mengakibatkan kerugian. Hal ini dikarenakan biaya untuk mempertahankan customer lebih kecil 5 kali lipat dibanding biaya untuk mencari customer baru."
   ]
  },
  {
   "cell_type": "markdown",
   "id": "38582eba",
   "metadata": {},
   "source": [
    "# Role"
   ]
  },
  {
   "cell_type": "markdown",
   "id": "14a5cc74",
   "metadata": {},
   "source": [
    "Sebagai tim analis dari sebuah perusahaan consultant yang bergerak dalam bidang bisnis khususnya di data science, kami akan menganalisa data E-commerce yang telah diberikan dan memberikan solusi serta saran yang paling tepat untuk mencegah terjadinya churn dari customer."
   ]
  },
  {
   "cell_type": "markdown",
   "id": "8bae5051",
   "metadata": {},
   "source": [
    "# Goal"
   ]
  },
  {
   "cell_type": "markdown",
   "id": "61852832",
   "metadata": {},
   "source": [
    "Tujuan kami adalah menemukan insight yang dapat digunakan sebagai solusi dan saran untuk mengurangi serta mencegah terjadinya churn dari customer."
   ]
  },
  {
   "cell_type": "markdown",
   "id": "1ae4f4a6",
   "metadata": {},
   "source": [
    "# Objective"
   ]
  },
  {
   "cell_type": "markdown",
   "id": "fdd1e725",
   "metadata": {},
   "source": [
    "sasaran akhir dari project ini adalah menganalisa data untuk menemukan insight serta membuat model machine learning yang dapat memprediksi apakah customer akan churn, sehingga dapat dijadikan panduan untuk mengambil solusi dan kesimpulan dalam mengurangi churn customer."
   ]
  },
  {
   "cell_type": "markdown",
   "id": "a94abff0",
   "metadata": {},
   "source": [
    "# Business Metrics"
   ]
  },
  {
   "cell_type": "markdown",
   "id": "b0a91a58",
   "metadata": {},
   "source": [
    "Main metric = Customer Churn Rate\n",
    "\n",
    "secondary metric = Revenue growth & Profit margin"
   ]
  },
  {
   "cell_type": "markdown",
   "id": "fd55fe95",
   "metadata": {},
   "source": [
    "# Reference"
   ]
  },
  {
   "cell_type": "markdown",
   "id": "04190bad",
   "metadata": {},
   "source": [
    "- https://www.statista.com/statistics/1192578/worldwide-share-of-consumers-that-shop-online/#:~:text=In%202020%2C%20a%20total%20of,buying%20items%20on%20the%20internet. (persentase online shopping dunia)"
   ]
  },
  {
   "cell_type": "markdown",
   "id": "096da775",
   "metadata": {},
   "source": [
    "- [persentase online shopping dunia](https://www.statista.com/statistics/1192578/worldwide-share-of-consumers-that-shop-online/#:~:text=In%202020%2C%20a%20total%20of,buying%20items%20on%20the%20internet)"
   ]
  },
  {
   "cell_type": "code",
   "execution_count": null,
   "id": "36652711",
   "metadata": {},
   "outputs": [],
   "source": []
  }
 ],
 "metadata": {
  "kernelspec": {
   "display_name": "Python 3 (ipykernel)",
   "language": "python",
   "name": "python3"
  },
  "language_info": {
   "codemirror_mode": {
    "name": "ipython",
    "version": 3
   },
   "file_extension": ".py",
   "mimetype": "text/x-python",
   "name": "python",
   "nbconvert_exporter": "python",
   "pygments_lexer": "ipython3",
   "version": "3.8.10"
  }
 },
 "nbformat": 4,
 "nbformat_minor": 5
}
